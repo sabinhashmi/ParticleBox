{
 "cells": [
  {
   "cell_type": "code",
   "execution_count": 11,
   "metadata": {},
   "outputs": [],
   "source": [
    "#Calling out packages\n",
    "import pandas as pd\n",
    "import numpy as np\n",
    "import matplotlib.pyplot as plt\n",
    "import seaborn as sns\n",
    "from imblearn.over_sampling import SMOTE\n",
    "\n",
    "\n",
    "from sklearn.model_selection import train_test_split\n",
    "from sklearn.metrics import accuracy_score,confusion_matrix,roc_auc_score\n",
    "from sklearn.preprocessing import StandardScaler\n",
    "\n",
    "\n",
    "\n",
    "from sklearn.linear_model import LogisticRegressionCV\n",
    "from sklearn.naive_bayes import GaussianNB\n",
    "from sklearn.neighbors import KNeighborsClassifier\n",
    "from sklearn.tree import DecisionTreeClassifier\n",
    "from sklearn.ensemble import RandomForestClassifier\n",
    "from sklearn.ensemble import AdaBoostClassifier\n",
    "from sklearn.ensemble import BaggingClassifier\n",
    "from sklearn.ensemble import GradientBoostingClassifier\n",
    "from sklearn.neural_network import MLPClassifier\n",
    "\n",
    "ss=StandardScaler()\n",
    "smote=SMOTE()\n",
    "\n",
    "log=LogisticRegressionCV()\n",
    "nb=GaussianNB()\n",
    "knn=KNeighborsClassifier()\n",
    "dt=DecisionTreeClassifier()\n",
    "rf=RandomForestClassifier()\n",
    "adaboost=AdaBoostClassifier()\n",
    "bag=BaggingClassifier()\n",
    "grad=GradientBoostingClassifier()\n",
    "nn=MLPClassifier()\n",
    "\n",
    "models=[log,nb,knn,dt,rf,adaboost,bag,grad,nn]\n",
    "\n",
    "\n",
    "\n",
    "\n",
    "sns.set({'figure.figsize':(12,8)})\n",
    "import warnings\n",
    "warnings.filterwarnings('ignore')\n",
    "\n",
    "# import plotly.express as px\n",
    "import time\n",
    "\n",
    "%matplotlib inline"
   ]
  },
  {
   "cell_type": "code",
   "execution_count": 43,
   "metadata": {},
   "outputs": [],
   "source": [
    "data=pd.read_parquet('/home/hashmi/Files/UpgradeSeedClassifier/InitialAnalysis/data/true_no_hits_15114101.parquet')[['track_chi2PerDoF', 'track_nLHCbIDs','track_p', 'track_phi', \n",
    "                                              'track_position_x', 'track_position_y',\n",
    "                                              'track_tx', 'track_ty', 'track_pseudoRapidity',\n",
    "                                              'particle_isDown_noVelo']].sample(1000000)\n",
    "\n",
    "data['updated_track_postion_r']=np.sqrt((data['track_position_x']**2)+(data['track_position_y']**2))"
   ]
  },
  {
   "cell_type": "code",
   "execution_count": 44,
   "metadata": {},
   "outputs": [
    {
     "name": "stdout",
     "output_type": "stream",
     "text": [
      "<class 'pandas.core.frame.DataFrame'>\n",
      "Int64Index: 1000000 entries, 30 to 175\n",
      "Data columns (total 11 columns):\n",
      " #   Column                   Non-Null Count    Dtype  \n",
      "---  ------                   --------------    -----  \n",
      " 0   track_chi2PerDoF         1000000 non-null  float64\n",
      " 1   track_nLHCbIDs           1000000 non-null  float64\n",
      " 2   track_p                  1000000 non-null  float64\n",
      " 3   track_phi                1000000 non-null  float64\n",
      " 4   track_position_x         1000000 non-null  float64\n",
      " 5   track_position_y         1000000 non-null  float64\n",
      " 6   track_tx                 1000000 non-null  float64\n",
      " 7   track_ty                 1000000 non-null  float64\n",
      " 8   track_pseudoRapidity     1000000 non-null  float64\n",
      " 9   particle_isDown_noVelo   1000000 non-null  bool   \n",
      " 10  updated_track_postion_r  1000000 non-null  float64\n",
      "dtypes: bool(1), float64(10)\n",
      "memory usage: 84.9 MB\n"
     ]
    }
   ],
   "source": [
    "data.info()"
   ]
  },
  {
   "cell_type": "code",
   "execution_count": 45,
   "metadata": {},
   "outputs": [],
   "source": [
    "x=data.drop(['particle_isDown_noVelo'],axis=1).apply(pd.to_numeric,downcast='float')\n",
    "y=data['particle_isDown_noVelo']"
   ]
  },
  {
   "cell_type": "code",
   "execution_count": 46,
   "metadata": {},
   "outputs": [],
   "source": [
    "x,y=smote.fit_resample(x,y)"
   ]
  },
  {
   "cell_type": "code",
   "execution_count": 47,
   "metadata": {},
   "outputs": [],
   "source": [
    "x_train,x_test,y_train,y_test=train_test_split(x,y,test_size=0.2,random_state=1,stratify=y)\n",
    "# x_train=pd.DataFrame(ss.fit_transform(x_train),columns=x_train.columns)\n",
    "# x_test=pd.DataFrame(ss.transform(x_test),columns=x_test.columns)"
   ]
  },
  {
   "cell_type": "raw",
   "metadata": {},
   "source": [
    "%%time\n",
    "for model in models:\n",
    "    model.fit(x_train,y_train)\n",
    "    y_predict=model.predict(x_test)\n",
    "    print (f'Accuracy of the {model} is {round(accuracy_score(y_test,y_predict)*100,2)} %')\n",
    "\n",
    "\n",
    "Accuracy of the LogisticRegressionCV() is 61.24 %\n",
    "Accuracy of the GaussianNB() is 55.74 %\n",
    "Accuracy of the KNeighborsClassifier() is 78.5 %\n",
    "Accuracy of the DecisionTreeClassifier() is 82.1 %\n",
    "Accuracy of the RandomForestClassifier() is 89.36 %\n",
    "Accuracy of the AdaBoostClassifier() is 73.63 %\n",
    "Accuracy of the BaggingClassifier() is 86.74 %\n",
    "Accuracy of the GradientBoostingClassifier() is 75.55 %\n",
    "Accuracy of the MLPClassifier() is 77.49 %\n",
    "CPU times: user 1h 4min 57s, sys: 1h 6min 28s, total: 2h 11min 26s\n",
    "Wall time: 5min 19s"
   ]
  },
  {
   "cell_type": "code",
   "execution_count": 20,
   "metadata": {},
   "outputs": [],
   "source": [
    "rf.fit(x_train,y_train)\n",
    "y_predict=rf.predict(x_test)"
   ]
  },
  {
   "cell_type": "code",
   "execution_count": 21,
   "metadata": {},
   "outputs": [
    {
     "name": "stdout",
     "output_type": "stream",
     "text": [
      "Accuracy of the model is 88.56 %\n",
      "ROC AUC of the model is 88.56 %\n"
     ]
    },
    {
     "data": {
      "text/plain": [
       "array([[15849,  1431],\n",
       "       [ 2464, 14816]])"
      ]
     },
     "execution_count": 21,
     "metadata": {},
     "output_type": "execute_result"
    }
   ],
   "source": [
    "print (f'Accuracy of the model is {round(accuracy_score(y_test,y_predict)*100,2)} %')\n",
    "print (f'ROC AUC of the model is {round(roc_auc_score(y_test,y_predict)*100,2)} %')\n",
    "confusion_matrix(y_test,y_pred)"
   ]
  },
  {
   "cell_type": "code",
   "execution_count": 50,
   "metadata": {},
   "outputs": [],
   "source": [
    "rf=RandomForestClassifier(n_estimators=500,verbose=1,n_jobs=-1)"
   ]
  },
  {
   "cell_type": "code",
   "execution_count": 51,
   "metadata": {},
   "outputs": [
    {
     "name": "stderr",
     "output_type": "stream",
     "text": [
      "[Parallel(n_jobs=-1)]: Using backend ThreadingBackend with 40 concurrent workers.\n",
      "[Parallel(n_jobs=-1)]: Done 120 tasks      | elapsed:  1.0min\n",
      "[Parallel(n_jobs=-1)]: Done 370 tasks      | elapsed:  3.1min\n",
      "[Parallel(n_jobs=-1)]: Done 500 out of 500 | elapsed:  4.0min finished\n",
      "[Parallel(n_jobs=40)]: Using backend ThreadingBackend with 40 concurrent workers.\n",
      "[Parallel(n_jobs=40)]: Done 120 tasks      | elapsed:    1.5s\n",
      "[Parallel(n_jobs=40)]: Done 370 tasks      | elapsed:    4.1s\n",
      "[Parallel(n_jobs=40)]: Done 500 out of 500 | elapsed:    5.3s finished\n"
     ]
    }
   ],
   "source": [
    "rf.fit(x_train,y_train)\n",
    "y_predict=rf.predict(x_test)"
   ]
  },
  {
   "cell_type": "code",
   "execution_count": 53,
   "metadata": {},
   "outputs": [
    {
     "name": "stdout",
     "output_type": "stream",
     "text": [
      "Accuracy of the model is 89.27 %\n",
      "ROC AUC of the model is 89.27 %\n"
     ]
    },
    {
     "data": {
      "text/plain": [
       "array([[159523,  13047],\n",
       "       [ 23999, 148571]])"
      ]
     },
     "execution_count": 53,
     "metadata": {},
     "output_type": "execute_result"
    }
   ],
   "source": [
    "print (f'Accuracy of the model is {round(accuracy_score(y_test,y_predict)*100,2)} %')\n",
    "print (f'ROC AUC of the model is {round(roc_auc_score(y_test,y_predict)*100,2)} %')\n",
    "confusion_matrix(y_test,y_predict)"
   ]
  },
  {
   "cell_type": "code",
   "execution_count": null,
   "metadata": {},
   "outputs": [],
   "source": []
  }
 ],
 "metadata": {
  "kernelspec": {
   "display_name": "remote",
   "language": "python",
   "name": "remote"
  },
  "language_info": {
   "codemirror_mode": {
    "name": "ipython",
    "version": 3
   },
   "file_extension": ".py",
   "mimetype": "text/x-python",
   "name": "python",
   "nbconvert_exporter": "python",
   "pygments_lexer": "ipython3",
   "version": "3.8.0"
  }
 },
 "nbformat": 4,
 "nbformat_minor": 2
}

{
 "cells": [
  {
   "cell_type": "code",
   "execution_count": 1,
   "metadata": {},
   "outputs": [],
   "source": [
    "#Calling out packages\n",
    "import pandas as pd\n",
    "import numpy as np\n",
    "import matplotlib.pyplot as plt\n",
    "import seaborn as sns\n",
    "from imblearn.over_sampling import SMOTE\n",
    "\n",
    "\n",
    "from sklearn.model_selection import train_test_split\n",
    "from sklearn.metrics import accuracy_score,confusion_matrix\n",
    "from sklearn.preprocessing import StandardScaler\n",
    "\n",
    "\n",
    "\n",
    "from sklearn.linear_model import LogisticRegressionCV\n",
    "from sklearn.naive_bayes import GaussianNB\n",
    "from sklearn.neighbors import KNeighborsClassifier\n",
    "from sklearn.tree import DecisionTreeClassifier\n",
    "from sklearn.ensemble import RandomForestClassifier\n",
    "from sklearn.ensemble import AdaBoostClassifier\n",
    "from sklearn.ensemble import BaggingClassifier\n",
    "from sklearn.ensemble import GradientBoostingClassifier\n",
    "from sklearn.neural_network import MLPClassifier\n",
    "\n",
    "ss=StandardScaler()\n",
    "\n",
    "log=LogisticRegressionCV()\n",
    "nb=GaussianNB()\n",
    "knn=KNeighborsClassifier()\n",
    "dt=DecisionTreeClassifier()\n",
    "rf=RandomForestClassifier()\n",
    "adaboost=AdaBoostClassifier()\n",
    "bag=BaggingClassifier()\n",
    "grad=GradientBoostingClassifier()\n",
    "nn=MLPClassifier()\n",
    "\n",
    "models=[log,nb,knn,dt,rf,adaboost,bag,grad,nn]\n",
    "\n",
    "\n",
    "\n",
    "\n",
    "sns.set({'figure.figsize':(12,8)})\n",
    "import warnings\n",
    "warnings.filterwarnings('ignore')\n",
    "\n",
    "import plotly.express as px\n",
    "import time\n",
    "\n",
    "%matplotlib inline"
   ]
  },
  {
   "cell_type": "code",
   "execution_count": 2,
   "metadata": {},
   "outputs": [],
   "source": [
    "#Quantile Function for Outliers.\n",
    "def quantile_fun(col):\n",
    "\n",
    "    q1=col.quantile(0.25)\n",
    "    q3=col.quantile(0.75)\n",
    "    iqr=q3-q1\n",
    "    lw=q1-(1.5*iqr) #LowerWhisker\n",
    "    uw=q3+(1.5*iqr) #UpperWhisker\n",
    "    new_col=[]\n",
    "    for i in col:\n",
    "        if i<lw:\n",
    "            i=lw\n",
    "            new_col.append(i)\n",
    "        elif i>uw:\n",
    "            i=uw\n",
    "            new_col.append(i)\n",
    "        else:\n",
    "            i=i\n",
    "            new_col.append(i)\n",
    "    return np.array(new_col)"
   ]
  },
  {
   "cell_type": "code",
   "execution_count": 3,
   "metadata": {},
   "outputs": [],
   "source": [
    "#Define the function for easy access.\n",
    "def model_performance(sample_data,model):\n",
    "    start_time=time.time()\n",
    "    x=sample_data.drop(['particle_isDown_noVelo'],axis=1)\n",
    "    y=sample_data['particle_isDown_noVelo']\n",
    "    x=x.apply(quantile_fun)\n",
    "    x_train,x_test,y_train,y_test=train_test_split(x,y,test_size=0.2,random_state=1,stratify=y)\n",
    "    x_train=pd.DataFrame(ss.fit_transform(x_train),columns=x_train.columns)\n",
    "    x_test=pd.DataFrame(ss.transform(x_test),columns=x_test.columns)\n",
    "    \n",
    "    model.fit(x_train,y_train)\n",
    "    y_predict=model.predict(x_test)\n",
    "    sns.barplot(x=x.columns,y=model.feature_importances_)\n",
    "    plt.xticks(rotation=90)\n",
    "    plt.show()\n",
    "    end_time=time.time()\n",
    "    print(f'Time for Computation is {round((end_time-start_time)/60,4)} minutes.')\n",
    "    return (f'Accuracy of the model is {round(accuracy_score(y_test,y_predict)*100,2)} %')\n",
    "    "
   ]
  },
  {
   "cell_type": "code",
   "execution_count": 2,
   "metadata": {},
   "outputs": [],
   "source": [
    "data=pd.read_parquet('CompleteData.parquet').sample(1000000)"
   ]
  },
  {
   "cell_type": "code",
   "execution_count": 5,
   "metadata": {},
   "outputs": [
    {
     "data": {
      "image/png": "[encoded data removed]",
      "text/plain": [
       "<Figure size 432x288 with 1 Axes>"
      ]
     },
     "metadata": {
      "needs_background": "light"
     },
     "output_type": "display_data"
    },
    {
     "name": "stdout",
     "output_type": "stream",
     "text": [
      "Time for Computation is 8.4985 minutes.\n"
     ]
    },
    {
     "data": {
      "text/plain": [
       "'Accuracy of the model is 79.97 %'"
      ]
     },
     "execution_count": 5,
     "metadata": {},
     "output_type": "execute_result"
    }
   ],
   "source": [
    "model_performance(data,rf)"
   ]
  },
  {
   "cell_type": "code",
   "execution_count": 3,
   "metadata": {},
   "outputs": [],
   "source": [
    "sample_01=data[['track_chi2PerDoF', 'track_nLHCbIDs','track_p', 'track_phi', 'track_position_r','track_position_x', 'track_position_y', 'track_tx', 'track_ty', 'track_pseudoRapidity','particle_isDown_noVelo']]"
   ]
  },
  {
   "cell_type": "code",
   "execution_count": 7,
   "metadata": {},
   "outputs": [
    {
     "data": {
      "image/png": "[encoded data removed]",
      "text/plain": [
       "<Figure size 432x288 with 1 Axes>"
      ]
     },
     "metadata": {
      "needs_background": "light"
     },
     "output_type": "display_data"
    },
    {
     "name": "stdout",
     "output_type": "stream",
     "text": [
      "Time for Computation is 7.0772 minutes.\n"
     ]
    },
    {
     "data": {
      "text/plain": [
       "'Accuracy of the model is 79.44 %'"
      ]
     },
     "execution_count": 7,
     "metadata": {},
     "output_type": "execute_result"
    }
   ],
   "source": [
    "model_performance(sample_01,rf)"
   ]
  },
  {
   "cell_type": "markdown",
   "metadata": {},
   "source": [
    "# Error Calculation in the Track Position Variables"
   ]
  },
  {
   "cell_type": "code",
   "execution_count": 4,
   "metadata": {},
   "outputs": [
    {
     "data": {
      "text/html": [
       "<div>\n",
       "<style scoped>\n",
       "    .dataframe tbody tr th:only-of-type {\n",
       "        vertical-align: middle;\n",
       "    }\n",
       "\n",
       "    .dataframe tbody tr th {\n",
       "        vertical-align: top;\n",
       "    }\n",
       "\n",
       "    .dataframe thead th {\n",
       "        text-align: right;\n",
       "    }\n",
       "</style>\n",
       "<table border=\"1\" class=\"dataframe\">\n",
       "  <thead>\n",
       "    <tr style=\"text-align: right;\">\n",
       "      <th></th>\n",
       "      <th>track_position_x</th>\n",
       "      <th>track_position_y</th>\n",
       "      <th>track_position_r</th>\n",
       "      <th>manual_r</th>\n",
       "      <th>r_diff</th>\n",
       "    </tr>\n",
       "  </thead>\n",
       "  <tbody>\n",
       "    <tr>\n",
       "      <th>count</th>\n",
       "      <td>1000000.000000</td>\n",
       "      <td>1000000.000000</td>\n",
       "      <td>1000000.000000</td>\n",
       "      <td>1000000.000000</td>\n",
       "      <td>1000000.000000</td>\n",
       "    </tr>\n",
       "    <tr>\n",
       "      <th>mean</th>\n",
       "      <td>-23.090667</td>\n",
       "      <td>-0.158682</td>\n",
       "      <td>782.262025</td>\n",
       "      <td>776.230970</td>\n",
       "      <td>6.031055</td>\n",
       "    </tr>\n",
       "    <tr>\n",
       "      <th>std</th>\n",
       "      <td>794.741344</td>\n",
       "      <td>463.096426</td>\n",
       "      <td>491.170191</td>\n",
       "      <td>494.034602</td>\n",
       "      <td>21.983584</td>\n",
       "    </tr>\n",
       "    <tr>\n",
       "      <th>min</th>\n",
       "      <td>-2664.905029</td>\n",
       "      <td>-2026.824097</td>\n",
       "      <td>6.317978</td>\n",
       "      <td>0.450815</td>\n",
       "      <td>0.000000</td>\n",
       "    </tr>\n",
       "    <tr>\n",
       "      <th>25%</th>\n",
       "      <td>-556.530994</td>\n",
       "      <td>-211.069716</td>\n",
       "      <td>367.219790</td>\n",
       "      <td>359.061060</td>\n",
       "      <td>0.000000</td>\n",
       "    </tr>\n",
       "    <tr>\n",
       "      <th>50%</th>\n",
       "      <td>-35.654013</td>\n",
       "      <td>-0.527894</td>\n",
       "      <td>680.627154</td>\n",
       "      <td>676.197019</td>\n",
       "      <td>0.000000</td>\n",
       "    </tr>\n",
       "    <tr>\n",
       "      <th>75%</th>\n",
       "      <td>504.021838</td>\n",
       "      <td>210.318092</td>\n",
       "      <td>1121.583544</td>\n",
       "      <td>1118.385205</td>\n",
       "      <td>2.005820</td>\n",
       "    </tr>\n",
       "    <tr>\n",
       "      <th>max</th>\n",
       "      <td>2678.922119</td>\n",
       "      <td>2019.488647</td>\n",
       "      <td>2860.249271</td>\n",
       "      <td>2860.249271</td>\n",
       "      <td>1571.272118</td>\n",
       "    </tr>\n",
       "  </tbody>\n",
       "</table>\n",
       "</div>"
      ],
      "text/plain": [
       "       track_position_x  track_position_y  track_position_r        manual_r  \\\n",
       "count    1000000.000000    1000000.000000    1000000.000000  1000000.000000   \n",
       "mean         -23.090667         -0.158682        782.262025      776.230970   \n",
       "std          794.741344        463.096426        491.170191      494.034602   \n",
       "min        -2664.905029      -2026.824097          6.317978        0.450815   \n",
       "25%         -556.530994       -211.069716        367.219790      359.061060   \n",
       "50%          -35.654013         -0.527894        680.627154      676.197019   \n",
       "75%          504.021838        210.318092       1121.583544     1118.385205   \n",
       "max         2678.922119       2019.488647       2860.249271     2860.249271   \n",
       "\n",
       "               r_diff  \n",
       "count  1000000.000000  \n",
       "mean         6.031055  \n",
       "std         21.983584  \n",
       "min          0.000000  \n",
       "25%          0.000000  \n",
       "50%          0.000000  \n",
       "75%          2.005820  \n",
       "max       1571.272118  "
      ]
     },
     "execution_count": 4,
     "metadata": {},
     "output_type": "execute_result"
    }
   ],
   "source": [
    "radius_data=sample_01[['track_position_x','track_position_y','track_position_r']]\n",
    "radius_data['manual_r']=np.sqrt((radius_data['track_position_x']**2)+(radius_data['track_position_y']**2))\n",
    "radius_data['r_diff']=radius_data['track_position_r']-radius_data['manual_r']\n",
    "radius_data['difference_class']=pd.qcut(radius_data['r_diff'],q=6,duplicates='drop',labels=['lower','medium','higher'])\n",
    "radius_data.describe()\n"
   ]
  },
  {
   "cell_type": "code",
   "execution_count": 5,
   "metadata": {},
   "outputs": [
    {
     "data": {
      "text/html": [
       "<div>\n",
       "<style scoped>\n",
       "    .dataframe tbody tr th:only-of-type {\n",
       "        vertical-align: middle;\n",
       "    }\n",
       "\n",
       "    .dataframe tbody tr th {\n",
       "        vertical-align: top;\n",
       "    }\n",
       "\n",
       "    .dataframe thead th {\n",
       "        text-align: right;\n",
       "    }\n",
       "</style>\n",
       "<table border=\"1\" class=\"dataframe\">\n",
       "  <thead>\n",
       "    <tr style=\"text-align: right;\">\n",
       "      <th></th>\n",
       "      <th>track_position_x</th>\n",
       "      <th>track_position_y</th>\n",
       "      <th>track_position_r</th>\n",
       "      <th>manual_r</th>\n",
       "      <th>r_diff</th>\n",
       "      <th>difference_class</th>\n",
       "    </tr>\n",
       "  </thead>\n",
       "  <tbody>\n",
       "    <tr>\n",
       "      <th>12628665</th>\n",
       "      <td>808.678559</td>\n",
       "      <td>-94.755918</td>\n",
       "      <td>816.169534</td>\n",
       "      <td>814.211088</td>\n",
       "      <td>1.958446</td>\n",
       "      <td>medium</td>\n",
       "    </tr>\n",
       "    <tr>\n",
       "      <th>12426633</th>\n",
       "      <td>532.536245</td>\n",
       "      <td>378.706928</td>\n",
       "      <td>669.834887</td>\n",
       "      <td>653.462921</td>\n",
       "      <td>16.371966</td>\n",
       "      <td>higher</td>\n",
       "    </tr>\n",
       "    <tr>\n",
       "      <th>1708852</th>\n",
       "      <td>-437.228699</td>\n",
       "      <td>8.913488</td>\n",
       "      <td>437.319546</td>\n",
       "      <td>437.319546</td>\n",
       "      <td>0.000000</td>\n",
       "      <td>lower</td>\n",
       "    </tr>\n",
       "    <tr>\n",
       "      <th>8371672</th>\n",
       "      <td>248.494385</td>\n",
       "      <td>298.108765</td>\n",
       "      <td>388.095729</td>\n",
       "      <td>388.095729</td>\n",
       "      <td>0.000000</td>\n",
       "      <td>lower</td>\n",
       "    </tr>\n",
       "    <tr>\n",
       "      <th>8494564</th>\n",
       "      <td>-799.917725</td>\n",
       "      <td>87.851021</td>\n",
       "      <td>804.727387</td>\n",
       "      <td>804.727387</td>\n",
       "      <td>0.000000</td>\n",
       "      <td>lower</td>\n",
       "    </tr>\n",
       "    <tr>\n",
       "      <th>...</th>\n",
       "      <td>...</td>\n",
       "      <td>...</td>\n",
       "      <td>...</td>\n",
       "      <td>...</td>\n",
       "      <td>...</td>\n",
       "      <td>...</td>\n",
       "    </tr>\n",
       "    <tr>\n",
       "      <th>15446613</th>\n",
       "      <td>-5.330028</td>\n",
       "      <td>-230.851331</td>\n",
       "      <td>276.320223</td>\n",
       "      <td>230.912854</td>\n",
       "      <td>45.407369</td>\n",
       "      <td>higher</td>\n",
       "    </tr>\n",
       "    <tr>\n",
       "      <th>7773193</th>\n",
       "      <td>-240.939789</td>\n",
       "      <td>348.539642</td>\n",
       "      <td>423.712006</td>\n",
       "      <td>423.712006</td>\n",
       "      <td>0.000000</td>\n",
       "      <td>lower</td>\n",
       "    </tr>\n",
       "    <tr>\n",
       "      <th>7013917</th>\n",
       "      <td>674.544250</td>\n",
       "      <td>-19.584845</td>\n",
       "      <td>674.828506</td>\n",
       "      <td>674.828506</td>\n",
       "      <td>0.000000</td>\n",
       "      <td>lower</td>\n",
       "    </tr>\n",
       "    <tr>\n",
       "      <th>16470716</th>\n",
       "      <td>415.887969</td>\n",
       "      <td>32.759663</td>\n",
       "      <td>419.974923</td>\n",
       "      <td>417.176220</td>\n",
       "      <td>2.798702</td>\n",
       "      <td>medium</td>\n",
       "    </tr>\n",
       "    <tr>\n",
       "      <th>13953128</th>\n",
       "      <td>-489.551049</td>\n",
       "      <td>320.514487</td>\n",
       "      <td>593.124007</td>\n",
       "      <td>585.140809</td>\n",
       "      <td>7.983199</td>\n",
       "      <td>higher</td>\n",
       "    </tr>\n",
       "  </tbody>\n",
       "</table>\n",
       "<p>1000000 rows × 6 columns</p>\n",
       "</div>"
      ],
      "text/plain": [
       "          track_position_x  track_position_y  track_position_r    manual_r  \\\n",
       "12628665        808.678559        -94.755918        816.169534  814.211088   \n",
       "12426633        532.536245        378.706928        669.834887  653.462921   \n",
       "1708852        -437.228699          8.913488        437.319546  437.319546   \n",
       "8371672         248.494385        298.108765        388.095729  388.095729   \n",
       "8494564        -799.917725         87.851021        804.727387  804.727387   \n",
       "...                    ...               ...               ...         ...   \n",
       "15446613         -5.330028       -230.851331        276.320223  230.912854   \n",
       "7773193        -240.939789        348.539642        423.712006  423.712006   \n",
       "7013917         674.544250        -19.584845        674.828506  674.828506   \n",
       "16470716        415.887969         32.759663        419.974923  417.176220   \n",
       "13953128       -489.551049        320.514487        593.124007  585.140809   \n",
       "\n",
       "             r_diff difference_class  \n",
       "12628665   1.958446           medium  \n",
       "12426633  16.371966           higher  \n",
       "1708852    0.000000            lower  \n",
       "8371672    0.000000            lower  \n",
       "8494564    0.000000            lower  \n",
       "...             ...              ...  \n",
       "15446613  45.407369           higher  \n",
       "7773193    0.000000            lower  \n",
       "7013917    0.000000            lower  \n",
       "16470716   2.798702           medium  \n",
       "13953128   7.983199           higher  \n",
       "\n",
       "[1000000 rows x 6 columns]"
      ]
     },
     "execution_count": 5,
     "metadata": {},
     "output_type": "execute_result"
    }
   ],
   "source": [
    "radius_data"
   ]
  },
  {
   "cell_type": "code",
   "execution_count": 9,
   "metadata": {},
   "outputs": [
    {
     "data": {
      "text/html": [
       "<div>\n",
       "<style scoped>\n",
       "    .dataframe tbody tr th:only-of-type {\n",
       "        vertical-align: middle;\n",
       "    }\n",
       "\n",
       "    .dataframe tbody tr th {\n",
       "        vertical-align: top;\n",
       "    }\n",
       "\n",
       "    .dataframe thead th {\n",
       "        text-align: right;\n",
       "    }\n",
       "</style>\n",
       "<table border=\"1\" class=\"dataframe\">\n",
       "  <thead>\n",
       "    <tr style=\"text-align: right;\">\n",
       "      <th></th>\n",
       "      <th>track_position_x</th>\n",
       "      <th>track_position_y</th>\n",
       "      <th>track_position_r</th>\n",
       "      <th>manual_r</th>\n",
       "      <th>r_diff</th>\n",
       "      <th>difference_class</th>\n",
       "    </tr>\n",
       "  </thead>\n",
       "  <tbody>\n",
       "    <tr>\n",
       "      <th>14442565</th>\n",
       "      <td>85.169632</td>\n",
       "      <td>188.606929</td>\n",
       "      <td>1494.164715</td>\n",
       "      <td>206.945499</td>\n",
       "      <td>1287.219215</td>\n",
       "      <td>higher</td>\n",
       "    </tr>\n",
       "  </tbody>\n",
       "</table>\n",
       "</div>"
      ],
      "text/plain": [
       "          track_position_x  track_position_y  track_position_r    manual_r  \\\n",
       "14442565         85.169632        188.606929       1494.164715  206.945499   \n",
       "\n",
       "               r_diff difference_class  \n",
       "14442565  1287.219215           higher  "
      ]
     },
     "execution_count": 9,
     "metadata": {},
     "output_type": "execute_result"
    }
   ],
   "source": [
    "radius_data.loc[radius_data['r_diff']==radius_data['r_diff'].max()]"
   ]
  },
  {
   "cell_type": "code",
   "execution_count": 10,
   "metadata": {},
   "outputs": [
    {
     "data": {
      "image/png": "[encoded data removed]",
      "text/plain": [
       "<Figure size 432x288 with 1 Axes>"
      ]
     },
     "metadata": {
      "needs_background": "light"
     },
     "output_type": "display_data"
    }
   ],
   "source": [
    "fig1=sns.kdeplot(radius_data['track_position_x'])\n",
    "fig2=sns.kdeplot(radius_data['track_position_y'],shade=True)\n",
    "fig3=sns.kdeplot(radius_data['track_position_r'])\n",
    "fig4=sns.kdeplot(radius_data['manual_r'])\n",
    "plt.show()"
   ]
  },
  {
   "cell_type": "code",
   "execution_count": 11,
   "metadata": {},
   "outputs": [],
   "source": [
    "# fig = px.scatter_3d(radius_data,x='track_position_x',z='track_position_y',y='track_position_r',color='difference_class')\n",
    "# fig.show()"
   ]
  },
  {
   "cell_type": "code",
   "execution_count": 12,
   "metadata": {},
   "outputs": [],
   "source": [
    "# sns.scatterplot(radius_data['track_position_x'],radius_data['track_position_y'],hue=radius_data['difference_class'])\n",
    "# plt.show()"
   ]
  },
  {
   "cell_type": "code",
   "execution_count": 13,
   "metadata": {},
   "outputs": [],
   "source": [
    "#To avoid correlated variables track position x and y with r\n",
    "sample_02=sample_01.drop(['track_position_x','track_position_y'],axis=1)"
   ]
  },
  {
   "cell_type": "code",
   "execution_count": 14,
   "metadata": {},
   "outputs": [
    {
     "data": {
      "image/png": "[encoded data removed]",
      "text/plain": [
       "<Figure size 432x288 with 1 Axes>"
      ]
     },
     "metadata": {
      "needs_background": "light"
     },
     "output_type": "display_data"
    },
    {
     "name": "stdout",
     "output_type": "stream",
     "text": [
      "Time for Computation is 5.1283 minutes.\n"
     ]
    },
    {
     "data": {
      "text/plain": [
       "'Accuracy of the model is 77.41 %'"
      ]
     },
     "execution_count": 14,
     "metadata": {},
     "output_type": "execute_result"
    }
   ],
   "source": [
    "model_performance(sample_02,rf)"
   ]
  },
  {
   "cell_type": "code",
   "execution_count": 15,
   "metadata": {},
   "outputs": [],
   "source": [
    "#Removing track_position_r and keeping x and y\n",
    "sample_03=sample_01.drop(['track_position_r'],axis=1)"
   ]
  },
  {
   "cell_type": "code",
   "execution_count": 16,
   "metadata": {},
   "outputs": [
    {
     "data": {
      "image/png": "[encoded data removed]",
      "text/plain": [
       "<Figure size 432x288 with 1 Axes>"
      ]
     },
     "metadata": {
      "needs_background": "light"
     },
     "output_type": "display_data"
    },
    {
     "name": "stdout",
     "output_type": "stream",
     "text": [
      "Time for Computation is 6.9001 minutes.\n"
     ]
    },
    {
     "data": {
      "text/plain": [
       "'Accuracy of the model is 79.06 %'"
      ]
     },
     "execution_count": 16,
     "metadata": {},
     "output_type": "execute_result"
    }
   ],
   "source": [
    "model_performance(sample_03,rf)"
   ]
  },
  {
   "cell_type": "code",
   "execution_count": 17,
   "metadata": {},
   "outputs": [],
   "source": [
    "#Using manual calculated track_position_r value from X and Y\n",
    "sample_04=sample_03.copy()\n",
    "sample_04['updated_track_postion_r']=radius_data['manual_r']"
   ]
  },
  {
   "cell_type": "code",
   "execution_count": 18,
   "metadata": {},
   "outputs": [
    {
     "data": {
      "image/png": "[encoded data removed]",
      "text/plain": [
       "<Figure size 432x288 with 1 Axes>"
      ]
     },
     "metadata": {
      "needs_background": "light"
     },
     "output_type": "display_data"
    },
    {
     "name": "stdout",
     "output_type": "stream",
     "text": [
      "Time for Computation is 7.0787 minutes.\n"
     ]
    },
    {
     "data": {
      "text/plain": [
       "'Accuracy of the model is 79.08 %'"
      ]
     },
     "execution_count": 18,
     "metadata": {},
     "output_type": "execute_result"
    }
   ],
   "source": [
    "model_performance(sample_04,rf)"
   ]
  },
  {
   "cell_type": "markdown",
   "metadata": {},
   "source": [
    "## Better model compared with given track_postion_r"
   ]
  },
  {
   "cell_type": "code",
   "execution_count": 19,
   "metadata": {},
   "outputs": [],
   "source": [
    "#Considering all the variables for checking correlations between them.\n",
    "sample_05=sample_01.copy()\n",
    "sample_05['updated_track_postion_r']=radius_data['manual_r']"
   ]
  },
  {
   "cell_type": "code",
   "execution_count": 20,
   "metadata": {},
   "outputs": [
    {
     "data": {
      "image/png": "[encoded data removed]",
      "text/plain": [
       "<Figure size 432x288 with 2 Axes>"
      ]
     },
     "metadata": {
      "needs_background": "light"
     },
     "output_type": "display_data"
    }
   ],
   "source": [
    "sns.heatmap(sample_05.corr(),linecolor='black',linewidths=2,cmap='magma')\n",
    "plt.show()"
   ]
  },
  {
   "cell_type": "code",
   "execution_count": null,
   "metadata": {},
   "outputs": [],
   "source": []
  }
 ],
 "metadata": {
  "kernelspec": {
   "display_name": "remote",
   "language": "python",
   "name": "remote"
  },
  "language_info": {
   "codemirror_mode": {
    "name": "ipython",
    "version": 3
   },
   "file_extension": ".py",
   "mimetype": "text/x-python",
   "name": "python",
   "nbconvert_exporter": "python",
   "pygments_lexer": "ipython3",
   "version": "3.8.0"
  }
 },
 "nbformat": 4,
 "nbformat_minor": 2
}

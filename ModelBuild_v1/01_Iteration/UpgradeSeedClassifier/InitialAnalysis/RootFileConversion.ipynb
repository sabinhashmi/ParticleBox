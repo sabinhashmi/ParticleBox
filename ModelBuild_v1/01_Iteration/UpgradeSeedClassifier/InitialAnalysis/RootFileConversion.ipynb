{
 "metadata": {
  "language_info": {
   "codemirror_mode": {
    "name": "ipython",
    "version": 3
   },
   "file_extension": ".py",
   "mimetype": "text/x-python",
   "name": "python",
   "nbconvert_exporter": "python",
   "pygments_lexer": "ipython3",
   "version": "3.8.8"
  },
  "orig_nbformat": 2,
  "kernelspec": {
   "name": "python388jvsc74a57bd082713b287d0cc9b0b3d422f4fcdeeca34db36503ebb9797d838e9ac56f3d46fd",
   "display_name": "Python 3.8.8 64-bit ('machine': conda)"
  },
  "metadata": {
   "interpreter": {
    "hash": "82713b287d0cc9b0b3d422f4fcdeeca34db36503ebb9797d838e9ac56f3d46fd"
   }
  }
 },
 "nbformat": 4,
 "nbformat_minor": 2,
 "cells": [
  {
   "cell_type": "code",
   "execution_count": 1,
   "metadata": {},
   "outputs": [],
   "source": [
    "import uproot3\n",
    "import glob\n",
    "from tqdm import tqdm\n",
    "import pandas as pd"
   ]
  },
  {
   "cell_type": "code",
   "execution_count": 2,
   "metadata": {},
   "outputs": [],
   "source": [
    "complete_files= glob.glob(\"/data2/tracking/trackingGG/dump_15114101/*.root\")[0:1000]"
   ]
  },
  {
   "cell_type": "code",
   "execution_count": 3,
   "metadata": {},
   "outputs": [],
   "source": [
    "tree = uproot3.open(\"/data2/tracking/trackingGG/dump_15114101/DownstreamDumper_runNb_10221103_evtNb_201.root\")['Particle_Data']"
   ]
  },
  {
   "cell_type": "code",
   "execution_count": 4,
   "metadata": {},
   "outputs": [
    {
     "output_type": "stream",
     "name": "stdout",
     "text": [
      "UT_cos                     TStreamerSTL               asjagged(asdtype('>f4'), 10)\nUT_cosT                    TStreamerSTL               asjagged(asdtype('>f4'), 10)\nUT_dxDy                    TStreamerSTL               asjagged(asdtype('>f4'), 10)\nUT_lhcbID                  TStreamerSTL               asjagged(asdtype('>i4'), 10)\nUT_planeCode               TStreamerSTL               asjagged(asdtype('>i4'), 10)\nUT_sinT                    TStreamerSTL               asjagged(asdtype('>f4'), 10)\nUT_tanT                    TStreamerSTL               asjagged(asdtype('>f4'), 10)\nUT_weight                  TStreamerSTL               asjagged(asdtype('>f4'), 10)\nUT_xAtYEq0                 TStreamerSTL               asjagged(asdtype('>f4'), 10)\nUT_xAtYMid                 TStreamerSTL               asjagged(asdtype('>f4'), 10)\nUT_xT                      TStreamerSTL               asjagged(asdtype('>f4'), 10)\nUT_zAtYEq0                 TStreamerSTL               asjagged(asdtype('>f4'), 10)\ntrack_charge               (no streamer)              asdtype('>f8')\ntrack_chi2                 (no streamer)              asdtype('>f8')\ntrack_chi2PerDoF           (no streamer)              asdtype('>f8')\ntrack_nLHCbIDs             (no streamer)              asdtype('>f8')\ntrack_p                    (no streamer)              asdtype('>f8')\ntrack_phi                  (no streamer)              asdtype('>f8')\ntrack_position_phi         (no streamer)              asdtype('>f8')\ntrack_position_r           (no streamer)              asdtype('>f8')\ntrack_position_x           (no streamer)              asdtype('>f8')\ntrack_position_y           (no streamer)              asdtype('>f8')\ntrack_position_z           (no streamer)              asdtype('>f8')\ntrack_pt                   (no streamer)              asdtype('>f8')\ntrack_tx                   (no streamer)              asdtype('>f8')\ntrack_ty                   (no streamer)              asdtype('>f8')\ntrack_pseudoRapidity       (no streamer)              asdtype('>f8')\ntrack_ghostProbability     (no streamer)              asdtype('>f8')\ntrack_stateVector          TStreamerSTL               asjagged(asdtype('>f4'), 10)\ntrack_stateCovariance      TStreamerSTL               asjagged(asdtype('>f4'), 10)\ntrack_stateZ               TStreamerSTL               asjagged(asdtype('>f4'), 10)\ntrack_residue              TStreamerSTL               asjagged(asdtype('>f4'), 10)\neventID                    (no streamer)              asdtype('>i4')\nparticle_key               (no streamer)              asdtype('>i4')\nparticle_eta               (no streamer)              asdtype('>f8')\nparticle_fullInfo          (no streamer)              asdtype('bool')\nparticle_hasScifi          (no streamer)              asdtype('bool')\nparticle_hasUT             (no streamer)              asdtype('bool')\nparticle_hasVelo           (no streamer)              asdtype('bool')\nparticle_isDown            (no streamer)              asdtype('bool')\nparticle_isDown_noVelo     (no streamer)              asdtype('bool')\nparticle_isLong            (no streamer)              asdtype('bool')\nparticle_isLong_andUT      (no streamer)              asdtype('bool')\npartiole_isElectron        (no streamer)              asdtype('bool')\nparticle_ovtx_x            (no streamer)              asdtype('>f8')\nparticle_ovtx_y            (no streamer)              asdtype('>f8')\nparticle_ovtx_z            (no streamer)              asdtype('>f8')\nparticle_evtx_x            (no streamer)              asdtype('>f8')\nparticle_evtx_y            (no streamer)              asdtype('>f8')\nparticle_evtx_z            (no streamer)              asdtype('>f8')\nparticle_p                 (no streamer)              asdtype('>f8')\nparticle_phi               (no streamer)              asdtype('>f8')\nparticle_pid               (no streamer)              asdtype('>i4')\nparticle_pt                (no streamer)              asdtype('>f8')\nparticle_px                (no streamer)              asdtype('>f8')\nparticle_py                (no streamer)              asdtype('>f8')\nparticle_pz                (no streamer)              asdtype('>f8')\n"
     ]
    }
   ],
   "source": [
    "tree.show()"
   ]
  },
  {
   "cell_type": "code",
   "execution_count": 5,
   "metadata": {},
   "outputs": [],
   "source": [
    "index_list=[b'track_charge',\n",
    " b'track_chi2',\n",
    " b'track_chi2PerDoF',\n",
    " b'track_nLHCbIDs',\n",
    " b'track_p',\n",
    " b'track_phi',\n",
    " b'track_position_phi',\n",
    " b'track_position_r',\n",
    " b'track_position_x',\n",
    " b'track_position_y',\n",
    " b'track_position_z',\n",
    " b'track_pt',\n",
    " b'track_tx',\n",
    " b'track_ty',\n",
    " b'track_pseudoRapidity',\n",
    " b'track_ghostProbability',b'eventID',\n",
    " b'particle_key',\n",
    " b'particle_eta',\n",
    " b'particle_fullInfo',\n",
    " b'particle_hasScifi',\n",
    " b'particle_hasUT',\n",
    " b'particle_hasVelo',\n",
    " b'particle_isDown',\n",
    " b'particle_isDown_noVelo',\n",
    " b'particle_isLong',\n",
    " b'particle_isLong_andUT',\n",
    " b'partiole_isElectron',\n",
    " b'particle_ovtx_x',\n",
    " b'particle_ovtx_y',\n",
    " b'particle_ovtx_z',\n",
    " b'particle_evtx_x',\n",
    " b'particle_evtx_y',\n",
    " b'particle_evtx_z',\n",
    " b'particle_p',\n",
    " b'particle_phi',\n",
    " b'particle_pid',\n",
    " b'particle_pt',\n",
    " b'particle_px',\n",
    " b'particle_py',\n",
    " b'particle_pz']"
   ]
  },
  {
   "cell_type": "code",
   "execution_count": 6,
   "metadata": {
    "tags": []
   },
   "outputs": [
    {
     "output_type": "stream",
     "name": "stderr",
     "text": [
      "100%|██████████| 1000/1000 [01:30<00:00, 11.02it/s]CPU times: user 1min 10s, sys: 18.2 s, total: 1min 28s\n",
      "Wall time: 1min 30s\n",
      "\n"
     ]
    }
   ],
   "source": [
    "%%time\n",
    "merged=pd.DataFrame()\n",
    "for files in tqdm(complete_files):\n",
    "    tree = uproot3.open(files)['Particle_Data']\n",
    "    dataframe_individual=tree.pandas.df(index_list)\n",
    "    merged=pd.concat([merged,dataframe_individual],axis=0)\n",
    "    "
   ]
  },
  {
   "cell_type": "code",
   "execution_count": 7,
   "metadata": {},
   "outputs": [
    {
     "output_type": "execute_result",
     "data": {
      "text/plain": [
       "       track_charge  track_chi2  track_chi2PerDoF  track_nLHCbIDs  \\\n",
       "entry                                                               \n",
       "0               1.0    2.261579          0.376930            11.0   \n",
       "1              -1.0    6.342810          0.906116            12.0   \n",
       "2              -1.0    7.558596          1.259766            11.0   \n",
       "3               1.0    4.356195          0.726032            11.0   \n",
       "4              -1.0    3.676422          0.525203            12.0   \n",
       "...             ...         ...               ...             ...   \n",
       "93             -1.0    1.789090          0.255584            12.0   \n",
       "94              1.0    1.518432          0.216919            12.0   \n",
       "95             -1.0    1.122780          0.160397            12.0   \n",
       "96              1.0    1.746634          0.291106            11.0   \n",
       "97             -1.0    7.930591          1.132942            12.0   \n",
       "\n",
       "            track_p  track_phi  track_position_phi  track_position_r  \\\n",
       "entry                                                                  \n",
       "0       4923.881506  -3.115572           -3.072188        603.199306   \n",
       "1       2159.286580  -0.006293           -0.041903       1145.680471   \n",
       "2       1953.560581  -0.024234           -0.155405       1514.672557   \n",
       "3       3825.724500   3.122918            2.986581        579.261462   \n",
       "4       1799.832644   0.115020            0.578678       1265.392218   \n",
       "...             ...        ...                 ...               ...   \n",
       "93      4863.667143  -0.230848           -0.649846        704.881571   \n",
       "94      7557.195207   2.553521            1.797156        638.100362   \n",
       "95     13067.851493   0.210557            0.432662        445.184276   \n",
       "96      7431.172290  -3.101297           -3.058499        776.229206   \n",
       "97      2590.561456  -0.007415           -0.046732       1222.617513   \n",
       "\n",
       "       track_position_x  track_position_y  ...  particle_evtx_x  \\\n",
       "entry                                      ...                    \n",
       "0           -601.747070        -41.831402  ...        -843.2764   \n",
       "1           1144.674805        -47.993053  ...        3535.6667   \n",
       "2           1496.419067       -234.441742  ...         -19.8136   \n",
       "3           -572.315918         89.433388  ...          21.2097   \n",
       "4           1059.369507        692.064819  ...         -23.0524   \n",
       "...                 ...               ...  ...              ...   \n",
       "93           561.210510       -426.498291  ...        1746.6766   \n",
       "94          -143.209869        621.822327  ...        -759.5563   \n",
       "95           404.161804        186.660858  ...        1168.6802   \n",
       "96          -773.550964        -64.425812  ...       -1913.6211   \n",
       "97          1221.282715        -57.114922  ...          41.3694   \n",
       "\n",
       "       particle_evtx_y  particle_evtx_z    particle_p  particle_phi  \\\n",
       "entry                                                                 \n",
       "0             -47.4942        8469.0644   4676.787180     -2.677330   \n",
       "1             -58.8281       11271.2140   2079.021188     -2.680662   \n",
       "2             -25.6686         957.6312   2093.067609     -2.204968   \n",
       "3              39.4776        1788.1044   3753.285839      0.289322   \n",
       "4              75.7093        2076.6513   1678.745296      2.445128   \n",
       "...                ...              ...           ...           ...   \n",
       "93           -684.5676       12049.1206   4837.408601     -1.672187   \n",
       "94            991.2055       12048.2537   7538.083756      1.204507   \n",
       "95            326.2186       13847.8488  12973.250791      0.767406   \n",
       "96           -113.1287       12620.8271   7376.037245     -2.966415   \n",
       "97            -13.5844        2780.0836  11625.759513     -0.338375   \n",
       "\n",
       "       particle_pid  particle_pt  particle_px  particle_py  particle_pz  \n",
       "entry                                                                    \n",
       "0               -11    65.391584       -58.47       -29.28      4676.33  \n",
       "1                11    29.632482       -26.54       -13.18      2078.81  \n",
       "2                11    74.817256       -44.33       -60.27      2091.73  \n",
       "3               211   118.015003       113.11        33.67      3751.43  \n",
       "4              -211   298.077983      -228.66       191.22      1652.07  \n",
       "...             ...          ...          ...          ...          ...  \n",
       "93               11   273.866482       -27.72      -272.46      4829.65  \n",
       "94              211   670.327641       240.08       625.86      7508.22  \n",
       "95             -211   450.400928       324.16       312.70     12965.43  \n",
       "96              211   382.940666      -377.08       -66.74      7366.09  \n",
       "97               11   170.445020       160.78       -56.58     11624.51  \n",
       "\n",
       "[143747 rows x 41 columns]"
      ],
      "text/html": "<div>\n<style scoped>\n    .dataframe tbody tr th:only-of-type {\n        vertical-align: middle;\n    }\n\n    .dataframe tbody tr th {\n        vertical-align: top;\n    }\n\n    .dataframe thead th {\n        text-align: right;\n    }\n</style>\n<table border=\"1\" class=\"dataframe\">\n  <thead>\n    <tr style=\"text-align: right;\">\n      <th></th>\n      <th>track_charge</th>\n      <th>track_chi2</th>\n      <th>track_chi2PerDoF</th>\n      <th>track_nLHCbIDs</th>\n      <th>track_p</th>\n      <th>track_phi</th>\n      <th>track_position_phi</th>\n      <th>track_position_r</th>\n      <th>track_position_x</th>\n      <th>track_position_y</th>\n      <th>...</th>\n      <th>particle_evtx_x</th>\n      <th>particle_evtx_y</th>\n      <th>particle_evtx_z</th>\n      <th>particle_p</th>\n      <th>particle_phi</th>\n      <th>particle_pid</th>\n      <th>particle_pt</th>\n      <th>particle_px</th>\n      <th>particle_py</th>\n      <th>particle_pz</th>\n    </tr>\n    <tr>\n      <th>entry</th>\n      <th></th>\n      <th></th>\n      <th></th>\n      <th></th>\n      <th></th>\n      <th></th>\n      <th></th>\n      <th></th>\n      <th></th>\n      <th></th>\n      <th></th>\n      <th></th>\n      <th></th>\n      <th></th>\n      <th></th>\n      <th></th>\n      <th></th>\n      <th></th>\n      <th></th>\n      <th></th>\n      <th></th>\n    </tr>\n  </thead>\n  <tbody>\n    <tr>\n      <th>0</th>\n      <td>1.0</td>\n      <td>2.261579</td>\n      <td>0.376930</td>\n      <td>11.0</td>\n      <td>4923.881506</td>\n      <td>-3.115572</td>\n      <td>-3.072188</td>\n      <td>603.199306</td>\n      <td>-601.747070</td>\n      <td>-41.831402</td>\n      <td>...</td>\n      <td>-843.2764</td>\n      <td>-47.4942</td>\n      <td>8469.0644</td>\n      <td>4676.787180</td>\n      <td>-2.677330</td>\n      <td>-11</td>\n      <td>65.391584</td>\n      <td>-58.47</td>\n      <td>-29.28</td>\n      <td>4676.33</td>\n    </tr>\n    <tr>\n      <th>1</th>\n      <td>-1.0</td>\n      <td>6.342810</td>\n      <td>0.906116</td>\n      <td>12.0</td>\n      <td>2159.286580</td>\n      <td>-0.006293</td>\n      <td>-0.041903</td>\n      <td>1145.680471</td>\n      <td>1144.674805</td>\n      <td>-47.993053</td>\n      <td>...</td>\n      <td>3535.6667</td>\n      <td>-58.8281</td>\n      <td>11271.2140</td>\n      <td>2079.021188</td>\n      <td>-2.680662</td>\n      <td>11</td>\n      <td>29.632482</td>\n      <td>-26.54</td>\n      <td>-13.18</td>\n      <td>2078.81</td>\n    </tr>\n    <tr>\n      <th>2</th>\n      <td>-1.0</td>\n      <td>7.558596</td>\n      <td>1.259766</td>\n      <td>11.0</td>\n      <td>1953.560581</td>\n      <td>-0.024234</td>\n      <td>-0.155405</td>\n      <td>1514.672557</td>\n      <td>1496.419067</td>\n      <td>-234.441742</td>\n      <td>...</td>\n      <td>-19.8136</td>\n      <td>-25.6686</td>\n      <td>957.6312</td>\n      <td>2093.067609</td>\n      <td>-2.204968</td>\n      <td>11</td>\n      <td>74.817256</td>\n      <td>-44.33</td>\n      <td>-60.27</td>\n      <td>2091.73</td>\n    </tr>\n    <tr>\n      <th>3</th>\n      <td>1.0</td>\n      <td>4.356195</td>\n      <td>0.726032</td>\n      <td>11.0</td>\n      <td>3825.724500</td>\n      <td>3.122918</td>\n      <td>2.986581</td>\n      <td>579.261462</td>\n      <td>-572.315918</td>\n      <td>89.433388</td>\n      <td>...</td>\n      <td>21.2097</td>\n      <td>39.4776</td>\n      <td>1788.1044</td>\n      <td>3753.285839</td>\n      <td>0.289322</td>\n      <td>211</td>\n      <td>118.015003</td>\n      <td>113.11</td>\n      <td>33.67</td>\n      <td>3751.43</td>\n    </tr>\n    <tr>\n      <th>4</th>\n      <td>-1.0</td>\n      <td>3.676422</td>\n      <td>0.525203</td>\n      <td>12.0</td>\n      <td>1799.832644</td>\n      <td>0.115020</td>\n      <td>0.578678</td>\n      <td>1265.392218</td>\n      <td>1059.369507</td>\n      <td>692.064819</td>\n      <td>...</td>\n      <td>-23.0524</td>\n      <td>75.7093</td>\n      <td>2076.6513</td>\n      <td>1678.745296</td>\n      <td>2.445128</td>\n      <td>-211</td>\n      <td>298.077983</td>\n      <td>-228.66</td>\n      <td>191.22</td>\n      <td>1652.07</td>\n    </tr>\n    <tr>\n      <th>...</th>\n      <td>...</td>\n      <td>...</td>\n      <td>...</td>\n      <td>...</td>\n      <td>...</td>\n      <td>...</td>\n      <td>...</td>\n      <td>...</td>\n      <td>...</td>\n      <td>...</td>\n      <td>...</td>\n      <td>...</td>\n      <td>...</td>\n      <td>...</td>\n      <td>...</td>\n      <td>...</td>\n      <td>...</td>\n      <td>...</td>\n      <td>...</td>\n      <td>...</td>\n      <td>...</td>\n    </tr>\n    <tr>\n      <th>93</th>\n      <td>-1.0</td>\n      <td>1.789090</td>\n      <td>0.255584</td>\n      <td>12.0</td>\n      <td>4863.667143</td>\n      <td>-0.230848</td>\n      <td>-0.649846</td>\n      <td>704.881571</td>\n      <td>561.210510</td>\n      <td>-426.498291</td>\n      <td>...</td>\n      <td>1746.6766</td>\n      <td>-684.5676</td>\n      <td>12049.1206</td>\n      <td>4837.408601</td>\n      <td>-1.672187</td>\n      <td>11</td>\n      <td>273.866482</td>\n      <td>-27.72</td>\n      <td>-272.46</td>\n      <td>4829.65</td>\n    </tr>\n    <tr>\n      <th>94</th>\n      <td>1.0</td>\n      <td>1.518432</td>\n      <td>0.216919</td>\n      <td>12.0</td>\n      <td>7557.195207</td>\n      <td>2.553521</td>\n      <td>1.797156</td>\n      <td>638.100362</td>\n      <td>-143.209869</td>\n      <td>621.822327</td>\n      <td>...</td>\n      <td>-759.5563</td>\n      <td>991.2055</td>\n      <td>12048.2537</td>\n      <td>7538.083756</td>\n      <td>1.204507</td>\n      <td>211</td>\n      <td>670.327641</td>\n      <td>240.08</td>\n      <td>625.86</td>\n      <td>7508.22</td>\n    </tr>\n    <tr>\n      <th>95</th>\n      <td>-1.0</td>\n      <td>1.122780</td>\n      <td>0.160397</td>\n      <td>12.0</td>\n      <td>13067.851493</td>\n      <td>0.210557</td>\n      <td>0.432662</td>\n      <td>445.184276</td>\n      <td>404.161804</td>\n      <td>186.660858</td>\n      <td>...</td>\n      <td>1168.6802</td>\n      <td>326.2186</td>\n      <td>13847.8488</td>\n      <td>12973.250791</td>\n      <td>0.767406</td>\n      <td>-211</td>\n      <td>450.400928</td>\n      <td>324.16</td>\n      <td>312.70</td>\n      <td>12965.43</td>\n    </tr>\n    <tr>\n      <th>96</th>\n      <td>1.0</td>\n      <td>1.746634</td>\n      <td>0.291106</td>\n      <td>11.0</td>\n      <td>7431.172290</td>\n      <td>-3.101297</td>\n      <td>-3.058499</td>\n      <td>776.229206</td>\n      <td>-773.550964</td>\n      <td>-64.425812</td>\n      <td>...</td>\n      <td>-1913.6211</td>\n      <td>-113.1287</td>\n      <td>12620.8271</td>\n      <td>7376.037245</td>\n      <td>-2.966415</td>\n      <td>211</td>\n      <td>382.940666</td>\n      <td>-377.08</td>\n      <td>-66.74</td>\n      <td>7366.09</td>\n    </tr>\n    <tr>\n      <th>97</th>\n      <td>-1.0</td>\n      <td>7.930591</td>\n      <td>1.132942</td>\n      <td>12.0</td>\n      <td>2590.561456</td>\n      <td>-0.007415</td>\n      <td>-0.046732</td>\n      <td>1222.617513</td>\n      <td>1221.282715</td>\n      <td>-57.114922</td>\n      <td>...</td>\n      <td>41.3694</td>\n      <td>-13.5844</td>\n      <td>2780.0836</td>\n      <td>11625.759513</td>\n      <td>-0.338375</td>\n      <td>11</td>\n      <td>170.445020</td>\n      <td>160.78</td>\n      <td>-56.58</td>\n      <td>11624.51</td>\n    </tr>\n  </tbody>\n</table>\n<p>143747 rows × 41 columns</p>\n</div>"
     },
     "metadata": {},
     "execution_count": 7
    }
   ],
   "source": [
    "merged"
   ]
  },
  {
   "cell_type": "code",
   "execution_count": null,
   "metadata": {},
   "outputs": [],
   "source": []
  }
 ]
}
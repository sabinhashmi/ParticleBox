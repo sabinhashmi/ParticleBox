{
 "cells": [
  {
   "cell_type": "code",
   "execution_count": 63,
   "id": "57c2a8fd",
   "metadata": {},
   "outputs": [],
   "source": [
    "import pandas as pd\n",
    "import numpy as np\n",
    "import matplotlib.pyplot as plt\n",
    "import seaborn as sns\n",
    "import torch\n",
    "import torch.nn as nn\n",
    "from torch.utils.data import DataLoader,Dataset\n",
    "from sklearn.model_selection import train_test_split"
   ]
  },
  {
   "cell_type": "code",
   "execution_count": 64,
   "id": "7bb856fc",
   "metadata": {},
   "outputs": [],
   "source": [
    "data=pd.read_parquet('/home/hashmi/Files/UpgradeSeedClassifier/InitialAnalysis/data/true_no_hits_15114101.parquet')[\n",
    "    ['track_chi2PerDoF','track_nLHCbIDs','track_p',\n",
    "     'track_phi','track_position_x', 'track_position_y',\n",
    "     'track_position_r','track_tx', 'track_ty',\n",
    "     'track_pseudoRapidity','particle_isDown_noVelo']].sample(frac=0.01,random_state=14)"
   ]
  },
  {
   "cell_type": "code",
   "execution_count": 65,
   "id": "4fd213f1",
   "metadata": {},
   "outputs": [
    {
     "data": {
      "text/html": [
       "<div>\n",
       "<style scoped>\n",
       "    .dataframe tbody tr th:only-of-type {\n",
       "        vertical-align: middle;\n",
       "    }\n",
       "\n",
       "    .dataframe tbody tr th {\n",
       "        vertical-align: top;\n",
       "    }\n",
       "\n",
       "    .dataframe thead th {\n",
       "        text-align: right;\n",
       "    }\n",
       "</style>\n",
       "<table border=\"1\" class=\"dataframe\">\n",
       "  <thead>\n",
       "    <tr style=\"text-align: right;\">\n",
       "      <th></th>\n",
       "      <th>track_chi2PerDoF</th>\n",
       "      <th>track_nLHCbIDs</th>\n",
       "      <th>track_p</th>\n",
       "      <th>track_phi</th>\n",
       "      <th>track_position_x</th>\n",
       "      <th>track_position_y</th>\n",
       "      <th>track_position_r</th>\n",
       "      <th>track_tx</th>\n",
       "      <th>track_ty</th>\n",
       "      <th>track_pseudoRapidity</th>\n",
       "      <th>particle_isDown_noVelo</th>\n",
       "    </tr>\n",
       "  </thead>\n",
       "  <tbody>\n",
       "    <tr>\n",
       "      <th>100</th>\n",
       "      <td>1.450902</td>\n",
       "      <td>12.0</td>\n",
       "      <td>5968.964872</td>\n",
       "      <td>0.034813</td>\n",
       "      <td>299.038727</td>\n",
       "      <td>53.697536</td>\n",
       "      <td>303.821634</td>\n",
       "      <td>0.169439</td>\n",
       "      <td>0.005901</td>\n",
       "      <td>2.474912</td>\n",
       "      <td>False</td>\n",
       "    </tr>\n",
       "    <tr>\n",
       "      <th>103</th>\n",
       "      <td>1.126520</td>\n",
       "      <td>12.0</td>\n",
       "      <td>2470.408247</td>\n",
       "      <td>0.051994</td>\n",
       "      <td>1496.910400</td>\n",
       "      <td>254.066284</td>\n",
       "      <td>1518.318288</td>\n",
       "      <td>0.576064</td>\n",
       "      <td>0.029979</td>\n",
       "      <td>1.317719</td>\n",
       "      <td>False</td>\n",
       "    </tr>\n",
       "    <tr>\n",
       "      <th>39</th>\n",
       "      <td>1.588973</td>\n",
       "      <td>11.0</td>\n",
       "      <td>1996.761659</td>\n",
       "      <td>3.110768</td>\n",
       "      <td>-1332.257202</td>\n",
       "      <td>194.717667</td>\n",
       "      <td>1346.411610</td>\n",
       "      <td>-0.654579</td>\n",
       "      <td>0.020184</td>\n",
       "      <td>1.209633</td>\n",
       "      <td>False</td>\n",
       "    </tr>\n",
       "    <tr>\n",
       "      <th>228</th>\n",
       "      <td>1.148735</td>\n",
       "      <td>11.0</td>\n",
       "      <td>3893.033204</td>\n",
       "      <td>-3.099793</td>\n",
       "      <td>-1315.430908</td>\n",
       "      <td>-128.437622</td>\n",
       "      <td>1321.686308</td>\n",
       "      <td>-0.396475</td>\n",
       "      <td>-0.016582</td>\n",
       "      <td>1.654642</td>\n",
       "      <td>True</td>\n",
       "    </tr>\n",
       "    <tr>\n",
       "      <th>100</th>\n",
       "      <td>0.071442</td>\n",
       "      <td>12.0</td>\n",
       "      <td>5043.821056</td>\n",
       "      <td>-0.018976</td>\n",
       "      <td>562.949829</td>\n",
       "      <td>-28.173853</td>\n",
       "      <td>563.654394</td>\n",
       "      <td>0.232170</td>\n",
       "      <td>-0.004406</td>\n",
       "      <td>2.166470</td>\n",
       "      <td>False</td>\n",
       "    </tr>\n",
       "  </tbody>\n",
       "</table>\n",
       "</div>"
      ],
      "text/plain": [
       "     track_chi2PerDoF  track_nLHCbIDs      track_p  track_phi  \\\n",
       "100          1.450902            12.0  5968.964872   0.034813   \n",
       "103          1.126520            12.0  2470.408247   0.051994   \n",
       "39           1.588973            11.0  1996.761659   3.110768   \n",
       "228          1.148735            11.0  3893.033204  -3.099793   \n",
       "100          0.071442            12.0  5043.821056  -0.018976   \n",
       "\n",
       "     track_position_x  track_position_y  track_position_r  track_tx  track_ty  \\\n",
       "100        299.038727         53.697536        303.821634  0.169439  0.005901   \n",
       "103       1496.910400        254.066284       1518.318288  0.576064  0.029979   \n",
       "39       -1332.257202        194.717667       1346.411610 -0.654579  0.020184   \n",
       "228      -1315.430908       -128.437622       1321.686308 -0.396475 -0.016582   \n",
       "100        562.949829        -28.173853        563.654394  0.232170 -0.004406   \n",
       "\n",
       "     track_pseudoRapidity  particle_isDown_noVelo  \n",
       "100              2.474912                   False  \n",
       "103              1.317719                   False  \n",
       "39               1.209633                   False  \n",
       "228              1.654642                    True  \n",
       "100              2.166470                   False  "
      ]
     },
     "execution_count": 65,
     "metadata": {},
     "output_type": "execute_result"
    }
   ],
   "source": [
    "data.head()"
   ]
  },
  {
   "cell_type": "code",
   "execution_count": 66,
   "id": "6edf97ee",
   "metadata": {},
   "outputs": [],
   "source": [
    "x=data.drop('particle_isDown_noVelo',axis=1)"
   ]
  },
  {
   "cell_type": "code",
   "execution_count": 67,
   "id": "b53d5c22",
   "metadata": {},
   "outputs": [],
   "source": [
    "y=data['particle_isDown_noVelo']"
   ]
  },
  {
   "cell_type": "code",
   "execution_count": 68,
   "id": "5603dea3",
   "metadata": {},
   "outputs": [],
   "source": [
    "x_train,x_test,y_train,y_test=train_test_split(x,y,stratify=y,random_state=14)"
   ]
  },
  {
   "cell_type": "code",
   "execution_count": 69,
   "id": "c3bb11da",
   "metadata": {},
   "outputs": [],
   "source": [
    "class DataFun(Dataset):\n",
    "    def __init__(self,x_data,y_data):\n",
    "        self.x_data=x_data\n",
    "        self.y_data=y_data\n",
    "    def __getitem__(self,index):\n",
    "        return self.x_data[index],self.y_data[index]\n",
    "    def __len__(self):\n",
    "        return len(self.x_data)"
   ]
  },
  {
   "cell_type": "code",
   "execution_count": 70,
   "id": "5b3730c4",
   "metadata": {},
   "outputs": [],
   "source": [
    "train_data=DataFun(torch.FloatTensor(x_train.values),torch.FloatTensor(y_train.values))"
   ]
  },
  {
   "cell_type": "code",
   "execution_count": 71,
   "id": "9216ffd3",
   "metadata": {},
   "outputs": [],
   "source": [
    "train_loader=DataLoader(train_data,batch_size=4,shuffle=True)\n",
    "#test_loader=DataLoader(x_train,batch_size=1,shuffle=True)"
   ]
  },
  {
   "cell_type": "code",
   "execution_count": 72,
   "id": "cb9e9945",
   "metadata": {},
   "outputs": [],
   "source": [
    "## According to the paper:\n",
    "class LogModel(nn.Module):\n",
    "    def __init__(self,input_num,output_num):\n",
    "        super(LogModel,self).__init__()\n",
    "        self.Layer1=nn.Linear(input_num,15)\n",
    "        self.relu=nn.ReLU()\n",
    "        self.Layer2=nn.Linear(15,output_num)\n",
    "        self.Sigmoid=nn.Sigmoid()\n",
    "    def forward(self,x):\n",
    "        output=self.Layer1(x)\n",
    "        output=self.relu(output)\n",
    "        output=self.Layer2(output)\n",
    "#         output=self.Sigmoid(output)\n",
    "        return output"
   ]
  },
  {
   "cell_type": "code",
   "execution_count": 73,
   "id": "fb384959",
   "metadata": {},
   "outputs": [],
   "source": [
    "model=LogModel(10,1)"
   ]
  },
  {
   "cell_type": "code",
   "execution_count": 74,
   "id": "8e807075",
   "metadata": {},
   "outputs": [],
   "source": [
    "epochs=10\n",
    "criterion=nn.BCEWithLogitsLoss()\n",
    "optimizer=torch.optim.Adam(params=model.parameters())"
   ]
  },
  {
   "cell_type": "code",
   "execution_count": 75,
   "id": "896a1b7b",
   "metadata": {},
   "outputs": [
    {
     "data": {
      "text/plain": [
       "LogModel(\n",
       "  (Layer1): Linear(in_features=10, out_features=15, bias=True)\n",
       "  (relu): ReLU()\n",
       "  (Layer2): Linear(in_features=15, out_features=1, bias=True)\n",
       "  (Sigmoid): Sigmoid()\n",
       ")"
      ]
     },
     "execution_count": 75,
     "metadata": {},
     "output_type": "execute_result"
    }
   ],
   "source": [
    "model.train()"
   ]
  },
  {
   "cell_type": "code",
   "execution_count": 76,
   "id": "17848183",
   "metadata": {},
   "outputs": [
    {
     "name": "stdout",
     "output_type": "stream",
     "text": [
      "Epoch is 1 and Loss is -8607094682.27852\n",
      "Epoch is 2 and Loss is -51618170133.64948\n",
      "Epoch is 3 and Loss is -132034531829.47063\n",
      "Epoch is 4 and Loss is -249177615174.39334\n",
      "Epoch is 5 and Loss is -403414742790.0062\n",
      "Epoch is 6 and Loss is -593740262257.9838\n",
      "Epoch is 7 and Loss is -818532536239.9946\n",
      "Epoch is 8 and Loss is -1081477348662.489\n",
      "Epoch is 9 and Loss is -1381498286622.3525\n",
      "Epoch is 10 and Loss is -1713576861155.8179\n"
     ]
    }
   ],
   "source": [
    "for epoch in range(1,epochs+1):\n",
    "    epoch_loss=0\n",
    "        \n",
    "    for x_batch,y_batch in train_loader:\n",
    "        optimizer.zero_grad()\n",
    "        y_pred=model(x_batch)\n",
    "        loss=criterion(y_batch.unsqueeze(1),y_pred)\n",
    "        loss.backward()\n",
    "        optimizer.step()\n",
    "        epoch_loss+=loss.item()\n",
    "    print(f'Epoch is {epoch} and Loss is {epoch_loss}')\n",
    "        \n",
    "        "
   ]
  },
  {
   "cell_type": "code",
   "execution_count": null,
   "id": "5302738e",
   "metadata": {},
   "outputs": [],
   "source": []
  }
 ],
 "metadata": {
  "kernelspec": {
   "display_name": "remote",
   "language": "python",
   "name": "remote"
  },
  "language_info": {
   "codemirror_mode": {
    "name": "ipython",
    "version": 3
   },
   "file_extension": ".py",
   "mimetype": "text/x-python",
   "name": "python",
   "nbconvert_exporter": "python",
   "pygments_lexer": "ipython3",
   "version": "3.8.0"
  }
 },
 "nbformat": 4,
 "nbformat_minor": 5
}

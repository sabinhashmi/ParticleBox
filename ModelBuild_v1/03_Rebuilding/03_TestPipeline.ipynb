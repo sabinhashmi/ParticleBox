{
 "cells": [
  {
   "cell_type": "code",
   "execution_count": 21,
   "metadata": {},
   "outputs": [],
   "source": [
    "import pandas as pd\n",
    "import numpy as np\n",
    "import seaborn as sns\n",
    "import matplotlib.pyplot as plt\n",
    "from scipy.special import softmax as soft\n",
    "import sys\n",
    "sys.path.append('/home/hashmi/Files/DataFolder/Models')\n",
    "import Classifier"
   ]
  },
  {
   "cell_type": "code",
   "execution_count": 23,
   "metadata": {},
   "outputs": [],
   "source": [
    "# fileName=input('Enter Test File Name ?',Eg:Test)\n",
    "filename='Test'\n",
    "data=pd.read_csv(filename+'.csv')"
   ]
  },
  {
   "cell_type": "code",
   "execution_count": 9,
   "metadata": {},
   "outputs": [],
   "source": [
    "model_Out=[]\n",
    "for index,rowValue in data.iterrows():\n",
    "    rawOutput=Classifier.apply_catboost_model(rowValue.values)\n",
    "    probabilityOut= np.exp(rawOutput)/(1+np.exp(rawOutput))\n",
    "    model_Out.append(probabilityOut)"
   ]
  },
  {
   "cell_type": "code",
   "execution_count": 16,
   "metadata": {},
   "outputs": [],
   "source": [
    "data['Probability']=model_Out\n",
    "data['Label']=np.where(data['Probability']<0.5,0,1)\n",
    "data['Label'].value_counts()"
   ]
  },
  {
   "cell_type": "code",
   "execution_count": 17,
   "metadata": {},
   "outputs": [],
   "source": [
    "data.head()"
   ]
  },
  {
   "cell_type": "code",
   "execution_count": null,
   "metadata": {},
   "outputs": [],
   "source": []
  }
 ],
 "metadata": {
  "interpreter": {
   "hash": "f0b5704e0753844c914e694f858654540ae357911934d72da4d907f6643f065e"
  },
  "kernelspec": {
   "display_name": "Python 3.8.12 64-bit ('remote': conda)",
   "language": "python",
   "name": "python3"
  },
  "language_info": {
   "codemirror_mode": {
    "name": "ipython",
    "version": 3
   },
   "file_extension": ".py",
   "mimetype": "text/x-python",
   "name": "python",
   "nbconvert_exporter": "python",
   "pygments_lexer": "ipython3",
   "version": "3.8.12"
  },
  "orig_nbformat": 4
 },
 "nbformat": 4,
 "nbformat_minor": 2
}

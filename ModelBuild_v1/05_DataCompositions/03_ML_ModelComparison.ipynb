{
 "cells": [
  {
   "cell_type": "code",
   "execution_count": 1,
   "id": "ce294687",
   "metadata": {},
   "outputs": [],
   "source": [
    "import uproot\n",
    "import pandas as pd\n",
    "\n",
    "from sklearn.model_selection import train_test_split\n",
    "from imblearn.over_sampling import SMOTE\n",
    "smote=SMOTE()\n",
    "from sklearn.tree import DecisionTreeClassifier\n",
    "dt=DecisionTreeClassifier()\n",
    "from sklearn.metrics import confusion_matrix,accuracy_score"
   ]
  },
  {
   "cell_type": "markdown",
   "id": "2369c12a",
   "metadata": {},
   "source": [
    "### Approach - 1"
   ]
  },
  {
   "cell_type": "code",
   "execution_count": 5,
   "id": "9b1adee8",
   "metadata": {},
   "outputs": [],
   "source": [
    "data_01=uproot.open('./DataGenerated/01_Downsteam_Ghost.root:Particle_Data')\n",
    "data_01=data_01.arrays(library='pd')"
   ]
  },
  {
   "cell_type": "code",
   "execution_count": 7,
   "id": "ecb70a79",
   "metadata": {},
   "outputs": [],
   "source": [
    "features=['track_chi2PerDoF','track_nLHCbIDs','track_p','track_position_x',\n",
    "           'track_position_y','track_position_r','track_pt','track_tx','track_ty','track_pseudoRapidity']\n",
    "\n",
    "\n",
    "tracks=['particle_hasScifi','particle_hasUT','particle_hasVelo','particle_isDown','particle_isDown_noVelo','particle_isLong',\n",
    "           'particle_isLong_andUT','partiole_isElectron']"
   ]
  },
  {
   "cell_type": "code",
   "execution_count": 16,
   "id": "eb80bcbe",
   "metadata": {},
   "outputs": [],
   "source": [
    "data_01=data_01[features+['Downstream/Ghost']]"
   ]
  },
  {
   "cell_type": "code",
   "execution_count": 18,
   "id": "4d0e0a39",
   "metadata": {},
   "outputs": [],
   "source": [
    "x=data_01.drop('Downstream/Ghost',axis=1)\n",
    "y=data_01['Downstream/Ghost']"
   ]
  },
  {
   "cell_type": "code",
   "execution_count": 24,
   "id": "ce0527cc",
   "metadata": {},
   "outputs": [],
   "source": [
    "x,y=smote.fit_resample(x,y)"
   ]
  },
  {
   "cell_type": "code",
   "execution_count": 26,
   "id": "54bd97f8",
   "metadata": {},
   "outputs": [],
   "source": [
    "x_train,x_test,y_train,y_test=train_test_split(x,y,stratify=y,random_state=56,test_size=0.3)"
   ]
  },
  {
   "cell_type": "code",
   "execution_count": 29,
   "id": "7e752fc1",
   "metadata": {},
   "outputs": [
    {
     "data": {
      "text/plain": [
       "DecisionTreeClassifier()"
      ]
     },
     "execution_count": 29,
     "metadata": {},
     "output_type": "execute_result"
    }
   ],
   "source": [
    "dt.fit(x_train,y_train)\n",
    "y_pred=dt.predict(x_test)\n",
    "print(accuracy_score(y_test,y_pred))\n",
    "confusion_matrix(y_test,y_pred)"
   ]
  },
  {
   "cell_type": "code",
   "execution_count": null,
   "id": "0c1af1d1",
   "metadata": {},
   "outputs": [],
   "source": []
  },
  {
   "cell_type": "markdown",
   "id": "777280fb",
   "metadata": {},
   "source": [
    "### Approach - 2"
   ]
  },
  {
   "cell_type": "code",
   "execution_count": 34,
   "id": "34954088",
   "metadata": {},
   "outputs": [],
   "source": [
    "ds_data=uproot.open('./DataGenerated/02_Flagged.root:Particle_Data')\n",
    "ds_data=ds_data.arrays(library='pd')\n",
    "\n",
    "gs_data=uproot.open('./DataGenerated/02_Ghost.root:Particle_Data')\n",
    "gs_data=gs_data.arrays(library='pd')"
   ]
  },
  {
   "cell_type": "code",
   "execution_count": 41,
   "id": "f5a2df30",
   "metadata": {},
   "outputs": [],
   "source": [
    "ds_data=ds_data[features+['particle_isDown_noVelo']]\n",
    "gs_data=gs_data[features]"
   ]
  },
  {
   "cell_type": "code",
   "execution_count": 42,
   "id": "11b27819",
   "metadata": {},
   "outputs": [],
   "source": [
    "x=ds_data.drop('particle_isDown_noVelo',axis=1)\n",
    "y=ds_data['particle_isDown_noVelo']"
   ]
  },
  {
   "cell_type": "code",
   "execution_count": 44,
   "id": "a48343ef",
   "metadata": {},
   "outputs": [],
   "source": [
    "x,y=smote.fit_resample(x,y)"
   ]
  },
  {
   "cell_type": "code",
   "execution_count": 45,
   "id": "0154303f",
   "metadata": {},
   "outputs": [],
   "source": [
    "x_train,x_test,y_train,y_test=train_test_split(x,y,stratify=y,random_state=56,test_size=0.3)"
   ]
  },
  {
   "cell_type": "code",
   "execution_count": 46,
   "id": "65be4c4d",
   "metadata": {},
   "outputs": [
    {
     "name": "stdout",
     "output_type": "stream",
     "text": [
      "0.8108675821143981\n"
     ]
    },
    {
     "data": {
      "text/plain": [
       "array([[1067900,  277707],\n",
       "       [ 231289, 1114319]])"
      ]
     },
     "execution_count": 46,
     "metadata": {},
     "output_type": "execute_result"
    }
   ],
   "source": [
    "dt.fit(x_train,y_train)\n",
    "y_pred=dt.predict(x_test)\n",
    "print(accuracy_score(y_test,y_pred))\n",
    "confusion_matrix(y_test,y_pred)"
   ]
  },
  {
   "cell_type": "code",
   "execution_count": 47,
   "id": "081f005e",
   "metadata": {},
   "outputs": [],
   "source": [
    "#Validating the model on Ghost:"
   ]
  },
  {
   "cell_type": "code",
   "execution_count": 48,
   "id": "e5cfde7e",
   "metadata": {},
   "outputs": [],
   "source": [
    "ghost_predict=dt.predict(gs_data)"
   ]
  },
  {
   "cell_type": "code",
   "execution_count": null,
   "id": "85ccea2f",
   "metadata": {},
   "outputs": [],
   "source": []
  },
  {
   "cell_type": "code",
   "execution_count": 49,
   "id": "9180a03f",
   "metadata": {},
   "outputs": [
    {
     "name": "stderr",
     "output_type": "stream",
     "text": [
      "/tmp/ipykernel_22512/1238808484.py:1: SettingWithCopyWarning: \n",
      "A value is trying to be set on a copy of a slice from a DataFrame.\n",
      "Try using .loc[row_indexer,col_indexer] = value instead\n",
      "\n",
      "See the caveats in the documentation: https://pandas.pydata.org/pandas-docs/stable/user_guide/indexing.html#returning-a-view-versus-a-copy\n",
      "  gs_data['Label']=ghost_predict\n"
     ]
    }
   ],
   "source": [
    "gs_data['Label']=ghost_predict"
   ]
  },
  {
   "cell_type": "code",
   "execution_count": 50,
   "id": "7b26aa04",
   "metadata": {},
   "outputs": [
    {
     "data": {
      "text/html": [
       "<div>\n",
       "<style scoped>\n",
       "    .dataframe tbody tr th:only-of-type {\n",
       "        vertical-align: middle;\n",
       "    }\n",
       "\n",
       "    .dataframe tbody tr th {\n",
       "        vertical-align: top;\n",
       "    }\n",
       "\n",
       "    .dataframe thead th {\n",
       "        text-align: right;\n",
       "    }\n",
       "</style>\n",
       "<table border=\"1\" class=\"dataframe\">\n",
       "  <thead>\n",
       "    <tr style=\"text-align: right;\">\n",
       "      <th></th>\n",
       "      <th>track_chi2PerDoF</th>\n",
       "      <th>track_nLHCbIDs</th>\n",
       "      <th>track_p</th>\n",
       "      <th>track_position_x</th>\n",
       "      <th>track_position_y</th>\n",
       "      <th>track_position_r</th>\n",
       "      <th>track_pt</th>\n",
       "      <th>track_tx</th>\n",
       "      <th>track_ty</th>\n",
       "      <th>track_pseudoRapidity</th>\n",
       "      <th>Label</th>\n",
       "    </tr>\n",
       "  </thead>\n",
       "  <tbody>\n",
       "    <tr>\n",
       "      <th>0</th>\n",
       "      <td>0.168421</td>\n",
       "      <td>11.0</td>\n",
       "      <td>11909.759099</td>\n",
       "      <td>-630.108887</td>\n",
       "      <td>94.554832</td>\n",
       "      <td>637.163892</td>\n",
       "      <td>1768.037611</td>\n",
       "      <td>-0.149710</td>\n",
       "      <td>0.011029</td>\n",
       "      <td>2.595079</td>\n",
       "      <td>False</td>\n",
       "    </tr>\n",
       "    <tr>\n",
       "      <th>1</th>\n",
       "      <td>0.298741</td>\n",
       "      <td>11.0</td>\n",
       "      <td>23838.467047</td>\n",
       "      <td>-185.017532</td>\n",
       "      <td>71.173920</td>\n",
       "      <td>198.235249</td>\n",
       "      <td>1378.792022</td>\n",
       "      <td>-0.057027</td>\n",
       "      <td>0.010223</td>\n",
       "      <td>3.542403</td>\n",
       "      <td>False</td>\n",
       "    </tr>\n",
       "    <tr>\n",
       "      <th>2</th>\n",
       "      <td>0.413166</td>\n",
       "      <td>12.0</td>\n",
       "      <td>7602.727968</td>\n",
       "      <td>399.872742</td>\n",
       "      <td>91.567459</td>\n",
       "      <td>410.222877</td>\n",
       "      <td>1175.531851</td>\n",
       "      <td>0.156025</td>\n",
       "      <td>0.012208</td>\n",
       "      <td>2.553902</td>\n",
       "      <td>False</td>\n",
       "    </tr>\n",
       "    <tr>\n",
       "      <th>3</th>\n",
       "      <td>0.131244</td>\n",
       "      <td>9.0</td>\n",
       "      <td>12594.646453</td>\n",
       "      <td>-588.363281</td>\n",
       "      <td>205.212540</td>\n",
       "      <td>623.124014</td>\n",
       "      <td>414.296582</td>\n",
       "      <td>-0.014740</td>\n",
       "      <td>0.029427</td>\n",
       "      <td>4.107322</td>\n",
       "      <td>False</td>\n",
       "    </tr>\n",
       "    <tr>\n",
       "      <th>4</th>\n",
       "      <td>0.136803</td>\n",
       "      <td>10.0</td>\n",
       "      <td>7422.665673</td>\n",
       "      <td>-383.692749</td>\n",
       "      <td>7.793806</td>\n",
       "      <td>383.771897</td>\n",
       "      <td>1139.669388</td>\n",
       "      <td>-0.155381</td>\n",
       "      <td>0.000416</td>\n",
       "      <td>2.561001</td>\n",
       "      <td>False</td>\n",
       "    </tr>\n",
       "  </tbody>\n",
       "</table>\n",
       "</div>"
      ],
      "text/plain": [
       "   track_chi2PerDoF  track_nLHCbIDs       track_p  track_position_x  \\\n",
       "0          0.168421            11.0  11909.759099       -630.108887   \n",
       "1          0.298741            11.0  23838.467047       -185.017532   \n",
       "2          0.413166            12.0   7602.727968        399.872742   \n",
       "3          0.131244             9.0  12594.646453       -588.363281   \n",
       "4          0.136803            10.0   7422.665673       -383.692749   \n",
       "\n",
       "   track_position_y  track_position_r     track_pt  track_tx  track_ty  \\\n",
       "0         94.554832        637.163892  1768.037611 -0.149710  0.011029   \n",
       "1         71.173920        198.235249  1378.792022 -0.057027  0.010223   \n",
       "2         91.567459        410.222877  1175.531851  0.156025  0.012208   \n",
       "3        205.212540        623.124014   414.296582 -0.014740  0.029427   \n",
       "4          7.793806        383.771897  1139.669388 -0.155381  0.000416   \n",
       "\n",
       "   track_pseudoRapidity  Label  \n",
       "0              2.595079  False  \n",
       "1              3.542403  False  \n",
       "2              2.553902  False  \n",
       "3              4.107322  False  \n",
       "4              2.561001  False  "
      ]
     },
     "execution_count": 50,
     "metadata": {},
     "output_type": "execute_result"
    }
   ],
   "source": [
    "\n",
    "gs_data.head()"
   ]
  },
  {
   "cell_type": "code",
   "execution_count": 52,
   "id": "4548a881",
   "metadata": {},
   "outputs": [
    {
     "data": {
      "text/plain": [
       "False    0.713683\n",
       "True     0.286317\n",
       "Name: Label, dtype: float64"
      ]
     },
     "execution_count": 52,
     "metadata": {},
     "output_type": "execute_result"
    }
   ],
   "source": [
    "gs_data['Label'].value_counts(normalize=True)"
   ]
  },
  {
   "cell_type": "code",
   "execution_count": null,
   "id": "c52df9e2",
   "metadata": {},
   "outputs": [],
   "source": []
  }
 ],
 "metadata": {
  "kernelspec": {
   "display_name": "remote",
   "language": "python",
   "name": "remote"
  },
  "language_info": {
   "codemirror_mode": {
    "name": "ipython",
    "version": 3
   },
   "file_extension": ".py",
   "mimetype": "text/x-python",
   "name": "python",
   "nbconvert_exporter": "python",
   "pygments_lexer": "ipython3",
   "version": "3.8.12"
  }
 },
 "nbformat": 4,
 "nbformat_minor": 5
}

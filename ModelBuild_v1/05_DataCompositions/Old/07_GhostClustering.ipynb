{
 "cells": [
  {
   "cell_type": "code",
   "execution_count": 1,
   "id": "f27fe896",
   "metadata": {},
   "outputs": [],
   "source": [
    "import uproot\n",
    "import pandas as pd\n",
    "from sklearn.cluster import KMeans\n",
    "from sklearn.cluster import AgglomerativeClustering\n",
    "import numpy as np\n",
    "import matplotlib.pyplot as plt"
   ]
  },
  {
   "cell_type": "code",
   "execution_count": 2,
   "id": "c751b79d",
   "metadata": {},
   "outputs": [
    {
     "name": "stdout",
     "output_type": "stream",
     "text": [
      "CPU times: user 2min 39s, sys: 6.24 s, total: 2min 45s\n",
      "Wall time: 2min 45s\n"
     ]
    }
   ],
   "source": [
    "%%time\n",
    "\n",
    "DDks=uproot.open('/data3/tracking-upgrade-data/dump_comb/DD_ks_moore_big.root:Particle_Data')\n",
    "DDl=uproot.open('/data3/tracking-upgrade-data/dump_comb/DD_l_moore_big.root:Particle_Data')\n",
    "GDks=uproot.open('/data3/tracking-upgrade-data/dump_comb/GD_ks_moore_big.root:Particle_Data')\n",
    "GDl=uproot.open('/data3/tracking-upgrade-data/dump_comb/GD_l_moore_big.root:Particle_Data')\n",
    "\n",
    "\n",
    "\n",
    "DDvariables=['track_chi2PerDoF','track_nLHCbIDs','track_p','track_phi','track_position_x',\n",
    "           'track_position_y','track_position_r','track_pt','track_tx','track_ty','track_pseudoRapidity',\n",
    "           'particle_hasScifi','particle_hasUT','particle_hasVelo','particle_isDown','particle_isDown_noVelo','particle_isLong',\n",
    "           'particle_isLong_andUT','particle_isElectron']\n",
    "\n",
    "\n",
    "GDvariables=['track_chi2PerDoF','track_nLHCbIDs','track_p','track_phi','track_position_x',\n",
    "           'track_position_y','track_position_r','track_pt','track_tx','track_ty','track_pseudoRapidity']\n",
    "\n",
    "\n",
    "\n",
    "features=['track_chi2PerDoF','track_nLHCbIDs','track_p','track_position_x',\n",
    "           'track_position_y','track_position_r','track_pt','track_tx','track_ty','track_pseudoRapidity']\n",
    "\n",
    "\n",
    "tracks=['particle_hasScifi','particle_hasUT','particle_hasVelo','particle_isDown','particle_isDown_noVelo','particle_isLong',\n",
    "           'particle_isLong_andUT','partiole_isElectron']\n",
    "\n",
    "\n",
    "\n",
    "\n",
    "\n",
    "DDks_Data=DDks.arrays(DDvariables,library='pd')\n",
    "DDl_Data=DDl.arrays(DDvariables,library='pd')\n",
    "\n",
    "\n",
    "GDks_Data=GDks.arrays(GDvariables,library='pd')\n",
    "GDl_Data=GDl.arrays(GDvariables,library='pd')\n",
    "\n",
    "\n",
    "\n",
    "DD_data=pd.concat([DDks_Data,DDl_Data]).fillna(False)\n",
    "\n",
    "GD_data=pd.concat([GDks_Data,GDl_Data]).fillna(False)\n",
    "\n",
    "\n",
    "DD_data['Ghost']=0\n",
    "GD_data['Ghost']=1\n",
    "\n",
    "\n",
    "\n",
    "\n",
    "DD_data=DD_data.loc[(DD_data['track_p']<100e3) & (DD_data['particle_isDown_noVelo']==True) | (DD_data['particle_isLong_andUT']==True) &(DD_data['particle_isElectron']==False)]\n",
    "\n",
    "\n",
    "GD_data=GD_data.loc[(GD_data['track_p']<100e3)]\n",
    "\n",
    "\n",
    "\n"
   ]
  },
  {
   "cell_type": "code",
   "execution_count": 3,
   "id": "7b4b12cf",
   "metadata": {},
   "outputs": [],
   "source": [
    "data=pd.concat([DD_data,GD_data]).fillna(False)"
   ]
  },
  {
   "cell_type": "code",
   "execution_count": 4,
   "id": "3c126ba6",
   "metadata": {},
   "outputs": [],
   "source": [
    "sample=data.drop([ 'particle_hasScifi',\n",
    "       'particle_hasUT', 'particle_hasVelo', 'particle_isDown',\n",
    "       'particle_isDown_noVelo', 'particle_isLong', 'particle_isLong_andUT',\n",
    "       'particle_isElectron', 'Ghost'],axis=1)"
   ]
  },
  {
   "cell_type": "code",
   "execution_count": null,
   "id": "06e0ef8f",
   "metadata": {},
   "outputs": [],
   "source": []
  },
  {
   "cell_type": "code",
   "execution_count": 5,
   "id": "e2e0e106",
   "metadata": {},
   "outputs": [
    {
     "name": "stdout",
     "output_type": "stream",
     "text": [
      "[1593904853981052.2, 698954225285304.0, 410448839087780.7, 282194890174820.56, 199667463752027.78, 153386268080183.94, 124239589516558.48, 100957550858807.0, 85697798451584.19]\n",
      "CPU times: user 2h 2min 54s, sys: 21min 53s, total: 2h 24min 48s\n",
      "Wall time: 18min 1s\n"
     ]
    },
    {
     "data": {
      "text/plain": [
       "[<matplotlib.lines.Line2D at 0x7fc4f80fdf70>]"
      ]
     },
     "execution_count": 5,
     "metadata": {},
     "output_type": "execute_result"
    },
    {
     "data": {
      "image/png": "[encoded data removed]",
      "text/plain": [
       "<Figure size 432x288 with 1 Axes>"
      ]
     },
     "metadata": {
      "needs_background": "light"
     },
     "output_type": "display_data"
    }
   ],
   "source": [
    "%%time\n",
    "inertia=[]\n",
    "value_range=np.arange(1,10)\n",
    "for i in value_range:\n",
    "    kmean=KMeans(n_clusters=i)\n",
    "    kmean.fit(sample)\n",
    "    inertia.append(kmean.inertia_)\n",
    "\n",
    "print(inertia)\n",
    "plt.plot(value_range,inertia)"
   ]
  },
  {
   "cell_type": "code",
   "execution_count": null,
   "id": "fe25bac6",
   "metadata": {},
   "outputs": [],
   "source": []
  },
  {
   "cell_type": "code",
   "execution_count": null,
   "id": "4dbcecf1",
   "metadata": {},
   "outputs": [],
   "source": []
  },
  {
   "cell_type": "code",
   "execution_count": 6,
   "id": "8dacfd57",
   "metadata": {},
   "outputs": [],
   "source": [
    "kmean=KMeans(n_clusters=3)"
   ]
  },
  {
   "cell_type": "code",
   "execution_count": 7,
   "id": "866fafd7",
   "metadata": {},
   "outputs": [
    {
     "data": {
      "text/plain": [
       "KMeans(n_clusters=3)"
      ]
     },
     "execution_count": 7,
     "metadata": {},
     "output_type": "execute_result"
    }
   ],
   "source": [
    "kmean.fit(sample)"
   ]
  },
  {
   "cell_type": "code",
   "execution_count": null,
   "id": "5d2c377f",
   "metadata": {},
   "outputs": [],
   "source": []
  },
  {
   "cell_type": "code",
   "execution_count": null,
   "id": "caf709fa",
   "metadata": {},
   "outputs": [],
   "source": []
  },
  {
   "cell_type": "code",
   "execution_count": 9,
   "id": "3cbdf520",
   "metadata": {},
   "outputs": [
    {
     "data": {
      "text/plain": [
       "Index(['track_chi2PerDoF', 'track_nLHCbIDs', 'track_p', 'track_phi',\n",
       "       'track_position_x', 'track_position_y', 'track_position_r', 'track_pt',\n",
       "       'track_tx', 'track_ty', 'track_pseudoRapidity', 'particle_hasScifi',\n",
       "       'particle_hasUT', 'particle_hasVelo', 'particle_isDown',\n",
       "       'particle_isDown_noVelo', 'particle_isLong', 'particle_isLong_andUT',\n",
       "       'particle_isElectron', 'Ghost'],\n",
       "      dtype='object')"
      ]
     },
     "execution_count": 9,
     "metadata": {},
     "output_type": "execute_result"
    }
   ],
   "source": [
    "data.columns"
   ]
  },
  {
   "cell_type": "code",
   "execution_count": 10,
   "id": "b931fcc3",
   "metadata": {},
   "outputs": [],
   "source": [
    "data['label']=kmean.labels_"
   ]
  },
  {
   "cell_type": "code",
   "execution_count": null,
   "id": "304a908f",
   "metadata": {},
   "outputs": [],
   "source": []
  },
  {
   "cell_type": "code",
   "execution_count": 12,
   "id": "71e619f9",
   "metadata": {},
   "outputs": [],
   "source": [
    "\n",
    "file=uproot.recreate('./clustered_data.root')\n",
    "file['Particle_Data']=data"
   ]
  },
  {
   "cell_type": "code",
   "execution_count": null,
   "id": "2a77e870",
   "metadata": {},
   "outputs": [],
   "source": []
  }
 ],
 "metadata": {
  "kernelspec": {
   "display_name": "remote",
   "language": "python",
   "name": "remote"
  },
  "language_info": {
   "codemirror_mode": {
    "name": "ipython",
    "version": 3
   },
   "file_extension": ".py",
   "mimetype": "text/x-python",
   "name": "python",
   "nbconvert_exporter": "python",
   "pygments_lexer": "ipython3",
   "version": "3.8.12"
  }
 },
 "nbformat": 4,
 "nbformat_minor": 5
}

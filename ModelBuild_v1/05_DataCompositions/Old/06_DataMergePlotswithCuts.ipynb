{
 "cells": [
  {
   "cell_type": "code",
   "execution_count": 1,
   "id": "1977a8d6",
   "metadata": {},
   "outputs": [
    {
     "name": "stdout",
     "output_type": "stream",
     "text": [
      "Welcome to JupyROOT 6.22/02\n"
     ]
    }
   ],
   "source": [
    "import uproot\n",
    "import pandas as pd\n",
    "import ROOT"
   ]
  },
  {
   "cell_type": "code",
   "execution_count": 2,
   "id": "ee9ae955",
   "metadata": {},
   "outputs": [],
   "source": [
    "DDks=uproot.open('/data3/tracking-upgrade-data/dump_comb/DD_ks_moore_big.root:Particle_Data')\n",
    "DDl=uproot.open('/data3/tracking-upgrade-data/dump_comb/DD_l_moore_big.root:Particle_Data')\n",
    "GDks=uproot.open('/data3/tracking-upgrade-data/dump_comb/GD_ks_moore_big.root:Particle_Data')\n",
    "GDl=uproot.open('/data3/tracking-upgrade-data/dump_comb/GD_l_moore_big.root:Particle_Data')"
   ]
  },
  {
   "cell_type": "code",
   "execution_count": 3,
   "id": "70c45282",
   "metadata": {},
   "outputs": [],
   "source": [
    "DDvariables=['track_charge','track_chi2','track_chi2PerDoF','track_nLHCbIDs','track_p','track_phi','track_position_x',\n",
    "           'track_position_y','track_position_r','track_pt','track_tx','track_ty','track_pseudoRapidity',\n",
    "           'particle_hasScifi','particle_hasUT','particle_hasVelo','particle_isDown','particle_isDown_noVelo','particle_isLong',\n",
    "           'particle_isLong_andUT','particle_isElectron']\n",
    "\n",
    "\n",
    "GDvariables=['track_charge','track_chi2','track_chi2PerDoF','track_nLHCbIDs','track_p','track_phi','track_position_x',\n",
    "           'track_position_y','track_position_r','track_pt','track_tx','track_ty','track_pseudoRapidity']\n",
    "\n",
    "\n",
    "\n",
    "features=['track_chi2PerDoF','track_nLHCbIDs','track_p','track_position_x',\n",
    "           'track_position_y','track_position_r','track_pt','track_tx','track_ty','track_pseudoRapidity']\n",
    "\n",
    "\n",
    "tracks=['particle_hasScifi','particle_hasUT','particle_hasVelo','particle_isDown','particle_isDown_noVelo','particle_isLong',\n",
    "           'particle_isLong_andUT','partiole_isElectron']"
   ]
  },
  {
   "cell_type": "code",
   "execution_count": 4,
   "id": "1db7f2c0",
   "metadata": {},
   "outputs": [
    {
     "name": "stdout",
     "output_type": "stream",
     "text": [
      "CPU times: user 2min 57s, sys: 7.65 s, total: 3min 5s\n",
      "Wall time: 3min 4s\n"
     ]
    }
   ],
   "source": [
    "%%time\n",
    "\n",
    "DDks_Data=DDks.arrays(DDvariables,library='pd')\n",
    "DDl_Data=DDl.arrays(DDvariables,library='pd')\n",
    "\n",
    "\n",
    "GDks_Data=GDks.arrays(GDvariables,library='pd')\n",
    "GDl_Data=GDl.arrays(GDvariables,library='pd')\n",
    "\n",
    "\n",
    "\n",
    "DD_data=pd.concat([DDks_Data,DDl_Data]).fillna(False)\n",
    "\n",
    "GD_data=pd.concat([GDks_Data,GDl_Data]).fillna(False)\n",
    "\n",
    "\n",
    "DD_data['Ghost']=0\n",
    "GD_data['Ghost']=1"
   ]
  },
  {
   "cell_type": "code",
   "execution_count": 5,
   "id": "a4fac237",
   "metadata": {},
   "outputs": [],
   "source": [
    "DD_data=DD_data.loc[(DD_data['track_p']<100e3) & (DD_data['particle_isDown_noVelo']==True) | (DD_data['particle_isLong_andUT']==True) &(DD_data['particle_isElectron']==False)]\n",
    "\n",
    "\n",
    "GD_data=GD_data.loc[(GD_data['track_p']<100e3)]\n",
    "\n",
    "\n"
   ]
  },
  {
   "cell_type": "code",
   "execution_count": 6,
   "id": "b8447660",
   "metadata": {},
   "outputs": [],
   "source": [
    "DD_data=DD_data.sample(5000)\n",
    "GD_data=GD_data.sample(5000)"
   ]
  },
  {
   "cell_type": "code",
   "execution_count": null,
   "id": "c597fa15",
   "metadata": {},
   "outputs": [],
   "source": []
  },
  {
   "cell_type": "code",
   "execution_count": 7,
   "id": "50aa10ff",
   "metadata": {},
   "outputs": [],
   "source": [
    "compiled_data=pd.concat([DD_data,GD_data]).fillna(False)"
   ]
  },
  {
   "cell_type": "code",
   "execution_count": 8,
   "id": "8634d575",
   "metadata": {},
   "outputs": [],
   "source": [
    "#save\n",
    "\n",
    "file=uproot.recreate('./compiled_sample.root')\n",
    "file['Particle_Data']=compiled_data\n",
    "\n",
    "\n",
    "#open\n",
    "Data=ROOT.TFile('./compiled_sample.root')\n",
    "tree=Data.Particle_Data"
   ]
  },
  {
   "cell_type": "code",
   "execution_count": 9,
   "id": "dcc17915",
   "metadata": {},
   "outputs": [
    {
     "data": {
      "text/html": [
       "\n",
       "<div id=\"root_plot_1646724519604\"\n",
       "     style=\"width: 696px; height: 472px\">\n",
       "</div>\n",
       "<script src=\"/static/components/requirejs/require.js\" type=\"text/javascript\" charset=\"utf-8\"></script>\n",
       "<script>\n",
       " requirejs.config({\n",
       "     paths: {\n",
       "       'JSRootCore' : '/static/scripts/JSRootCore',\n",
       "     }\n",
       "   });\n",
       " require(['JSRootCore'],\n",
       "     function(Core) {\n",
       "       var obj = Core.JSONR_unref({\"_typename\":\"TCanvas\",\"fUniqueID\":0,\"fBits\":3342344,\"fLineColor\":1,\"fLineStyle\":1,\"fLineWidth\":1,\"fFillColor\":0,\"fFillStyle\":1001,\"fLeftMargin\":0.1,\"fRightMargin\":0.1,\"fBottomMargin\":0.1,\"fTopMargin\":0.1,\"fXfile\":2,\"fYfile\":2,\"fAfile\":1,\"fXstat\":0.99,\"fYstat\":0.99,\"fAstat\":2,\"fFrameFillColor\":0,\"fFrameLineColor\":1,\"fFrameFillStyle\":1001,\"fFrameLineStyle\":1,\"fFrameLineWidth\":1,\"fFrameBorderSize\":1,\"fFrameBorderMode\":0,\"fX1\":-3250.00004842878,\"fY1\":-21.9187516330742,\"fX2\":3250.00004842878,\"fY2\":197.268751633074,\"fXtoAbsPixelk\":348.00005,\"fXtoPixelk\":348.00005,\"fXtoPixel\":0.107076921481353,\"fYtoAbsPixelk\":424.800047186661,\"fYtoPixelk\":424.800047186661,\"fYtoPixel\":-2.15340743868447,\"fUtoAbsPixelk\":5e-5,\"fUtoPixelk\":5e-5,\"fUtoPixel\":696,\"fVtoAbsPixelk\":472.00005,\"fVtoPixelk\":472,\"fVtoPixel\":-472,\"fAbsPixeltoXk\":-3250.00004842878,\"fPixeltoXk\":-3250.00004842878,\"fPixeltoX\":9.33908059893327,\"fAbsPixeltoYk\":197.268751633074,\"fPixeltoYk\":-21.9187516330742,\"fPixeltoY\":-0.464380303529976,\"fXlowNDC\":0,\"fYlowNDC\":0,\"fXUpNDC\":1,\"fYUpNDC\":1,\"fWNDC\":1,\"fHNDC\":1,\"fAbsXlowNDC\":0,\"fAbsYlowNDC\":0,\"fAbsWNDC\":1,\"fAbsHNDC\":1,\"fUxmin\":-2600,\"fUymin\":0,\"fUxmax\":2600,\"fUymax\":175.35,\"fTheta\":30,\"fPhi\":30,\"fAspectRatio\":0,\"fNumber\":0,\"fTickx\":0,\"fTicky\":0,\"fLogx\":0,\"fLogy\":0,\"fLogz\":0,\"fPadPaint\":0,\"fCrosshair\":0,\"fCrosshairPos\":0,\"fBorderSize\":2,\"fBorderMode\":0,\"fModified\":false,\"fGridx\":false,\"fGridy\":false,\"fAbsCoord\":false,\"fEditable\":true,\"fFixedAspectRatio\":false,\"fPrimitives\":{\"_typename\":\"TList\",\"name\":\"TList\",\"arr\":[{\"_typename\":\"TFrame\",\"fUniqueID\":0,\"fBits\":8,\"fLineColor\":1,\"fLineStyle\":1,\"fLineWidth\":1,\"fFillColor\":0,\"fFillStyle\":1001,\"fX1\":-2600,\"fY1\":0,\"fX2\":2600,\"fY2\":175.35,\"fBorderSize\":1,\"fBorderMode\":0},{\"_typename\":\"TH1F\",\"fUniqueID\":0,\"fBits\":9,\"fName\":\"htemp\",\"fTitle\":\"track_position_x {Ghost==0}\",\"fLineColor\":1,\"fLineStyle\":1,\"fLineWidth\":1,\"fFillColor\":0,\"fFillStyle\":1001,\"fMarkerColor\":1,\"fMarkerStyle\":1,\"fMarkerSize\":1,\"fNcells\":102,\"fXaxis\":{\"_typename\":\"TAxis\",\"fUniqueID\":0,\"fBits\":0,\"fName\":\"xaxis\",\"fTitle\":\"track_position_x\",\"fNdivisions\":510,\"fAxisColor\":1,\"fLabelColor\":1,\"fLabelFont\":42,\"fLabelOffset\":0.005,\"fLabelSize\":0.035,\"fTickLength\":0.03,\"fTitleOffset\":1,\"fTitleSize\":0.035,\"fTitleColor\":1,\"fTitleFont\":42,\"fNbins\":100,\"fXmin\":-2600,\"fXmax\":2600,\"fXbins\":[],\"fFirst\":1,\"fLast\":100,\"fBits2\":0,\"fTimeDisplay\":false,\"fTimeFormat\":\"\",\"fLabels\":null,\"fModLabs\":null},\"fYaxis\":{\"_typename\":\"TAxis\",\"fUniqueID\":0,\"fBits\":0,\"fName\":\"yaxis\",\"fTitle\":\"\",\"fNdivisions\":510,\"fAxisColor\":1,\"fLabelColor\":1,\"fLabelFont\":42,\"fLabelOffset\":0.005,\"fLabelSize\":0.035,\"fTickLength\":0.03,\"fTitleOffset\":0,\"fTitleSize\":0.035,\"fTitleColor\":1,\"fTitleFont\":42,\"fNbins\":1,\"fXmin\":0,\"fXmax\":1,\"fXbins\":[],\"fFirst\":0,\"fLast\":0,\"fBits2\":0,\"fTimeDisplay\":false,\"fTimeFormat\":\"\",\"fLabels\":null,\"fModLabs\":null},\"fZaxis\":{\"_typename\":\"TAxis\",\"fUniqueID\":0,\"fBits\":0,\"fName\":\"zaxis\",\"fTitle\":\"\",\"fNdivisions\":510,\"fAxisColor\":1,\"fLabelColor\":1,\"fLabelFont\":42,\"fLabelOffset\":0.005,\"fLabelSize\":0.035,\"fTickLength\":0.03,\"fTitleOffset\":1,\"fTitleSize\":0.035,\"fTitleColor\":1,\"fTitleFont\":42,\"fNbins\":1,\"fXmin\":0,\"fXmax\":1,\"fXbins\":[],\"fFirst\":0,\"fLast\":0,\"fBits2\":0,\"fTimeDisplay\":false,\"fTimeFormat\":\"\",\"fLabels\":null,\"fModLabs\":null},\"fBarOffset\":0,\"fBarWidth\":1000,\"fEntries\":5000,\"fTsumw\":5000,\"fTsumw2\":5000,\"fTsumwx\":-28110.8398026377,\"fTsumwx2\":2890021378.19053,\"fMaximum\":-1111,\"fMinimum\":-1111,\"fNormFactor\":0,\"fContour\":[],\"fSumw2\":[],\"fOption\":\"\",\"fFunctions\":{\"_typename\":\"TList\",\"name\":\"TList\",\"arr\":[{\"_typename\":\"TPaveStats\",\"fUniqueID\":0,\"fBits\":9,\"fLineColor\":1,\"fLineStyle\":1,\"fLineWidth\":1,\"fFillColor\":0,\"fFillStyle\":1001,\"fX1\":1820.00013172627,\"fY1\":147.95156470465,\"fX2\":3120.00017046929,\"fY2\":183.021564443358,\"fX1NDC\":0.780000016093254,\"fY1NDC\":0.775000005960464,\"fX2NDC\":0.980000019073486,\"fY2NDC\":0.935000002384186,\"fBorderSize\":1,\"fInit\":1,\"fShadowColor\":1,\"fCornerRadius\":0,\"fOption\":\"brNDC\",\"fName\":\"stats\",\"fTextAngle\":0,\"fTextSize\":0,\"fTextAlign\":12,\"fTextColor\":1,\"fTextFont\":42,\"fLabel\":\"\",\"fLongest\":18,\"fMargin\":0.05,\"fLines\":{\"_typename\":\"TList\",\"name\":\"TList\",\"arr\":[{\"_typename\":\"TLatex\",\"fUniqueID\":0,\"fBits\":0,\"fName\":\"\",\"fTitle\":\"htemp\",\"fTextAngle\":0,\"fTextSize\":0.0368,\"fTextAlign\":0,\"fTextColor\":0,\"fTextFont\":0,\"fX\":0,\"fY\":0,\"fLineColor\":1,\"fLineStyle\":1,\"fLineWidth\":2,\"fLimitFactorSize\":3,\"fOriginSize\":0.0368000008165836},{\"_typename\":\"TLatex\",\"fUniqueID\":0,\"fBits\":0,\"fName\":\"\",\"fTitle\":\"Entries = 5000   \",\"fTextAngle\":0,\"fTextSize\":0,\"fTextAlign\":0,\"fTextColor\":0,\"fTextFont\":0,\"fX\":0,\"fY\":0,\"fLineColor\":1,\"fLineStyle\":1,\"fLineWidth\":2,\"fLimitFactorSize\":3,\"fOriginSize\":0.04},{\"_typename\":\"TLatex\",\"fUniqueID\":0,\"fBits\":0,\"fName\":\"\",\"fTitle\":\"Mean  = -5.622\",\"fTextAngle\":0,\"fTextSize\":0,\"fTextAlign\":0,\"fTextColor\":0,\"fTextFont\":0,\"fX\":0,\"fY\":0,\"fLineColor\":1,\"fLineStyle\":1,\"fLineWidth\":2,\"fLimitFactorSize\":3,\"fOriginSize\":0.04},{\"_typename\":\"TLatex\",\"fUniqueID\":0,\"fBits\":0,\"fName\":\"\",\"fTitle\":\"Std Dev   =  760.2\",\"fTextAngle\":0,\"fTextSize\":0,\"fTextAlign\":0,\"fTextColor\":0,\"fTextFont\":0,\"fX\":0,\"fY\":0,\"fLineColor\":1,\"fLineStyle\":1,\"fLineWidth\":2,\"fLimitFactorSize\":3,\"fOriginSize\":0.04}],\"opt\":[\"\",\"\",\"\",\"\"]},\"fOptFit\":0,\"fOptStat\":1111,\"fFitFormat\":\"5.4g\",\"fStatFormat\":\"6.4g\",\"fParent\":{\"$ref\":3}}],\"opt\":[\"brNDC\"]},\"fBufferSize\":0,\"fBuffer\":[],\"fBinStatErrOpt\":0,\"fStatOverflows\":2,\"fArray\":[0,0,0,0,0,0,0,0,2,1,1,4,4,9,6,8,9,19,22,16,22,21,37,26,32,36,42,44,39,43,38,45,57,57,48,66,50,72,78,92,100,101,110,110,124,161,157,165,167,148,143,123,162,142,164,151,133,102,128,119,101,87,87,76,62,86,63,71,64,52,57,28,43,37,41,34,29,37,24,24,20,31,17,17,14,8,14,4,5,0,5,5,0,1,0,0,0,0,0,0,0,0]},{\"_typename\":\"TH1F\",\"fUniqueID\":0,\"fBits\":9,\"fName\":\"htemp\",\"fTitle\":\"track_position_x {Ghost==1}\",\"fLineColor\":4,\"fLineStyle\":1,\"fLineWidth\":1,\"fFillColor\":0,\"fFillStyle\":1001,\"fMarkerColor\":1,\"fMarkerStyle\":1,\"fMarkerSize\":1,\"fNcells\":102,\"fXaxis\":{\"_typename\":\"TAxis\",\"fUniqueID\":0,\"fBits\":0,\"fName\":\"xaxis\",\"fTitle\":\"track_position_x\",\"fNdivisions\":510,\"fAxisColor\":1,\"fLabelColor\":1,\"fLabelFont\":42,\"fLabelOffset\":0.005,\"fLabelSize\":0.035,\"fTickLength\":0.03,\"fTitleOffset\":1,\"fTitleSize\":0.035,\"fTitleColor\":1,\"fTitleFont\":42,\"fNbins\":100,\"fXmin\":-2600,\"fXmax\":2600,\"fXbins\":[],\"fFirst\":0,\"fLast\":0,\"fBits2\":0,\"fTimeDisplay\":false,\"fTimeFormat\":\"\",\"fLabels\":null,\"fModLabs\":null},\"fYaxis\":{\"_typename\":\"TAxis\",\"fUniqueID\":0,\"fBits\":0,\"fName\":\"yaxis\",\"fTitle\":\"\",\"fNdivisions\":510,\"fAxisColor\":1,\"fLabelColor\":1,\"fLabelFont\":42,\"fLabelOffset\":0.005,\"fLabelSize\":0.035,\"fTickLength\":0.03,\"fTitleOffset\":0,\"fTitleSize\":0.035,\"fTitleColor\":1,\"fTitleFont\":42,\"fNbins\":1,\"fXmin\":0,\"fXmax\":1,\"fXbins\":[],\"fFirst\":0,\"fLast\":0,\"fBits2\":0,\"fTimeDisplay\":false,\"fTimeFormat\":\"\",\"fLabels\":null,\"fModLabs\":null},\"fZaxis\":{\"_typename\":\"TAxis\",\"fUniqueID\":0,\"fBits\":0,\"fName\":\"zaxis\",\"fTitle\":\"\",\"fNdivisions\":510,\"fAxisColor\":1,\"fLabelColor\":1,\"fLabelFont\":42,\"fLabelOffset\":0.005,\"fLabelSize\":0.035,\"fTickLength\":0.03,\"fTitleOffset\":1,\"fTitleSize\":0.035,\"fTitleColor\":1,\"fTitleFont\":42,\"fNbins\":1,\"fXmin\":0,\"fXmax\":1,\"fXbins\":[],\"fFirst\":0,\"fLast\":0,\"fBits2\":0,\"fTimeDisplay\":false,\"fTimeFormat\":\"\",\"fLabels\":null,\"fModLabs\":null},\"fBarOffset\":0,\"fBarWidth\":1000,\"fEntries\":5000,\"fTsumw\":4999,\"fTsumw2\":4999,\"fTsumwx\":-114179.271889657,\"fTsumwx2\":2409544347.87067,\"fMaximum\":-1111,\"fMinimum\":-1111,\"fNormFactor\":0,\"fContour\":[],\"fSumw2\":[],\"fOption\":\"\",\"fFunctions\":{\"_typename\":\"TList\",\"name\":\"TList\",\"arr\":[],\"opt\":[]},\"fBufferSize\":0,\"fBuffer\":[],\"fBinStatErrOpt\":0,\"fStatOverflows\":2,\"fArray\":[0,1,0,0,1,0,0,0,0,1,0,3,3,3,4,4,11,8,14,28,18,25,26,18,25,28,31,35,30,40,35,35,47,51,45,63,59,71,83,98,97,107,102,130,123,166,206,228,252,119,116,138,136,202,185,172,150,154,100,111,99,102,82,74,72,51,53,52,47,37,41,35,36,31,25,30,21,37,25,18,15,20,8,8,8,7,2,9,2,8,1,4,0,0,0,0,0,1,0,0,0,1]},{\"_typename\":\"TH1F\",\"fUniqueID\":0,\"fBits\":9,\"fName\":\"htemp\",\"fTitle\":\"track_position_x {particle_isDown_noVelo==1}\",\"fLineColor\":2,\"fLineStyle\":1,\"fLineWidth\":1,\"fFillColor\":0,\"fFillStyle\":1001,\"fMarkerColor\":1,\"fMarkerStyle\":1,\"fMarkerSize\":1,\"fNcells\":102,\"fXaxis\":{\"_typename\":\"TAxis\",\"fUniqueID\":0,\"fBits\":0,\"fName\":\"xaxis\",\"fTitle\":\"track_position_x\",\"fNdivisions\":510,\"fAxisColor\":1,\"fLabelColor\":1,\"fLabelFont\":42,\"fLabelOffset\":0.005,\"fLabelSize\":0.035,\"fTickLength\":0.03,\"fTitleOffset\":1,\"fTitleSize\":0.035,\"fTitleColor\":1,\"fTitleFont\":42,\"fNbins\":100,\"fXmin\":-2600,\"fXmax\":2600,\"fXbins\":[],\"fFirst\":0,\"fLast\":0,\"fBits2\":0,\"fTimeDisplay\":false,\"fTimeFormat\":\"\",\"fLabels\":null,\"fModLabs\":null},\"fYaxis\":{\"_typename\":\"TAxis\",\"fUniqueID\":0,\"fBits\":0,\"fName\":\"yaxis\",\"fTitle\":\"\",\"fNdivisions\":510,\"fAxisColor\":1,\"fLabelColor\":1,\"fLabelFont\":42,\"fLabelOffset\":0.005,\"fLabelSize\":0.035,\"fTickLength\":0.03,\"fTitleOffset\":0,\"fTitleSize\":0.035,\"fTitleColor\":1,\"fTitleFont\":42,\"fNbins\":1,\"fXmin\":0,\"fXmax\":1,\"fXbins\":[],\"fFirst\":0,\"fLast\":0,\"fBits2\":0,\"fTimeDisplay\":false,\"fTimeFormat\":\"\",\"fLabels\":null,\"fModLabs\":null},\"fZaxis\":{\"_typename\":\"TAxis\",\"fUniqueID\":0,\"fBits\":0,\"fName\":\"zaxis\",\"fTitle\":\"\",\"fNdivisions\":510,\"fAxisColor\":1,\"fLabelColor\":1,\"fLabelFont\":42,\"fLabelOffset\":0.005,\"fLabelSize\":0.035,\"fTickLength\":0.03,\"fTitleOffset\":1,\"fTitleSize\":0.035,\"fTitleColor\":1,\"fTitleFont\":42,\"fNbins\":1,\"fXmin\":0,\"fXmax\":1,\"fXbins\":[],\"fFirst\":0,\"fLast\":0,\"fBits2\":0,\"fTimeDisplay\":false,\"fTimeFormat\":\"\",\"fLabels\":null,\"fModLabs\":null},\"fBarOffset\":0,\"fBarWidth\":1000,\"fEntries\":988,\"fTsumw\":988,\"fTsumw2\":988,\"fTsumwx\":-10035.783310771,\"fTsumwx2\":797899422.940815,\"fMaximum\":-1111,\"fMinimum\":-1111,\"fNormFactor\":0,\"fContour\":[],\"fSumw2\":[],\"fOption\":\"\",\"fFunctions\":{\"_typename\":\"TList\",\"name\":\"TList\",\"arr\":[],\"opt\":[]},\"fBufferSize\":0,\"fBuffer\":[],\"fBinStatErrOpt\":0,\"fStatOverflows\":2,\"fArray\":[0,0,0,0,0,0,0,0,1,0,0,0,1,1,1,0,3,4,7,6,7,6,15,8,11,15,12,22,13,14,3,10,12,21,13,21,8,15,17,22,17,22,18,30,15,21,17,12,18,20,15,11,28,18,17,16,19,14,17,27,21,24,19,21,14,21,15,17,17,12,13,12,7,15,9,10,6,11,9,11,6,10,6,7,5,0,5,1,1,0,0,2,0,0,0,0,0,0,0,0,0,0]},{\"_typename\":\"TPaveText\",\"fUniqueID\":0,\"fBits\":9,\"fLineColor\":1,\"fLineStyle\":1,\"fLineWidth\":1,\"fFillColor\":0,\"fFillStyle\":0,\"fX1\":-1587.2701385947,\"fY1\":182.798662420248,\"fX2\":1587.2701385947,\"fY2\":196.172815161911,\"fX1NDC\":0.255804597701149,\"fY1NDC\":0.933983055615829,\"fX2NDC\":0.744195402298851,\"fY2NDC\":0.995000004768372,\"fBorderSize\":0,\"fInit\":1,\"fShadowColor\":1,\"fCornerRadius\":0,\"fOption\":\"blNDC\",\"fName\":\"title\",\"fTextAngle\":0,\"fTextSize\":0,\"fTextAlign\":22,\"fTextColor\":1,\"fTextFont\":42,\"fLabel\":\"\",\"fLongest\":27,\"fMargin\":0.05,\"fLines\":{\"_typename\":\"TList\",\"name\":\"TList\",\"arr\":[{\"_typename\":\"TLatex\",\"fUniqueID\":0,\"fBits\":0,\"fName\":\"\",\"fTitle\":\"track_position_x {Ghost==0}\",\"fTextAngle\":0,\"fTextSize\":0,\"fTextAlign\":0,\"fTextColor\":0,\"fTextFont\":0,\"fX\":0,\"fY\":0,\"fLineColor\":1,\"fLineStyle\":1,\"fLineWidth\":2,\"fLimitFactorSize\":3,\"fOriginSize\":0.0518644079566002}],\"opt\":[\"\"]}},{\"_typename\":\"TStyle\",\"fUniqueID\":0,\"fBits\":0,\"fName\":\"Modern\",\"fTitle\":\"Modern Style\",\"fLineColor\":1,\"fLineStyle\":1,\"fLineWidth\":1,\"fFillColor\":19,\"fFillStyle\":1001,\"fMarkerColor\":1,\"fMarkerStyle\":1,\"fMarkerSize\":1,\"fTextAngle\":0,\"fTextSize\":0.05,\"fTextAlign\":11,\"fTextColor\":1,\"fTextFont\":62,\"fXaxis\":{\"_typename\":\"TAttAxis\",\"fNdivisions\":510,\"fAxisColor\":1,\"fLabelColor\":1,\"fLabelFont\":42,\"fLabelOffset\":0.005,\"fLabelSize\":0.035,\"fTickLength\":0.03,\"fTitleOffset\":1,\"fTitleSize\":0.035,\"fTitleColor\":1,\"fTitleFont\":42},\"fYaxis\":{\"_typename\":\"TAttAxis\",\"fNdivisions\":510,\"fAxisColor\":1,\"fLabelColor\":1,\"fLabelFont\":42,\"fLabelOffset\":0.005,\"fLabelSize\":0.035,\"fTickLength\":0.03,\"fTitleOffset\":0,\"fTitleSize\":0.035,\"fTitleColor\":1,\"fTitleFont\":42},\"fZaxis\":{\"_typename\":\"TAttAxis\",\"fNdivisions\":510,\"fAxisColor\":1,\"fLabelColor\":1,\"fLabelFont\":42,\"fLabelOffset\":0.005,\"fLabelSize\":0.035,\"fTickLength\":0.03,\"fTitleOffset\":1,\"fTitleSize\":0.035,\"fTitleColor\":1,\"fTitleFont\":42},\"fBarWidth\":1,\"fBarOffset\":0,\"fColorModelPS\":0,\"fDrawBorder\":0,\"fOptLogx\":0,\"fOptLogy\":0,\"fOptLogz\":0,\"fOptDate\":0,\"fOptStat\":1111,\"fOptTitle\":1,\"fOptFile\":0,\"fOptFit\":0,\"fShowEventStatus\":0,\"fShowEditor\":0,\"fShowToolBar\":0,\"fNumberContours\":20,\"fAttDate\":{\"_typename\":\"TAttText\",\"fTextAngle\":0,\"fTextSize\":0.025,\"fTextAlign\":11,\"fTextColor\":1,\"fTextFont\":62},\"fDateX\":0.01,\"fDateY\":0.01,\"fEndErrorSize\":2,\"fErrorX\":0.5,\"fFuncColor\":2,\"fFuncStyle\":1,\"fFuncWidth\":2,\"fGridColor\":0,\"fGridStyle\":3,\"fGridWidth\":1,\"fLegendBorderSize\":1,\"fLegendFillColor\":0,\"fLegendFont\":42,\"fLegendTextSize\":0,\"fHatchesLineWidth\":1,\"fHatchesSpacing\":1,\"fFrameFillColor\":0,\"fFrameLineColor\":1,\"fFrameFillStyle\":1001,\"fFrameLineStyle\":1,\"fFrameLineWidth\":1,\"fFrameBorderSize\":1,\"fFrameBorderMode\":0,\"fHistFillColor\":0,\"fHistLineColor\":602,\"fHistFillStyle\":1001,\"fHistLineStyle\":1,\"fHistLineWidth\":1,\"fHistMinimumZero\":false,\"fHistTopMargin\":0.05,\"fCanvasPreferGL\":false,\"fCanvasColor\":0,\"fCanvasBorderSize\":2,\"fCanvasBorderMode\":0,\"fCanvasDefH\":500,\"fCanvasDefW\":700,\"fCanvasDefX\":10,\"fCanvasDefY\":10,\"fPadColor\":0,\"fPadBorderSize\":2,\"fPadBorderMode\":0,\"fPadBottomMargin\":0.1,\"fPadTopMargin\":0.1,\"fPadLeftMargin\":0.1,\"fPadRightMargin\":0.1,\"fPadGridX\":false,\"fPadGridY\":false,\"fPadTickX\":0,\"fPadTickY\":0,\"fPaperSizeX\":20,\"fPaperSizeY\":26,\"fScreenFactor\":1,\"fStatColor\":0,\"fStatTextColor\":1,\"fStatBorderSize\":1,\"fStatFont\":42,\"fStatFontSize\":0,\"fStatStyle\":1001,\"fStatFormat\":\"6.4g\",\"fStatX\":0.98,\"fStatY\":0.935,\"fStatW\":0.2,\"fStatH\":0.16,\"fStripDecimals\":true,\"fTitleAlign\":23,\"fTitleColor\":0,\"fTitleTextColor\":1,\"fTitleBorderSize\":0,\"fTitleFont\":42,\"fTitleFontSize\":0.05,\"fTitleStyle\":0,\"fTitleX\":0.5,\"fTitleY\":0.995,\"fTitleW\":0,\"fTitleH\":0,\"fLegoInnerR\":0.5,\"fLineStyle\":[\"\",\"  \",\" 12 12\",\" 4 8\",\" 12 16 4 16\",\" 20 12 4 12\",\" 20 12 4 12 4 12 4 12\",\" 20 20\",\" 20 12 4 12 4 12\",\" 80 20\",\" 80 40 4 40\",\"  \",\"  \",\"  \",\"  \",\"  \",\"  \",\"  \",\"  \",\"  \",\"  \",\"  \",\"  \",\"  \",\"  \",\"  \",\"  \",\"  \",\"  \",\"  \"],\"fHeaderPS\":\"\",\"fTitlePS\":\"\",\"fFitFormat\":\"5.4g\",\"fPaintTextFormat\":\"g\",\"fLineScalePS\":3,\"fJoinLinePS\":0,\"fCapLinePS\":0,\"fTimeOffset\":788918400,\"fImageScaling\":1}],\"opt\":[\"\",\"\",\"same\",\"same\",\"blNDC\",\"\"]},\"fExecs\":null,\"fName\":\"c1\",\"fTitle\":\"c1\",\"fNumPaletteColor\":0,\"fNextPaletteColor\":0,\"fDISPLAY\":\"$DISPLAY\",\"fDoubleBuffer\":0,\"fRetained\":true,\"fXsizeUser\":0,\"fYsizeUser\":0,\"fXsizeReal\":20,\"fYsizeReal\":14.28571,\"fWindowTopX\":0,\"fWindowTopY\":0,\"fWindowWidth\":0,\"fWindowHeight\":0,\"fCw\":696,\"fCh\":472,\"fCatt\":{\"_typename\":\"TAttCanvas\",\"fXBetween\":2,\"fYBetween\":2,\"fTitleFromTop\":1.2,\"fXdate\":0.2,\"fYdate\":0.3,\"fAdate\":1},\"kMoveOpaque\":true,\"kResizeOpaque\":true,\"fHighLightColor\":2,\"fBatch\":true,\"kShowEventStatus\":false,\"kAutoExec\":true,\"kMenuBar\":true});\n",
       "       Core.key_handling = false;\n",
       "       Core.draw(\"root_plot_1646724519604\", obj, \"\");\n",
       "     }\n",
       " );\n",
       "</script>\n"
      ],
      "text/plain": [
       "<IPython.core.display.HTML object>"
      ]
     },
     "metadata": {},
     "output_type": "display_data"
    }
   ],
   "source": [
    "%jsroot on\n",
    "c2=ROOT.TCanvas()\n",
    "tree.SetLineColor(1)\n",
    "tree.Draw('track_position_x','Ghost==0')\n",
    "tree.SetLineColor(4)\n",
    "tree.Draw('track_position_x','Ghost==1','SAME')\n",
    "\n",
    "tree.SetLineColor(2)\n",
    "tree.Draw('track_position_x','particle_isDown_noVelo==1','SAME')\n",
    "c2.Draw()"
   ]
  },
  {
   "cell_type": "code",
   "execution_count": 10,
   "id": "7d37c821",
   "metadata": {},
   "outputs": [
    {
     "data": {
      "text/plain": [
       "(5000, 22)"
      ]
     },
     "execution_count": 10,
     "metadata": {},
     "output_type": "execute_result"
    }
   ],
   "source": [
    "DD_data.shape"
   ]
  },
  {
   "cell_type": "code",
   "execution_count": 11,
   "id": "d5b22ed4",
   "metadata": {},
   "outputs": [
    {
     "data": {
      "text/plain": [
       "(5000, 14)"
      ]
     },
     "execution_count": 11,
     "metadata": {},
     "output_type": "execute_result"
    }
   ],
   "source": [
    "GD_data.shape"
   ]
  },
  {
   "cell_type": "code",
   "execution_count": 12,
   "id": "12973cdc",
   "metadata": {},
   "outputs": [
    {
     "data": {
      "text/plain": [
       "0.28601183615226616"
      ]
     },
     "execution_count": 12,
     "metadata": {},
     "output_type": "execute_result"
    }
   ],
   "source": [
    "2260518/(2260518+5643064)"
   ]
  },
  {
   "cell_type": "code",
   "execution_count": null,
   "id": "2ae5bc7d",
   "metadata": {},
   "outputs": [],
   "source": []
  },
  {
   "cell_type": "code",
   "execution_count": 13,
   "id": "6ba77cd5",
   "metadata": {},
   "outputs": [
    {
     "data": {
      "text/html": [
       "<div>\n",
       "<style scoped>\n",
       "    .dataframe tbody tr th:only-of-type {\n",
       "        vertical-align: middle;\n",
       "    }\n",
       "\n",
       "    .dataframe tbody tr th {\n",
       "        vertical-align: top;\n",
       "    }\n",
       "\n",
       "    .dataframe thead th {\n",
       "        text-align: right;\n",
       "    }\n",
       "</style>\n",
       "<table border=\"1\" class=\"dataframe\">\n",
       "  <thead>\n",
       "    <tr style=\"text-align: right;\">\n",
       "      <th></th>\n",
       "      <th>track_charge</th>\n",
       "      <th>track_chi2</th>\n",
       "      <th>track_chi2PerDoF</th>\n",
       "      <th>track_nLHCbIDs</th>\n",
       "      <th>track_p</th>\n",
       "      <th>track_phi</th>\n",
       "      <th>track_position_x</th>\n",
       "      <th>track_position_y</th>\n",
       "      <th>track_position_r</th>\n",
       "      <th>track_pt</th>\n",
       "      <th>...</th>\n",
       "      <th>track_pseudoRapidity</th>\n",
       "      <th>particle_hasScifi</th>\n",
       "      <th>particle_hasUT</th>\n",
       "      <th>particle_hasVelo</th>\n",
       "      <th>particle_isDown</th>\n",
       "      <th>particle_isDown_noVelo</th>\n",
       "      <th>particle_isLong</th>\n",
       "      <th>particle_isLong_andUT</th>\n",
       "      <th>particle_isElectron</th>\n",
       "      <th>Ghost</th>\n",
       "    </tr>\n",
       "  </thead>\n",
       "  <tbody>\n",
       "    <tr>\n",
       "      <th>639005</th>\n",
       "      <td>1.0</td>\n",
       "      <td>8.004656</td>\n",
       "      <td>0.667055</td>\n",
       "      <td>12.0</td>\n",
       "      <td>67041.119080</td>\n",
       "      <td>-0.231304</td>\n",
       "      <td>144.460892</td>\n",
       "      <td>-66.828316</td>\n",
       "      <td>159.169636</td>\n",
       "      <td>2161.760234</td>\n",
       "      <td>...</td>\n",
       "      <td>4.127270</td>\n",
       "      <td>False</td>\n",
       "      <td>False</td>\n",
       "      <td>False</td>\n",
       "      <td>False</td>\n",
       "      <td>False</td>\n",
       "      <td>False</td>\n",
       "      <td>False</td>\n",
       "      <td>False</td>\n",
       "      <td>1</td>\n",
       "    </tr>\n",
       "    <tr>\n",
       "      <th>745644</th>\n",
       "      <td>-1.0</td>\n",
       "      <td>5.219947</td>\n",
       "      <td>0.434996</td>\n",
       "      <td>12.0</td>\n",
       "      <td>4059.137017</td>\n",
       "      <td>-2.755600</td>\n",
       "      <td>-1239.621948</td>\n",
       "      <td>-1275.325684</td>\n",
       "      <td>1778.515722</td>\n",
       "      <td>1584.782729</td>\n",
       "      <td>...</td>\n",
       "      <td>1.593179</td>\n",
       "      <td>False</td>\n",
       "      <td>False</td>\n",
       "      <td>False</td>\n",
       "      <td>False</td>\n",
       "      <td>False</td>\n",
       "      <td>False</td>\n",
       "      <td>False</td>\n",
       "      <td>False</td>\n",
       "      <td>1</td>\n",
       "    </tr>\n",
       "    <tr>\n",
       "      <th>360967</th>\n",
       "      <td>-1.0</td>\n",
       "      <td>1.920426</td>\n",
       "      <td>0.174584</td>\n",
       "      <td>11.0</td>\n",
       "      <td>14940.314216</td>\n",
       "      <td>-2.839053</td>\n",
       "      <td>-282.139343</td>\n",
       "      <td>-191.782578</td>\n",
       "      <td>341.149771</td>\n",
       "      <td>1379.424433</td>\n",
       "      <td>...</td>\n",
       "      <td>3.073406</td>\n",
       "      <td>False</td>\n",
       "      <td>False</td>\n",
       "      <td>False</td>\n",
       "      <td>False</td>\n",
       "      <td>False</td>\n",
       "      <td>False</td>\n",
       "      <td>False</td>\n",
       "      <td>False</td>\n",
       "      <td>1</td>\n",
       "    </tr>\n",
       "    <tr>\n",
       "      <th>998186</th>\n",
       "      <td>-1.0</td>\n",
       "      <td>1.265916</td>\n",
       "      <td>0.105493</td>\n",
       "      <td>12.0</td>\n",
       "      <td>9490.801467</td>\n",
       "      <td>-2.942363</td>\n",
       "      <td>-531.673523</td>\n",
       "      <td>-244.581146</td>\n",
       "      <td>585.232152</td>\n",
       "      <td>1460.363715</td>\n",
       "      <td>...</td>\n",
       "      <td>2.558812</td>\n",
       "      <td>False</td>\n",
       "      <td>False</td>\n",
       "      <td>False</td>\n",
       "      <td>False</td>\n",
       "      <td>False</td>\n",
       "      <td>False</td>\n",
       "      <td>False</td>\n",
       "      <td>False</td>\n",
       "      <td>1</td>\n",
       "    </tr>\n",
       "    <tr>\n",
       "      <th>289695</th>\n",
       "      <td>-1.0</td>\n",
       "      <td>14.605761</td>\n",
       "      <td>1.217147</td>\n",
       "      <td>12.0</td>\n",
       "      <td>12781.701630</td>\n",
       "      <td>2.220871</td>\n",
       "      <td>146.399551</td>\n",
       "      <td>402.834595</td>\n",
       "      <td>428.612342</td>\n",
       "      <td>895.013242</td>\n",
       "      <td>...</td>\n",
       "      <td>3.350850</td>\n",
       "      <td>False</td>\n",
       "      <td>False</td>\n",
       "      <td>False</td>\n",
       "      <td>False</td>\n",
       "      <td>False</td>\n",
       "      <td>False</td>\n",
       "      <td>False</td>\n",
       "      <td>False</td>\n",
       "      <td>1</td>\n",
       "    </tr>\n",
       "  </tbody>\n",
       "</table>\n",
       "<p>5 rows × 22 columns</p>\n",
       "</div>"
      ],
      "text/plain": [
       "        track_charge  track_chi2  track_chi2PerDoF  track_nLHCbIDs  \\\n",
       "639005           1.0    8.004656          0.667055            12.0   \n",
       "745644          -1.0    5.219947          0.434996            12.0   \n",
       "360967          -1.0    1.920426          0.174584            11.0   \n",
       "998186          -1.0    1.265916          0.105493            12.0   \n",
       "289695          -1.0   14.605761          1.217147            12.0   \n",
       "\n",
       "             track_p  track_phi  track_position_x  track_position_y  \\\n",
       "639005  67041.119080  -0.231304        144.460892        -66.828316   \n",
       "745644   4059.137017  -2.755600      -1239.621948      -1275.325684   \n",
       "360967  14940.314216  -2.839053       -282.139343       -191.782578   \n",
       "998186   9490.801467  -2.942363       -531.673523       -244.581146   \n",
       "289695  12781.701630   2.220871        146.399551        402.834595   \n",
       "\n",
       "        track_position_r     track_pt  ...  track_pseudoRapidity  \\\n",
       "639005        159.169636  2161.760234  ...              4.127270   \n",
       "745644       1778.515722  1584.782729  ...              1.593179   \n",
       "360967        341.149771  1379.424433  ...              3.073406   \n",
       "998186        585.232152  1460.363715  ...              2.558812   \n",
       "289695        428.612342   895.013242  ...              3.350850   \n",
       "\n",
       "        particle_hasScifi  particle_hasUT  particle_hasVelo  particle_isDown  \\\n",
       "639005              False           False             False            False   \n",
       "745644              False           False             False            False   \n",
       "360967              False           False             False            False   \n",
       "998186              False           False             False            False   \n",
       "289695              False           False             False            False   \n",
       "\n",
       "        particle_isDown_noVelo  particle_isLong  particle_isLong_andUT  \\\n",
       "639005                   False            False                  False   \n",
       "745644                   False            False                  False   \n",
       "360967                   False            False                  False   \n",
       "998186                   False            False                  False   \n",
       "289695                   False            False                  False   \n",
       "\n",
       "        particle_isElectron  Ghost  \n",
       "639005                False      1  \n",
       "745644                False      1  \n",
       "360967                False      1  \n",
       "998186                False      1  \n",
       "289695                False      1  \n",
       "\n",
       "[5 rows x 22 columns]"
      ]
     },
     "execution_count": 13,
     "metadata": {},
     "output_type": "execute_result"
    }
   ],
   "source": [
    "compiled_data.tail()"
   ]
  },
  {
   "cell_type": "code",
   "execution_count": 14,
   "id": "02d4d773",
   "metadata": {},
   "outputs": [],
   "source": [
    "t=uproot.open('compiled_sample.root:Particle_Data')"
   ]
  },
  {
   "cell_type": "code",
   "execution_count": 15,
   "id": "bfaeae36",
   "metadata": {},
   "outputs": [],
   "source": [
    "p=t.arrays(library='pd')"
   ]
  },
  {
   "cell_type": "code",
   "execution_count": 16,
   "id": "c3d1ebc9",
   "metadata": {},
   "outputs": [
    {
     "data": {
      "text/plain": [
       "0    5000\n",
       "1    5000\n",
       "Name: Ghost, dtype: int64"
      ]
     },
     "execution_count": 16,
     "metadata": {},
     "output_type": "execute_result"
    }
   ],
   "source": [
    "p['Ghost'].value_counts()"
   ]
  },
  {
   "cell_type": "code",
   "execution_count": null,
   "id": "ce51593b",
   "metadata": {},
   "outputs": [],
   "source": []
  }
 ],
 "metadata": {
  "kernelspec": {
   "display_name": "remote",
   "language": "python",
   "name": "remote"
  },
  "language_info": {
   "codemirror_mode": {
    "name": "ipython",
    "version": 3
   },
   "file_extension": ".py",
   "mimetype": "text/x-python",
   "name": "python",
   "nbconvert_exporter": "python",
   "pygments_lexer": "ipython3",
   "version": "3.8.12"
  }
 },
 "nbformat": 4,
 "nbformat_minor": 5
}

{
 "cells": [
  {
   "cell_type": "code",
   "execution_count": 13,
   "id": "083f4af4",
   "metadata": {},
   "outputs": [],
   "source": [
    "import uproot\n",
    "import pandas as pd\n",
    "import ROOT"
   ]
  },
  {
   "cell_type": "code",
   "execution_count": 14,
   "id": "37dca6e3",
   "metadata": {},
   "outputs": [],
   "source": [
    "# def plot_fun(v,condition='track_p<100e3'):\n",
    "    \n",
    "#     data_tree.SetLineColor(1)\n",
    "#     data_tree.Draw(v,'track_p<100e3')\n",
    "    \n",
    "    \n",
    "#     data_tree.SetLineColor(4)\n",
    "#     data_tree.Draw(v,condition+'&'+'particle_isLong_andUT==1','SAME')\n",
    "\n",
    "#     data_tree.SetLineColor(2)\n",
    "#     data_tree.Draw(v,condition+'&'+'particle_isDown_noVelo==1','SAME')\n",
    "    \n",
    "#     data_tree.SetLineColor(8)\n",
    "#     data_tree.Draw(v,condition+'&'+'partiole_isElectron==1','SAME')\n",
    "    \n",
    "    \n",
    "#     data_tree.SetLineColor(6)\n",
    "#     data_tree.Draw(v,condition+'&'+'particle_hasVelo==1','SAME')\n",
    "    \n",
    "    \n",
    "#     data_tree.SetLineColor(7)\n",
    "#     data_tree.Draw(v,condition+'&'+'particle_isDown==1','SAME')"
   ]
  },
  {
   "cell_type": "code",
   "execution_count": null,
   "id": "604dae05",
   "metadata": {},
   "outputs": [],
   "source": []
  },
  {
   "cell_type": "code",
   "execution_count": 7,
   "id": "02a609fa",
   "metadata": {},
   "outputs": [],
   "source": [
    "DDvariables=['track_charge','track_chi2','track_chi2PerDoF','track_nLHCbIDs','track_p','track_phi','track_position_x',\n",
    "           'track_position_y','track_position_r','track_pt','track_tx','track_ty','track_pseudoRapidity',\n",
    "           'particle_hasScifi','particle_hasUT','particle_hasVelo','particle_isDown','particle_isDown_noVelo','particle_isLong',\n",
    "           'particle_isLong_andUT','particle_isElectron']\n",
    "\n",
    "\n",
    "GDvariables=['track_charge','track_chi2','track_chi2PerDoF','track_nLHCbIDs','track_p','track_phi','track_position_x',\n",
    "           'track_position_y','track_position_r','track_pt','track_tx','track_ty','track_pseudoRapidity']\n",
    "\n",
    "\n",
    "\n",
    "features=['track_chi2PerDoF','track_nLHCbIDs','track_p','track_position_x',\n",
    "           'track_position_y','track_position_r','track_pt','track_tx','track_ty','track_pseudoRapidity']\n",
    "\n",
    "\n",
    "tracks=['particle_hasScifi','particle_hasUT','particle_hasVelo','particle_isDown','particle_isDown_noVelo','particle_isLong',\n",
    "           'particle_isLong_andUT','partiole_isElectron']"
   ]
  },
  {
   "cell_type": "code",
   "execution_count": 10,
   "id": "6d29521c",
   "metadata": {},
   "outputs": [
    {
     "name": "stderr",
     "output_type": "stream",
     "text": [
      "Warning in <TClass::Init>: no dictionary for class LHCb::MCProperty is available\n",
      "Warning in <TClass::Init>: no dictionary for class DataObject is available\n"
     ]
    }
   ],
   "source": [
    "DDks=uproot.open('/data3/tracking-upgrade-data/dump_comb/DD_ks_moore_big.root:Particle_Data')\n",
    "DDl=uproot.open('/data3/tracking-upgrade-data/dump_comb/DD_l_moore_big.root:Particle_Data')\n",
    "GDks=uproot.open('/data3/tracking-upgrade-data/dump_comb/GD_ks_moore_big.root:Particle_Data')\n",
    "GDl=uproot.open('/data3/tracking-upgrade-data/dump_comb/GD_l_moore_big.root:Particle_Data')"
   ]
  },
  {
   "cell_type": "code",
   "execution_count": null,
   "id": "ebdbed6b",
   "metadata": {},
   "outputs": [],
   "source": [
    "%%time\n",
    "\n",
    "DDks_Data=DDks.arrays(DDvariables,library='pd')\n",
    "DDl_Data=DDl.arrays(DDvariables,library='pd')\n",
    "\n",
    "\n",
    "GDks_Data=GDks.arrays(GDvariables,library='pd')\n",
    "GDl_Data=GDl.arrays(GDvariables,library='pd')\n",
    "\n",
    "\n",
    "\n",
    "DD_data=pd.concat([DDks_Data,DDl_Data]).fillna(False)\n",
    "\n",
    "GD_data=pd.concat([GDks_Data,GDl_Data]).fillna(False)\n",
    "\n",
    "\n",
    "DD_data['Ghost']=0\n",
    "GD_data['Ghost']=1"
   ]
  },
  {
   "cell_type": "code",
   "execution_count": null,
   "id": "ebe20a05",
   "metadata": {},
   "outputs": [],
   "source": [
    "DD_data=DD_data.loc[(DD_data['track_p']<100e3) & (DD_data['particle_isDown_noVelo']==True) | (DD_data['particle_isLong_andUT']==True) &(DD_data['particle_isElectron']==False)]\n",
    "\n",
    "\n",
    "GD_data=GD_data.loc[(GD_data['track_p']<100e3)]\n",
    "\n"
   ]
  },
  {
   "cell_type": "code",
   "execution_count": null,
   "id": "d9c5b64c",
   "metadata": {},
   "outputs": [],
   "source": [
    "DD_data=DD_data.sample(5000)\n",
    "GD_data=GD_data.sample(5000)"
   ]
  },
  {
   "cell_type": "code",
   "execution_count": 11,
   "id": "03360f77",
   "metadata": {},
   "outputs": [],
   "source": [
    "compiled_data=pd.concat([DD_data,GD_data]).fillna(False)"
   ]
  },
  {
   "cell_type": "code",
   "execution_count": null,
   "id": "f828acc8",
   "metadata": {},
   "outputs": [],
   "source": [
    "#save\n",
    "\n",
    "file=uproot.recreate('./compiled_sample.root')\n",
    "file['Particle_Data']=compiled_data\n",
    "\n",
    "\n",
    "#open\n",
    "Data=ROOT.TFile('./compiled_sample.root')\n",
    "tree=Data.Particle_Data"
   ]
  },
  {
   "cell_type": "code",
   "execution_count": null,
   "id": "c0a65c66",
   "metadata": {},
   "outputs": [],
   "source": [
    "%jsroot on\n",
    "c2=ROOT.TCanvas()\n",
    "tree.SetLineColor(1)\n",
    "tree.Draw('track_position_x','Ghost==0')\n",
    "tree.SetLineColor(4)\n",
    "tree.Draw('track_position_x','Ghost==1','SAME')\n",
    "\n",
    "tree.SetLineColor(2)\n",
    "tree.Draw('track_position_x','particle_isDown_noVelo==1','SAME')\n",
    "c2.Draw()"
   ]
  },
  {
   "cell_type": "code",
   "execution_count": null,
   "id": "4b598686",
   "metadata": {},
   "outputs": [],
   "source": []
  }
 ],
 "metadata": {
  "kernelspec": {
   "display_name": "remote",
   "language": "python",
   "name": "remote"
  },
  "language_info": {
   "codemirror_mode": {
    "name": "ipython",
    "version": 3
   },
   "file_extension": ".py",
   "mimetype": "text/x-python",
   "name": "python",
   "nbconvert_exporter": "python",
   "pygments_lexer": "ipython3",
   "version": "3.8.12"
  }
 },
 "nbformat": 4,
 "nbformat_minor": 5
}

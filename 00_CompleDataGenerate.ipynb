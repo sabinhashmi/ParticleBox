{
 "cells": [
  {
   "cell_type": "code",
   "execution_count": 1,
   "id": "59228a4b",
   "metadata": {},
   "outputs": [],
   "source": [
    "import uproot\n",
    "import pandas as pd"
   ]
  },
  {
   "cell_type": "code",
   "execution_count": 2,
   "id": "5c2184fd",
   "metadata": {},
   "outputs": [],
   "source": [
    "ksData=uproot.open('/data3/tracking-upgrade-data/dump_no_longs/Comb_ks_noLong.root:Particle_Data')\n",
    "lambdaData=uproot.open('/data3/tracking-upgrade-data/dump_no_longs/Comb_lambda_noLong.root:Particle_Data')"
   ]
  },
  {
   "cell_type": "code",
   "execution_count": 3,
   "id": "6f492ee8",
   "metadata": {},
   "outputs": [],
   "source": [
    "features=['track_chi2PerDoF',\n",
    " 'track_nLHCbIDs',\n",
    " 'track_p',\n",
    " 'track_phi',\n",
    " 'track_position_phi',\n",
    " 'track_position_r',\n",
    " 'track_position_x',\n",
    " 'track_position_y','track_pt',\n",
    " 'track_tx',\n",
    " 'track_ty',\n",
    " 'track_pseudoRapidity',\n",
    " 'track_hasUT',\n",
    " 'particle_isFullDownstream']"
   ]
  },
  {
   "cell_type": "code",
   "execution_count": 4,
   "id": "418018cc",
   "metadata": {},
   "outputs": [],
   "source": [
    "ksData=ksData.arrays(features,library='pd')"
   ]
  },
  {
   "cell_type": "code",
   "execution_count": 5,
   "id": "71119700",
   "metadata": {},
   "outputs": [],
   "source": [
    "lambdaData=lambdaData.arrays(features,library='pd')"
   ]
  },
  {
   "cell_type": "code",
   "execution_count": 6,
   "id": "107ec566",
   "metadata": {},
   "outputs": [],
   "source": [
    "completeData=pd.concat([ksData,lambdaData])"
   ]
  },
  {
   "cell_type": "code",
   "execution_count": 7,
   "id": "671a2e03",
   "metadata": {},
   "outputs": [
    {
     "data": {
      "text/html": [
       "<div>\n",
       "<style scoped>\n",
       "    .dataframe tbody tr th:only-of-type {\n",
       "        vertical-align: middle;\n",
       "    }\n",
       "\n",
       "    .dataframe tbody tr th {\n",
       "        vertical-align: top;\n",
       "    }\n",
       "\n",
       "    .dataframe thead th {\n",
       "        text-align: right;\n",
       "    }\n",
       "</style>\n",
       "<table border=\"1\" class=\"dataframe\">\n",
       "  <thead>\n",
       "    <tr style=\"text-align: right;\">\n",
       "      <th></th>\n",
       "      <th>track_chi2PerDoF</th>\n",
       "      <th>track_nLHCbIDs</th>\n",
       "      <th>track_p</th>\n",
       "      <th>track_phi</th>\n",
       "      <th>track_position_phi</th>\n",
       "      <th>track_position_r</th>\n",
       "      <th>track_position_x</th>\n",
       "      <th>track_position_y</th>\n",
       "      <th>track_pt</th>\n",
       "      <th>track_tx</th>\n",
       "      <th>track_ty</th>\n",
       "      <th>track_pseudoRapidity</th>\n",
       "      <th>track_hasUT</th>\n",
       "      <th>particle_isFullDownstream</th>\n",
       "    </tr>\n",
       "  </thead>\n",
       "  <tbody>\n",
       "    <tr>\n",
       "      <th>0</th>\n",
       "      <td>0.070137</td>\n",
       "      <td>12.0</td>\n",
       "      <td>4719.268789</td>\n",
       "      <td>0.503917</td>\n",
       "      <td>1.502274</td>\n",
       "      <td>760.736764</td>\n",
       "      <td>52.086334</td>\n",
       "      <td>758.951538</td>\n",
       "      <td>931.833411</td>\n",
       "      <td>0.176382</td>\n",
       "      <td>0.097257</td>\n",
       "      <td>2.305510</td>\n",
       "      <td>False</td>\n",
       "      <td>False</td>\n",
       "    </tr>\n",
       "    <tr>\n",
       "      <th>1</th>\n",
       "      <td>0.825198</td>\n",
       "      <td>11.0</td>\n",
       "      <td>5968.491193</td>\n",
       "      <td>3.117314</td>\n",
       "      <td>3.114234</td>\n",
       "      <td>750.392212</td>\n",
       "      <td>-750.111389</td>\n",
       "      <td>20.527435</td>\n",
       "      <td>1308.485916</td>\n",
       "      <td>-0.224632</td>\n",
       "      <td>0.005455</td>\n",
       "      <td>2.198532</td>\n",
       "      <td>False</td>\n",
       "      <td>False</td>\n",
       "    </tr>\n",
       "    <tr>\n",
       "      <th>2</th>\n",
       "      <td>0.415610</td>\n",
       "      <td>12.0</td>\n",
       "      <td>4439.795650</td>\n",
       "      <td>2.678692</td>\n",
       "      <td>1.845493</td>\n",
       "      <td>894.860060</td>\n",
       "      <td>-242.735580</td>\n",
       "      <td>861.309448</td>\n",
       "      <td>1041.913541</td>\n",
       "      <td>-0.216011</td>\n",
       "      <td>0.107804</td>\n",
       "      <td>2.128635</td>\n",
       "      <td>False</td>\n",
       "      <td>False</td>\n",
       "    </tr>\n",
       "    <tr>\n",
       "      <th>3</th>\n",
       "      <td>0.380737</td>\n",
       "      <td>11.0</td>\n",
       "      <td>2672.354020</td>\n",
       "      <td>0.031277</td>\n",
       "      <td>0.208227</td>\n",
       "      <td>592.861337</td>\n",
       "      <td>580.054932</td>\n",
       "      <td>122.559540</td>\n",
       "      <td>962.754168</td>\n",
       "      <td>0.386009</td>\n",
       "      <td>0.012077</td>\n",
       "      <td>1.679913</td>\n",
       "      <td>False</td>\n",
       "      <td>False</td>\n",
       "    </tr>\n",
       "    <tr>\n",
       "      <th>4</th>\n",
       "      <td>0.637376</td>\n",
       "      <td>11.0</td>\n",
       "      <td>2802.582602</td>\n",
       "      <td>0.028834</td>\n",
       "      <td>0.107869</td>\n",
       "      <td>943.479884</td>\n",
       "      <td>937.996155</td>\n",
       "      <td>101.575119</td>\n",
       "      <td>1098.949728</td>\n",
       "      <td>0.426080</td>\n",
       "      <td>0.012289</td>\n",
       "      <td>1.588467</td>\n",
       "      <td>False</td>\n",
       "      <td>False</td>\n",
       "    </tr>\n",
       "  </tbody>\n",
       "</table>\n",
       "</div>"
      ],
      "text/plain": [
       "   track_chi2PerDoF  track_nLHCbIDs      track_p  track_phi  \\\n",
       "0          0.070137            12.0  4719.268789   0.503917   \n",
       "1          0.825198            11.0  5968.491193   3.117314   \n",
       "2          0.415610            12.0  4439.795650   2.678692   \n",
       "3          0.380737            11.0  2672.354020   0.031277   \n",
       "4          0.637376            11.0  2802.582602   0.028834   \n",
       "\n",
       "   track_position_phi  track_position_r  track_position_x  track_position_y  \\\n",
       "0            1.502274        760.736764         52.086334        758.951538   \n",
       "1            3.114234        750.392212       -750.111389         20.527435   \n",
       "2            1.845493        894.860060       -242.735580        861.309448   \n",
       "3            0.208227        592.861337        580.054932        122.559540   \n",
       "4            0.107869        943.479884        937.996155        101.575119   \n",
       "\n",
       "      track_pt  track_tx  track_ty  track_pseudoRapidity  track_hasUT  \\\n",
       "0   931.833411  0.176382  0.097257              2.305510        False   \n",
       "1  1308.485916 -0.224632  0.005455              2.198532        False   \n",
       "2  1041.913541 -0.216011  0.107804              2.128635        False   \n",
       "3   962.754168  0.386009  0.012077              1.679913        False   \n",
       "4  1098.949728  0.426080  0.012289              1.588467        False   \n",
       "\n",
       "   particle_isFullDownstream  \n",
       "0                      False  \n",
       "1                      False  \n",
       "2                      False  \n",
       "3                      False  \n",
       "4                      False  "
      ]
     },
     "execution_count": 7,
     "metadata": {},
     "output_type": "execute_result"
    }
   ],
   "source": [
    "completeData.head()"
   ]
  },
  {
   "cell_type": "code",
   "execution_count": 8,
   "id": "70636a70",
   "metadata": {},
   "outputs": [],
   "source": [
    "completeData=completeData.rename(columns={'particle_isFullDownstream':'Downstream'})"
   ]
  },
  {
   "cell_type": "code",
   "execution_count": 9,
   "id": "ab31a8e7",
   "metadata": {},
   "outputs": [],
   "source": [
    "file=uproot.recreate('/home/hashmi/Files/DataFolder/ParticleBoxData/CompleteData.root')\n",
    "file['Particle_Data']=completeData"
   ]
  },
  {
   "cell_type": "code",
   "execution_count": 10,
   "id": "6a239c44",
   "metadata": {},
   "outputs": [],
   "source": [
    "completeData.to_parquet('/home/hashmi/Files/DataFolder/ParticleBoxData/CompleteData.parquet',index=False)"
   ]
  }
 ],
 "metadata": {
  "kernelspec": {
   "display_name": "remote",
   "language": "python",
   "name": "remote"
  },
  "language_info": {
   "codemirror_mode": {
    "name": "ipython",
    "version": 3
   },
   "file_extension": ".py",
   "mimetype": "text/x-python",
   "name": "python",
   "nbconvert_exporter": "python",
   "pygments_lexer": "ipython3",
   "version": "3.8.12"
  }
 },
 "nbformat": 4,
 "nbformat_minor": 5
}

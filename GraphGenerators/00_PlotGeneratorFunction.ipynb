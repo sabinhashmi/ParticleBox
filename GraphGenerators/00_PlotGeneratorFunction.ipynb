{
 "cells": [
  {
   "cell_type": "code",
   "execution_count": 1,
   "id": "2117f285",
   "metadata": {},
   "outputs": [
    {
     "name": "stdout",
     "output_type": "stream",
     "text": [
      "Welcome to JupyROOT 6.22/02\n"
     ]
    }
   ],
   "source": [
    "import ROOT\n",
    "import uproot\n",
    "\n",
    "import warnings\n",
    "warnings.filterwarnings('ignore')\n",
    "\n",
    "\n",
    "import pandas as pd\n",
    "from imblearn.under_sampling import RandomUnderSampler\n",
    "from imblearn.over_sampling import SMOTE\n",
    "# sampler=SMOTE()\n",
    "sampler=RandomUnderSampler()\n",
    "\n",
    "%jsroot on"
   ]
  },
  {
   "cell_type": "code",
   "execution_count": 2,
   "id": "31cad5e7",
   "metadata": {},
   "outputs": [],
   "source": [
    "data=uproot.open('/home/hashmi/Files/DataFolder/ParticleBoxData/DownstreamData.root:Particle_Data')\n",
    "\n",
    "\n",
    "data=data.arrays(library='pd')\n",
    "data.drop('index',axis=1,inplace=True)\n",
    "data=data[data['track_p']<100e3]\n",
    "\n",
    "data.track_nLHCbIDs=data.track_nLHCbIDs.astype('int')\n",
    "\n",
    "sample=data.sample(frac=0.01,random_state=46)"
   ]
  },
  {
   "cell_type": "code",
   "execution_count": 3,
   "id": "ede927ec",
   "metadata": {},
   "outputs": [],
   "source": [
    "def PlotGenerator(legend_default,layer_default,variable_name,filename,lower,upper,title):\n",
    "    \n",
    "    canvas=ROOT.TCanvas()\n",
    "    \n",
    "    if legend_default==True:\n",
    "    \n",
    "        legend=ROOT.TLegend(0.6,0.8,0.89,0.89)\n",
    "    \n",
    "    else:\n",
    "        legend=ROOT.TLegend(0.45,0.8,0.1,0.89)\n",
    "        \n",
    "\n",
    "    text=ROOT.TPaveText(0.7,0.2,0.89,0.15, \"NDC\")\n",
    "\n",
    "    downPlot = ROOT.TH1D('','',100,lower,upper)\n",
    "    ghostPlot = ROOT.TH1D('','',100,lower,upper)\n",
    "    for index,row in sample.iterrows():\n",
    "        downPlot.Fill(row[variable_name],row['Downstream']==True)\n",
    "        ghostPlot.Fill(row[variable_name],row['Downstream']==False)\n",
    "\n",
    "\n",
    "\n",
    "    downPlot.SetStats(0)\n",
    "    ghostPlot.SetStats(0)\n",
    "\n",
    "    if layer_default==True:\n",
    "        \n",
    "        downPlot.SetFillColor(46)\n",
    "        downPlot.SetFillStyle(4050)\n",
    "        downPlot.Draw('HIST')\n",
    "\n",
    "\n",
    "        ghostPlot.SetFillColor(9)\n",
    "        ghostPlot.SetFillStyle(4050)\n",
    "        ghostPlot.Draw('HIST SAME')\n",
    "        \n",
    "    else:\n",
    "        \n",
    "\n",
    "        ghostPlot.SetFillColorAlpha(9,0.5)\n",
    "        ghostPlot.SetFillStyle(4050)\n",
    "        ghostPlot.Draw('HIST')\n",
    "        \n",
    "        \n",
    "        downPlot.SetFillColorAlpha(46,0.5)\n",
    "        downPlot.SetFillStyle(4050)\n",
    "        downPlot.Draw('HIST SAME')\n",
    "\n",
    "\n",
    "\n",
    "\n",
    "\n",
    "    text.AddText('LHCb Simulation')\n",
    "    text.SetBorderSize(1)\n",
    "\n",
    "\n",
    "    legend.AddEntry(ghostPlot,'Ghost Tracks','f')\n",
    "    legend.AddEntry(downPlot,'True Tracks','f')\n",
    "\n",
    "\n",
    "    ghostPlot.GetXaxis().SetTitle(title)\n",
    "    ghostPlot.GetXaxis().CenterTitle()\n",
    "    ghostPlot.GetXaxis().SetTitleOffset(1.3)\n",
    "    ghostPlot.GetXaxis().SetTitleFont(62)\n",
    "\n",
    "\n",
    "    legend.Draw()\n",
    "    text.Draw()\n",
    "    canvas.Draw()\n",
    "\n",
    "    return canvas.SaveAs(f\"./Plots/ParticleData/{filename}.png\")"
   ]
  },
  {
   "cell_type": "code",
   "execution_count": 4,
   "id": "fb4843ca",
   "metadata": {},
   "outputs": [
    {
     "name": "stdout",
     "output_type": "stream",
     "text": [
      "CPU times: user 1min 37s, sys: 540 ms, total: 1min 38s\n",
      "Wall time: 1min 37s\n"
     ]
    },
    {
     "name": "stderr",
     "output_type": "stream",
     "text": [
      "Info in <TCanvas::Print>: png file ./Plots/ParticleData/Chi2.png has been created\n",
      "Info in <TCanvas::Print>: png file ./Plots/ParticleData/Hits.png has been created\n",
      "Info in <TCanvas::Print>: png file ./Plots/ParticleData/Momentum.png has been created\n",
      "Info in <TCanvas::Print>: png file ./Plots/ParticleData/eta.png has been created\n",
      "Info in <TCanvas::Print>: png file ./Plots/ParticleData/X.png has been created\n",
      "Info in <TCanvas::Print>: png file ./Plots/ParticleData/Y.png has been created\n",
      "Info in <TCanvas::Print>: png file ./Plots/ParticleData/R.png has been created\n",
      "Info in <TCanvas::Print>: png file ./Plots/ParticleData/Tx.png has been created\n",
      "Info in <TCanvas::Print>: png file ./Plots/ParticleData/Ty.png has been created\n",
      "Info in <TCanvas::Print>: png file ./Plots/ParticleData/Pt.png has been created\n"
     ]
    }
   ],
   "source": [
    "%%time\n",
    "Chi2=PlotGenerator(True,False,'track_chi2PerDoF','Chi2',0,5,'#chi^{2}/ndf')\n",
    "\n",
    "Hits=PlotGenerator(False,False,'track_nLHCbIDs','Hits',8.5,13.5,'N_{Hits}')\n",
    "\n",
    "Momentum=PlotGenerator(True,False,'track_p','Momentum',0,60e3,'p[MeV/c^{2}]')\n",
    "\n",
    "eta=PlotGenerator(True,False,'track_pseudoRapidity','eta',0,12,'#eta')\n",
    "\n",
    "X=PlotGenerator(True,False,'track_position_x','X',-3500,3500,'x_{Ttrack} [mm]')\n",
    "\n",
    "Y=PlotGenerator(True,False,'track_position_y','Y',-2500,2500,'y_{Ttrack} [mm]')\n",
    "\n",
    "R=PlotGenerator(True,False,'track_position_r','R',0,3500,'r_{Ttrack} [mm]')\n",
    "\n",
    "Tx=PlotGenerator(True,False,'track_tx','Tx',-1.5,1.5,'t_{x}')\n",
    "\n",
    "Ty=PlotGenerator(True,False,'track_ty','Ty',-0.6,0.6,'t_{y}')\n",
    "\n",
    "Pt=PlotGenerator(True,False,'track_pt','Pt',0,8e3,'p_{T}[MeV/c^{2}]')"
   ]
  },
  {
   "cell_type": "code",
   "execution_count": null,
   "id": "2d63f166",
   "metadata": {},
   "outputs": [],
   "source": []
  }
 ],
 "metadata": {
  "kernelspec": {
   "display_name": "remote",
   "language": "python",
   "name": "remote"
  },
  "language_info": {
   "codemirror_mode": {
    "name": "ipython",
    "version": 3
   },
   "file_extension": ".py",
   "mimetype": "text/x-python",
   "name": "python",
   "nbconvert_exporter": "python",
   "pygments_lexer": "ipython3",
   "version": "3.8.12"
  }
 },
 "nbformat": 4,
 "nbformat_minor": 5
}

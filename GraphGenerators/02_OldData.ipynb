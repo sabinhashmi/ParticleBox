{
 "cells": [
  {
   "cell_type": "code",
   "execution_count": 1,
   "id": "2117f285",
   "metadata": {},
   "outputs": [
    {
     "name": "stdout",
     "output_type": "stream",
     "text": [
      "Welcome to JupyROOT 6.22/02\n"
     ]
    }
   ],
   "source": [
    "import ROOT\n",
    "\n",
    "from PlotGenerator import PlotGenerator\n",
    "from PlotGenerator import plot_fun\n",
    "\n",
    "import uproot\n",
    "\n",
    "import warnings\n",
    "warnings.filterwarnings('ignore')\n",
    "\n",
    "\n",
    "import pandas as pd\n",
    "from imblearn.under_sampling import RandomUnderSampler\n",
    "from imblearn.over_sampling import SMOTE\n",
    "# sampler=SMOTE()\n",
    "sampler=RandomUnderSampler()\n",
    "\n",
    "%jsroot on"
   ]
  },
  {
   "cell_type": "code",
   "execution_count": 2,
   "id": "6ca23468",
   "metadata": {},
   "outputs": [],
   "source": [
    "data=pd.read_csv('/home/hashmi/Files/DataFolder/DataFiles/Brunel_BdJPsiKs_MagU_30k.csv')\n",
    "\n",
    "\n",
    "data.drop(['Unnamed: 0', \n",
    "       'has_MCParticle_not_electron',\n",
    "       'is_downstream_reconstructible_not_electron', 'is_true_seed','seed_nbIT',\n",
    "          'seed_nLayers','seed_mva_value'],axis=1,inplace=True)\n",
    "data=data[data['seed_p']<100e3]\n",
    "data.rename(columns={'is_downstream_reconstructible':'Downstream'},inplace=True)\n",
    "\n",
    "\n",
    "\n",
    "features=['seed_chi2PerDoF', 'seed_p', 'seed_pt',\n",
    "       'seed_nLHCbIDs', 'seed_x', 'seed_y', 'seed_tx', 'seed_ty']"
   ]
  },
  {
   "cell_type": "code",
   "execution_count": 3,
   "id": "0d6bc2dc",
   "metadata": {},
   "outputs": [],
   "source": [
    "sample=data.sample(frac=0.01,random_state=46)"
   ]
  },
  {
   "cell_type": "code",
   "execution_count": 4,
   "id": "e3c77f42",
   "metadata": {
    "scrolled": false
   },
   "outputs": [],
   "source": [
    "# Save\n",
    "# file=uproot.recreate('/home/hashmi/Files/DataFolder/DataFiles/OldData.root')\n",
    "# file['Particle_Data']=data\n",
    "\n",
    "\n",
    "\n",
    "# # #Open\n",
    "# Data=ROOT.TFile('/home/hashmi/Files/DataFolder/DataFiles/OldData.root')\n",
    "# data_tree=Data.Particle_Data\n",
    "\n",
    "\n",
    "# dataCanvas=ROOT.TCanvas('Canvas','Canvas',1500,3000)\n",
    "# # legend=ROOT.TLegend()\n",
    "# dataCanvas.Divide(2,4)\n",
    "# for i,v in enumerate(features):\n",
    "#     dataCanvas.cd(i+1)\n",
    "#     plot_fun(data_tree,v)\n",
    "# dataCanvas.Draw()"
   ]
  },
  {
   "cell_type": "code",
   "execution_count": 5,
   "id": "d1632ef4",
   "metadata": {},
   "outputs": [
    {
     "name": "stdout",
     "output_type": "stream",
     "text": [
      "CPU times: user 21.2 s, sys: 101 ms, total: 21.3 s\n",
      "Wall time: 21.2 s\n"
     ]
    },
    {
     "name": "stderr",
     "output_type": "stream",
     "text": [
      "Info in <TCanvas::Print>: png file ./Plots/OldData/UnNormalized/Chi2.png has been created\n",
      "Info in <TCanvas::Print>: png file ./Plots/OldData/UnNormalized/Hits.png has been created\n",
      "Info in <TCanvas::Print>: png file ./Plots/OldData/UnNormalized/Momentum.png has been created\n",
      "Info in <TCanvas::Print>: png file ./Plots/OldData/UnNormalized/X.png has been created\n",
      "Info in <TCanvas::Print>: png file ./Plots/OldData/UnNormalized/Y.png has been created\n",
      "Info in <TCanvas::Print>: png file ./Plots/OldData/UnNormalized/Tx.png has been created\n",
      "Info in <TCanvas::Print>: png file ./Plots/OldData/UnNormalized/Ty.png has been created\n",
      "Info in <TCanvas::Print>: png file ./Plots/OldData/UnNormalized/Pt.png has been created\n"
     ]
    }
   ],
   "source": [
    "%%time\n",
    "#OldData\n",
    "Chi2=PlotGenerator(data=sample,legend_default=True,layer_default=True,\n",
    "                   variable_name='seed_chi2PerDoF',path_filename='OldData/UnNormalized/Chi2',\n",
    "                   lower=0,upper=9,title='#chi^{2}/ndf',normalization=False)\n",
    "\n",
    "Hits=PlotGenerator(data=sample,legend_default=True,layer_default=False,\n",
    "                   variable_name='seed_nLHCbIDs',path_filename='OldData/UnNormalized/Hits',\n",
    "                   lower=5,upper=35,title='N_{Hits}',normalization=False)\n",
    "\n",
    "Momentum=PlotGenerator(data=sample,legend_default=True,layer_default=True,\n",
    "                       variable_name='seed_p',path_filename='OldData/UnNormalized/Momentum',\n",
    "                       lower=0,upper=60e3,title='p[MeV/c^{2}]',normalization=False)\n",
    "\n",
    "\n",
    "X=PlotGenerator(data=sample,legend_default=True,layer_default=False,\n",
    "                variable_name='seed_x',path_filename='OldData/UnNormalized/X',\n",
    "                lower=-3500,upper=3500,title='x_{Ttrack} [mm]',normalization=False)\n",
    "\n",
    "Y=PlotGenerator(data=sample,legend_default=True,layer_default=False,\n",
    "                variable_name='seed_y',path_filename='OldData/UnNormalized/Y',\n",
    "                lower=-2500,upper=2500,title='y_{Ttrack} [mm]',normalization=False)\n",
    "\n",
    "\n",
    "\n",
    "Tx=PlotGenerator(data=sample,legend_default=True,layer_default=False,\n",
    "                 variable_name='seed_tx',path_filename='OldData/UnNormalized/Tx',\n",
    "                 lower=-1.5,upper=1.5,title='t_{x}',normalization=False)\n",
    "\n",
    "Ty=PlotGenerator(data=sample,legend_default=True,layer_default=False,\n",
    "                 variable_name='seed_ty',path_filename='OldData/UnNormalized/Ty',\n",
    "                 lower=-0.6,upper=0.6,title='t_{y}',normalization=False)\n",
    "\n",
    "Pt=PlotGenerator(data=sample,legend_default=True,layer_default=False,\n",
    "                 variable_name='seed_pt',path_filename='OldData/UnNormalized/Pt',\n",
    "                 lower=0,upper=8e3,title='p_{T}[MeV/c^{2}]',normalization=False)"
   ]
  },
  {
   "cell_type": "code",
   "execution_count": 6,
   "id": "84ad1dbf",
   "metadata": {},
   "outputs": [
    {
     "name": "stdout",
     "output_type": "stream",
     "text": [
      "CPU times: user 21 s, sys: 95 ms, total: 21.1 s\n",
      "Wall time: 21 s\n"
     ]
    },
    {
     "name": "stderr",
     "output_type": "stream",
     "text": [
      "Info in <TCanvas::Print>: png file ./Plots/OldData/Normalized/Chi2.png has been created\n",
      "Info in <TCanvas::Print>: png file ./Plots/OldData/Normalized/Hits.png has been created\n",
      "Info in <TCanvas::Print>: png file ./Plots/OldData/Normalized/Momentum.png has been created\n",
      "Info in <TCanvas::Print>: png file ./Plots/OldData/Normalized/X.png has been created\n",
      "Info in <TCanvas::Print>: png file ./Plots/OldData/Normalized/Y.png has been created\n",
      "Info in <TCanvas::Print>: png file ./Plots/OldData/Normalized/Tx.png has been created\n",
      "Info in <TCanvas::Print>: png file ./Plots/OldData/Normalized/Ty.png has been created\n",
      "Info in <TCanvas::Print>: png file ./Plots/OldData/Normalized/Pt.png has been created\n"
     ]
    }
   ],
   "source": [
    "%%time\n",
    "#OldData-Normalized\n",
    "Chi2=PlotGenerator(data=sample,legend_default=True,layer_default=True,\n",
    "                   variable_name='seed_chi2PerDoF',path_filename='OldData/Normalized/Chi2',\n",
    "                   lower=0,upper=9,title='#chi^{2}/ndf',normalization=True)\n",
    "\n",
    "Hits=PlotGenerator(data=sample,legend_default=True,layer_default=False,\n",
    "                   variable_name='seed_nLHCbIDs',path_filename='OldData/Normalized/Hits',\n",
    "                   lower=5,upper=35,title='N_{Hits}',normalization=True)\n",
    "\n",
    "Momentum=PlotGenerator(data=sample,legend_default=True,layer_default=False,\n",
    "                       variable_name='seed_p',path_filename='OldData/Normalized/Momentum',\n",
    "                       lower=0,upper=60e3,title='p[MeV/c^{2}]',normalization=True)\n",
    "\n",
    "\n",
    "X=PlotGenerator(data=sample,legend_default=True,layer_default=False,\n",
    "                variable_name='seed_x',path_filename='OldData/Normalized/X',\n",
    "                lower=-3500,upper=3500,title='x_{Ttrack} [mm]',normalization=True)\n",
    "\n",
    "Y=PlotGenerator(data=sample,legend_default=True,layer_default=False,\n",
    "                variable_name='seed_y',path_filename='OldData/Normalized/Y',\n",
    "                lower=-2500,upper=2500,title='y_{Ttrack} [mm]',normalization=True)\n",
    "\n",
    "\n",
    "\n",
    "Tx=PlotGenerator(data=sample,legend_default=True,layer_default=False,\n",
    "                 variable_name='seed_tx',path_filename='OldData/Normalized/Tx',\n",
    "                 lower=-1.5,upper=1.5,title='t_{x}',normalization=True)\n",
    "\n",
    "Ty=PlotGenerator(data=sample,legend_default=True,layer_default=False,\n",
    "                 variable_name='seed_ty',path_filename='OldData/Normalized/Ty',\n",
    "                 lower=-0.6,upper=0.6,title='t_{y}',normalization=True)\n",
    "\n",
    "Pt=PlotGenerator(data=sample,legend_default=True,layer_default=False,\n",
    "                 variable_name='seed_pt',path_filename='OldData/Normalized/Pt',\n",
    "                 lower=0,upper=8e3,title='p_{T}[MeV/c^{2}]',normalization=True)"
   ]
  }
 ],
 "metadata": {
  "kernelspec": {
   "display_name": "remote",
   "language": "python",
   "name": "remote"
  },
  "language_info": {
   "codemirror_mode": {
    "name": "ipython",
    "version": 3
   },
   "file_extension": ".py",
   "mimetype": "text/x-python",
   "name": "python",
   "nbconvert_exporter": "python",
   "pygments_lexer": "ipython3",
   "version": "3.8.12"
  }
 },
 "nbformat": 4,
 "nbformat_minor": 5
}

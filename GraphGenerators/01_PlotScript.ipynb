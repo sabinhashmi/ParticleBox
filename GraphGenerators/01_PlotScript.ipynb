{
 "cells": [
  {
   "cell_type": "code",
   "execution_count": 1,
   "id": "2117f285",
   "metadata": {},
   "outputs": [
    {
     "name": "stdout",
     "output_type": "stream",
     "text": [
      "Welcome to JupyROOT 6.22/02\n"
     ]
    }
   ],
   "source": [
    "from PlotGenerator import PlotGenerator\n",
    "\n",
    "import ROOT\n",
    "import uproot\n",
    "\n",
    "import warnings\n",
    "warnings.filterwarnings('ignore')\n",
    "\n",
    "\n",
    "import pandas as pd\n",
    "from imblearn.under_sampling import RandomUnderSampler\n",
    "from imblearn.over_sampling import SMOTE\n",
    "# sampler=SMOTE()\n",
    "sampler=RandomUnderSampler()\n",
    "\n",
    "\n",
    "\n",
    "%jsroot on"
   ]
  },
  {
   "cell_type": "code",
   "execution_count": 2,
   "id": "31cad5e7",
   "metadata": {},
   "outputs": [],
   "source": [
    "data=uproot.open('/home/hashmi/Files/DataFolder/ParticleBoxData/DownstreamData.root:Particle_Data')\n",
    "\n",
    "\n",
    "data=data.arrays(library='pd')\n",
    "data.drop('index',axis=1,inplace=True)\n",
    "data=data[data['track_p']<100e3]\n",
    "\n",
    "data.track_nLHCbIDs=data.track_nLHCbIDs.astype('int')\n",
    "\n",
    "sample=data.sample(frac=0.01,random_state=46)"
   ]
  },
  {
   "cell_type": "code",
   "execution_count": null,
   "id": "fb4843ca",
   "metadata": {},
   "outputs": [],
   "source": [
    "%%time\n",
    "#CompleteData\n",
    "\n",
    "\n",
    "Chi2=PlotGenerator(data=sample,legend_default=True,layer_default=False,\n",
    "                   variable_name='track_chi2PerDoF',path_filename='Data/Chi2',lower=0,\n",
    "                   upper=5,title='#chi^{2}/ndf',normalization=False)\n",
    "\n",
    "Hits=PlotGenerator(data=sample,legend_default=False,layer_default=False,\n",
    "                   variable_name='track_nLHCbIDs',path_filename='Data/Hits',lower=8.5,\n",
    "                   upper=13.5,title='N_{Hits}',normalization=False)\n",
    "\n",
    "Momentum=PlotGenerator(data=sample,legend_default=True,layer_default=False,\n",
    "                       variable_name='track_p',path_filename='Data/Momentum',lower=0,\n",
    "                       upper=60e3,title='p[MeV/c^{2}]',normalization=False)\n",
    "\n",
    "Eta=PlotGenerator(data=sample,legend_default=True,layer_default=False,\n",
    "                  variable_name='track_pseudoRapidity',path_filename='Data/Eta',lower=0,\n",
    "                  upper=12,title='#eta',normalization=False)\n",
    "\n",
    "X=PlotGenerator(data=sample,legend_default=True,layer_default=False,\n",
    "                variable_name='track_position_x',path_filename='Data/X',lower=-3500,\n",
    "                upper=3500,title='x_{Ttrack} [mm]',normalization=False)\n",
    "\n",
    "Y=PlotGenerator(data=sample,legend_default=True,layer_default=False,\n",
    "                variable_name='track_position_y',path_filename='Data/Y',lower=-2500,\n",
    "                upper=2500,title='y_{Ttrack} [mm]',normalization=False)\n",
    "\n",
    "R=PlotGenerator(data=sample,legend_default=True,layer_default=False,\n",
    "                variable_name='track_position_r',path_filename='Data/R',lower=0,\n",
    "                upper=3500,title='r_{Ttrack} [mm]',normalization=False)\n",
    "\n",
    "Tx=PlotGenerator(data=sample,legend_default=True,layer_default=False,\n",
    "                 variable_name='track_tx',path_filename='Data/Tx',lower=-1.5,\n",
    "                 upper=1.5,title='t_{x}',normalization=False)\n",
    "\n",
    "Ty=PlotGenerator(data=sample,legend_default=True,layer_default=False,\n",
    "                 variable_name='track_ty',path_filename='Data/Ty',lower=-0.6,\n",
    "                 upper=0.6,title='t_{y}',normalization=False)\n",
    "\n",
    "Pt=PlotGenerator(data=sample,legend_default=True,layer_default=False,\n",
    "                 variable_name='track_pt',path_filename='Data/Pt',lower=0,\n",
    "                 upper=8e3,title='p_{T}[MeV/c^{2}]',normalization=False)"
   ]
  },
  {
   "cell_type": "code",
   "execution_count": 4,
   "id": "21202cf4",
   "metadata": {},
   "outputs": [
    {
     "name": "stdout",
     "output_type": "stream",
     "text": [
      "CPU times: user 1min 40s, sys: 621 ms, total: 1min 40s\n",
      "Wall time: 1min 40s\n"
     ]
    },
    {
     "name": "stderr",
     "output_type": "stream",
     "text": [
      "Info in <TCanvas::Print>: png file ./Plots/DataNorm/Chi2.png has been created\n",
      "Info in <TCanvas::Print>: png file ./Plots/DataNorm/Hits.png has been created\n",
      "Info in <TCanvas::Print>: png file ./Plots/DataNorm/Momentum.png has been created\n",
      "Info in <TCanvas::Print>: png file ./Plots/DataNorm/Eta.png has been created\n",
      "Info in <TCanvas::Print>: png file ./Plots/DataNorm/X.png has been created\n",
      "Info in <TCanvas::Print>: png file ./Plots/DataNorm/Y.png has been created\n",
      "Info in <TCanvas::Print>: png file ./Plots/DataNorm/R.png has been created\n",
      "Info in <TCanvas::Print>: png file ./Plots/DataNorm/Tx.png has been created\n",
      "Info in <TCanvas::Print>: png file ./Plots/DataNorm/Ty.png has been created\n",
      "Info in <TCanvas::Print>: png file ./Plots/DataNorm/Pt.png has been created\n"
     ]
    }
   ],
   "source": [
    "%%time\n",
    "#CompleteData-Normalized\n",
    "\n",
    "Chi2=PlotGenerator(data=sample,legend_default=True,layer_default=True,\n",
    "                   variable_name='track_chi2PerDoF',path_filename='DataNorm/Chi2',lower=0,\n",
    "                   upper=5,title='#chi^{2}/ndf',normalization=True)\n",
    "\n",
    "Hits=PlotGenerator(data=sample,legend_default=False,layer_default=True,\n",
    "                   variable_name='track_nLHCbIDs',path_filename='DataNorm/Hits',lower=8.5,\n",
    "                   upper=13.5,title='N_{Hits}',normalization=True)\n",
    "\n",
    "Momentum=PlotGenerator(data=sample,legend_default=True,layer_default=True,\n",
    "                       variable_name='track_p',path_filename='DataNorm/Momentum',lower=0,\n",
    "                       upper=60e3,title='p[MeV/c^{2}]',normalization=True)\n",
    "\n",
    "Eta=PlotGenerator(data=sample,legend_default=True,layer_default=True,\n",
    "                  variable_name='track_pseudoRapidity',path_filename='DataNorm/Eta',lower=0,\n",
    "                  upper=12,title='#eta',normalization=True)\n",
    "\n",
    "X=PlotGenerator(data=sample,legend_default=True,layer_default=False,\n",
    "                variable_name='track_position_x',path_filename='DataNorm/X',lower=-3500,\n",
    "                upper=3500,title='x_{Ttrack} [mm]',normalization=True)\n",
    "\n",
    "Y=PlotGenerator(data=sample,legend_default=True,layer_default=False,\n",
    "                variable_name='track_position_y',path_filename='DataNorm/Y',lower=-2500,\n",
    "                upper=2500,title='y_{Ttrack} [mm]',normalization=True)\n",
    "\n",
    "R=PlotGenerator(data=sample,legend_default=True,layer_default=False,\n",
    "                variable_name='track_position_r',path_filename='DataNorm/R',lower=0,\n",
    "                upper=3500,title='r_{Ttrack} [mm]',normalization=True)\n",
    "\n",
    "Tx=PlotGenerator(data=sample,legend_default=True,layer_default=False,\n",
    "                 variable_name='track_tx',path_filename='DataNorm/Tx',lower=-1.5,\n",
    "                 upper=1.5,title='t_{x}',normalization=True)\n",
    "\n",
    "Ty=PlotGenerator(data=sample,legend_default=True,layer_default=False,\n",
    "                 variable_name='track_ty',path_filename='DataNorm/Ty',lower=-0.6,\n",
    "                 upper=0.6,title='t_{y}',normalization=True)\n",
    "\n",
    "Pt=PlotGenerator(data=sample,legend_default=True,layer_default=False,\n",
    "                 variable_name='track_pt',path_filename='DataNorm/Pt',lower=0,\n",
    "                 upper=8e3,title='p_{T}[MeV/c^{2}]',normalization=True)"
   ]
  },
  {
   "cell_type": "code",
   "execution_count": 5,
   "id": "2d63f166",
   "metadata": {},
   "outputs": [],
   "source": [
    "x=data.drop('Downstream',axis=1)\n",
    "y=data['Downstream']\n",
    "\n",
    "x,y=sampler.fit_resample(x,y)\n",
    "nData=pd.concat([x,y],axis=1)\n",
    "\n",
    "sample=nData.sample(frac=0.01,random_state=30)"
   ]
  },
  {
   "cell_type": "code",
   "execution_count": 6,
   "id": "e6d3f112",
   "metadata": {},
   "outputs": [
    {
     "name": "stdout",
     "output_type": "stream",
     "text": [
      "CPU times: user 47.2 s, sys: 291 ms, total: 47.5 s\n",
      "Wall time: 47.3 s\n"
     ]
    },
    {
     "name": "stderr",
     "output_type": "stream",
     "text": [
      "Info in <TCanvas::Print>: png file ./Plots/BalancedSample/Chi2.png has been created\n",
      "Info in <TCanvas::Print>: png file ./Plots/BalancedSample/Hits.png has been created\n",
      "Info in <TCanvas::Print>: png file ./Plots/BalancedSample/Momentum.png has been created\n",
      "Info in <TCanvas::Print>: png file ./Plots/BalancedSample/Eta.png has been created\n",
      "Info in <TCanvas::Print>: png file ./Plots/BalancedSample/X.png has been created\n",
      "Info in <TCanvas::Print>: png file ./Plots/BalancedSample/Y.png has been created\n",
      "Info in <TCanvas::Print>: png file ./Plots/BalancedSample/R.png has been created\n",
      "Info in <TCanvas::Print>: png file ./Plots/BalancedSample/Tx.png has been created\n",
      "Info in <TCanvas::Print>: png file ./Plots/BalancedSample/Ty.png has been created\n",
      "Info in <TCanvas::Print>: png file ./Plots/BalancedSample/Pt.png has been created\n"
     ]
    }
   ],
   "source": [
    "%%time\n",
    "#BalancedData\n",
    "\n",
    "Chi2=PlotGenerator(data=sample,legend_default=True,layer_default=True,\n",
    "                   variable_name='track_chi2PerDoF',path_filename='BalancedSample/Chi2',lower=0,\n",
    "                   upper=5,title='#chi^{2}/ndf',normalization=False)\n",
    "\n",
    "Hits=PlotGenerator(data=sample,legend_default=False,layer_default=True,\n",
    "                   variable_name='track_nLHCbIDs',path_filename='BalancedSample/Hits',lower=8.5,\n",
    "                   upper=13.5,title='N_{Hits}',normalization=False)\n",
    "\n",
    "Momentum=PlotGenerator(data=sample,legend_default=True,layer_default=True,\n",
    "                       variable_name='track_p',path_filename='BalancedSample/Momentum',lower=0,\n",
    "                       upper=60e3,title='p[MeV/c^{2}]',normalization=False)\n",
    "\n",
    "Eta=PlotGenerator(data=sample,legend_default=True,layer_default=True,\n",
    "                  variable_name='track_pseudoRapidity',path_filename='BalancedSample/Eta',lower=0,\n",
    "                  upper=12,title='#eta',normalization=False)\n",
    "\n",
    "X=PlotGenerator(data=sample,legend_default=True,layer_default=False,\n",
    "                variable_name='track_position_x',path_filename='BalancedSample/X',lower=-3800,\n",
    "                upper=3800,title='x_{Ttrack} [mm]',normalization=False)\n",
    "\n",
    "Y=PlotGenerator(data=sample,legend_default=True,layer_default=False,\n",
    "                variable_name='track_position_y',path_filename='BalancedSample/Y',lower=-2500,\n",
    "                upper=2500,title='y_{Ttrack} [mm]',normalization=False)\n",
    "\n",
    "R=PlotGenerator(data=sample,legend_default=True,layer_default=False,\n",
    "                variable_name='track_position_r',path_filename='BalancedSample/R',lower=0,\n",
    "                upper=3500,title='r_{Ttrack} [mm]',normalization=False)\n",
    "\n",
    "Tx=PlotGenerator(data=sample,legend_default=True,layer_default=False,\n",
    "                 variable_name='track_tx',path_filename='BalancedSample/Tx',lower=-1.5,\n",
    "                 upper=1.5,title='t_{x}',normalization=False)\n",
    "\n",
    "Ty=PlotGenerator(data=sample,legend_default=True,layer_default=False,\n",
    "                 variable_name='track_ty',path_filename='BalancedSample/Ty',lower=-0.6,\n",
    "                 upper=0.6,title='t_{y}',normalization=False)\n",
    "\n",
    "Pt=PlotGenerator(data=sample,legend_default=True,layer_default=False,\n",
    "                 variable_name='track_pt',path_filename='BalancedSample/Pt',lower=0,\n",
    "                 upper=8e3,title='p_{T}[MeV/c^{2}]',normalization=False)"
   ]
  },
  {
   "cell_type": "code",
   "execution_count": 7,
   "id": "f1d214a3",
   "metadata": {},
   "outputs": [
    {
     "name": "stdout",
     "output_type": "stream",
     "text": [
      "CPU times: user 47.2 s, sys: 283 ms, total: 47.5 s\n",
      "Wall time: 47.4 s\n"
     ]
    },
    {
     "name": "stderr",
     "output_type": "stream",
     "text": [
      "Info in <TCanvas::Print>: png file ./Plots/BalancedSampleNorm/Chi2.png has been created\n",
      "Info in <TCanvas::Print>: png file ./Plots/BalancedSampleNorm/Hits.png has been created\n",
      "Info in <TCanvas::Print>: png file ./Plots/BalancedSampleNorm/Momentum.png has been created\n",
      "Info in <TCanvas::Print>: png file ./Plots/BalancedSampleNorm/Eta.png has been created\n",
      "Info in <TCanvas::Print>: png file ./Plots/BalancedSampleNorm/X.png has been created\n",
      "Info in <TCanvas::Print>: png file ./Plots/BalancedSampleNorm/Y.png has been created\n",
      "Info in <TCanvas::Print>: png file ./Plots/BalancedSampleNorm/R.png has been created\n",
      "Info in <TCanvas::Print>: png file ./Plots/BalancedSampleNorm/Tx.png has been created\n",
      "Info in <TCanvas::Print>: png file ./Plots/BalancedSampleNorm/Ty.png has been created\n",
      "Info in <TCanvas::Print>: png file ./Plots/BalancedSampleNorm/Pt.png has been created\n"
     ]
    }
   ],
   "source": [
    "%%time\n",
    "#BalancedDataNorm\n",
    "\n",
    "Chi2=PlotGenerator(data=sample,legend_default=True,layer_default=True,\n",
    "                   variable_name='track_chi2PerDoF',path_filename='BalancedSampleNorm/Chi2',lower=0,\n",
    "                   upper=5,title='#chi^{2}/ndf',normalization=True)\n",
    "\n",
    "Hits=PlotGenerator(data=sample,legend_default=False,layer_default=True,\n",
    "                   variable_name='track_nLHCbIDs',path_filename='BalancedSampleNorm/Hits',lower=8.5,\n",
    "                   upper=13.5,title='N_{Hits}',normalization=True)\n",
    "\n",
    "Momentum=PlotGenerator(data=sample,legend_default=True,layer_default=True,\n",
    "                       variable_name='track_p',path_filename='BalancedSampleNorm/Momentum',lower=0,\n",
    "                       upper=60e3,title='p[MeV/c^{2}]',normalization=True)\n",
    "\n",
    "Eta=PlotGenerator(data=sample,legend_default=True,layer_default=True,\n",
    "                  variable_name='track_pseudoRapidity',path_filename='BalancedSampleNorm/Eta',lower=0,\n",
    "                  upper=12,title='#eta',normalization=True)\n",
    "\n",
    "X=PlotGenerator(data=sample,legend_default=True,layer_default=False,\n",
    "                variable_name='track_position_x',path_filename='BalancedSampleNorm/X',lower=-3800,\n",
    "                upper=3800,title='x_{Ttrack} [mm]',normalization=True)\n",
    "\n",
    "Y=PlotGenerator(data=sample,legend_default=True,layer_default=False,\n",
    "                variable_name='track_position_y',path_filename='BalancedSampleNorm/Y',lower=-2500,\n",
    "                upper=2500,title='y_{Ttrack} [mm]',normalization=True)\n",
    "\n",
    "R=PlotGenerator(data=sample,legend_default=True,layer_default=False,\n",
    "                variable_name='track_position_r',path_filename='BalancedSampleNorm/R',lower=0,\n",
    "                upper=3500,title='r_{Ttrack} [mm]',normalization=True)\n",
    "\n",
    "Tx=PlotGenerator(data=sample,legend_default=True,layer_default=False,\n",
    "                 variable_name='track_tx',path_filename='BalancedSampleNorm/Tx',lower=-2,\n",
    "                 upper=2,title='t_{x}',normalization=True)\n",
    "\n",
    "Ty=PlotGenerator(data=sample,legend_default=True,layer_default=False,\n",
    "                 variable_name='track_ty',path_filename='BalancedSampleNorm/Ty',lower=-0.6,\n",
    "                 upper=0.6,title='t_{y}',normalization=True)\n",
    "\n",
    "Pt=PlotGenerator(data=sample,legend_default=True,layer_default=False,\n",
    "                 variable_name='track_pt',path_filename='BalancedSampleNorm/Pt',lower=0,\n",
    "                 upper=8e3,title='p_{T}[MeV/c^{2}]',normalization=True)"
   ]
  }
 ],
 "metadata": {
  "kernelspec": {
   "display_name": "remote",
   "language": "python",
   "name": "remote"
  },
  "language_info": {
   "codemirror_mode": {
    "name": "ipython",
    "version": 3
   },
   "file_extension": ".py",
   "mimetype": "text/x-python",
   "name": "python",
   "nbconvert_exporter": "python",
   "pygments_lexer": "ipython3",
   "version": "3.8.12"
  }
 },
 "nbformat": 4,
 "nbformat_minor": 5
}

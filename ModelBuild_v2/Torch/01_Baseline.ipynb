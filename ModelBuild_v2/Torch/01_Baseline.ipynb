{
 "cells": [
  {
   "cell_type": "code",
   "execution_count": 13,
   "metadata": {},
   "outputs": [],
   "source": [
    "import torch\n",
    "import pandas as pd\n",
    "from sklearn.metrics import f1_score,roc_auc_score,accuracy_score,confusion_matrix\n",
    "from imblearn.combine import SMOTETomek\n",
    "overSampler=SMOTETomek()\n",
    "\n",
    "from sklearn.model_selection import train_test_split\n",
    "\n",
    "\n",
    "import torch.nn as nn\n",
    "from torch.utils.data import DataLoader,Dataset"
   ]
  },
  {
   "cell_type": "code",
   "execution_count": 14,
   "metadata": {},
   "outputs": [],
   "source": [
    "data=pd.read_parquet('/home/hashmi/Files/DataFolder/ParticleBoxData/DownstreamData.parquet')"
   ]
  },
  {
   "cell_type": "code",
   "execution_count": 15,
   "metadata": {},
   "outputs": [],
   "source": [
    "data=data[data['track_p']<100e3]\n",
    "data.track_nLHCbIDs=data.track_nLHCbIDs.astype('int')\n",
    "\n",
    "\n",
    "sample=data.sample(frac=0.01,random_state=46)\n",
    "\n",
    "x=sample.drop(['Downstream',],axis=1)\n",
    "y=sample['Downstream'].map({True:1,False:0})\n",
    "\n",
    "from sklearn.preprocessing import StandardScaler\n",
    "ss=StandardScaler()\n",
    "\n",
    "x=ss.fit_transform(x)\n"
   ]
  },
  {
   "cell_type": "code",
   "execution_count": 16,
   "metadata": {},
   "outputs": [],
   "source": [
    "x_train,x_test,y_train,y_test=train_test_split(x,y,shuffle=True,stratify=y,random_state=29,test_size=0.3)\n",
    "\n",
    "x_train,y_train=overSampler.fit_resample(X=x_train,y=y_train)"
   ]
  },
  {
   "cell_type": "code",
   "execution_count": 17,
   "metadata": {},
   "outputs": [],
   "source": [
    "class DataFun(Dataset):\n",
    "    def __init__(self,x_data,y_data):\n",
    "        self.x_data=x_data\n",
    "        self.y_data=y_data\n",
    "    def __getitem__(self,index):\n",
    "        return self.x_data[index],self.y_data[index]\n",
    "    def __len__(self):\n",
    "        return len(self.x_data)"
   ]
  },
  {
   "cell_type": "code",
   "execution_count": 18,
   "metadata": {},
   "outputs": [],
   "source": [
    "train_data=DataFun(torch.FloatTensor(x_train),torch.FloatTensor(y_train))"
   ]
  },
  {
   "cell_type": "code",
   "execution_count": 19,
   "metadata": {},
   "outputs": [],
   "source": [
    "train_loader=DataLoader(train_data,batch_size=4,shuffle=True)"
   ]
  },
  {
   "cell_type": "code",
   "execution_count": 52,
   "metadata": {},
   "outputs": [],
   "source": [
    "# class Network(nn.Module):\n",
    "#     def __init__(self,input_num,output_num):\n",
    "#         super(Network,self).__init__()\n",
    "#         self.layer1=nn.Linear(input_num,15)\n",
    "#         self.relu1=nn.ReLU()\n",
    "#         self.layer2=nn.Linear(15,output_num)\n",
    "#         self.sigmoid=nn.Sigmoid()\n",
    "\n",
    "#     def forward(self,x):\n",
    "#         output = self.layer1(x)\n",
    "#         output = self.relu1(output)\n",
    "#         output = self.layer2(output)\n",
    "#         output = self.sigmoid(output)\n",
    "#         return output\n",
    "\n",
    "# model = Network(12,1)"
   ]
  },
  {
   "cell_type": "code",
   "execution_count": 54,
   "metadata": {},
   "outputs": [],
   "source": [
    "class Network(nn.Module):\n",
    "    def __init__(self,input_num,output_num):\n",
    "        super(Network,self).__init__()\n",
    "        self.layer1=nn.Linear(input_num,256)\n",
    "        nn.init.kaiming_uniform_(self.layer1.weight,nonlinearity='relu')\n",
    "        self.layer2=nn.Linear(256,128)\n",
    "        nn.init.kaiming_uniform_(self.layer2.weight,nonlinearity='relu')\n",
    "        self.layer3=nn.Linear(128,64)\n",
    "        nn.init.kaiming_uniform_(self.layer3.weight,nonlinearity='relu')\n",
    "        self.out=nn.Linear(64,output_num)\n",
    "        nn.init.xavier_uniform_(self.out.weight)\n",
    "\n",
    "        self.relu = nn.ReLU()\n",
    "        self.dropout = nn.Dropout(p=0.2)\n",
    "        self.batchnorm1 = nn.BatchNorm1d(256)\n",
    "        self.batchnorm2 = nn.BatchNorm1d(128)\n",
    "        self.batchnorm3 = nn.BatchNorm1d(64)\n",
    "\n",
    "\n",
    "    def forward(self,x):\n",
    "        output = self.layer1(x)\n",
    "        output = self.relu(output)\n",
    "        output = self.batchnorm1(output)\n",
    "        output = self.layer2(output)\n",
    "        output = self.relu(output)\n",
    "        output = self.batchnorm2(output)\n",
    "        output = self.layer3(output)\n",
    "        output = self.relu(output)\n",
    "        output = self.batchnorm3(output)\n",
    "        output = self.dropout(output)\n",
    "        output = self.out(output)\n",
    "        return output\n",
    "\n",
    "model = Network(12,1)"
   ]
  },
  {
   "cell_type": "code",
   "execution_count": 55,
   "metadata": {},
   "outputs": [],
   "source": [
    "epoch = 10\n",
    "lr=0.01\n",
    "\n",
    "# criterion = nn.BCEWithLogitsLoss()\n",
    "criterion = nn.BCEWithLogitsLoss()\n",
    "\n",
    "# optimizer = torch.optim.Adam(params=model.parameters())\n",
    "optimizer = torch.optim.SGD(params=model.parameters(),lr=lr)"
   ]
  },
  {
   "cell_type": "code",
   "execution_count": 56,
   "metadata": {},
   "outputs": [],
   "source": [
    "# for epoch in range(1,epoch+1):\n",
    "\n",
    "#     epoch_loss = 0\n",
    "\n",
    "#     for x_batch,y_batch in train_loader:\n",
    "#         optimizer.zero_grad()\n",
    "#         y_predict = model(x_batch).detach()\n",
    "#         loss = criterion(y_batch.unsqueeze(1),y_predict)\n",
    "#         loss.backward()\n",
    "#         optimizer.step()\n",
    "#         # epoch_loss+=loss.item()\n",
    "#         # print(y_batch.unsqueeze(1))\n",
    "#         # print(y_predict.unsqueeze(1))\n",
    "#         # print(loss)\n",
    "#         break\n",
    "#     break\n",
    "#     # print(epoch,epoch_loss)"
   ]
  },
  {
   "cell_type": "code",
   "execution_count": 57,
   "metadata": {},
   "outputs": [
    {
     "name": "stdout",
     "output_type": "stream",
     "text": [
      "1 16695.517527014017\n",
      "2 16470.48873566091\n",
      "3 16345.794368833303\n",
      "4 16262.607172742486\n",
      "5 16206.313289627433\n",
      "6 16128.49496717751\n",
      "7 16108.285170122981\n",
      "8 16057.281342700124\n",
      "9 16036.96709547937\n"
     ]
    }
   ],
   "source": [
    "for epoch in range(1,10):\n",
    "\n",
    "    epoch_loss = 0\n",
    "\n",
    "    for x_batch,y_batch in train_loader:\n",
    "        out=model(x_batch)\n",
    "        loss=criterion(out,y_batch.unsqueeze(1))\n",
    "        loss.backward()\n",
    "        optimizer.step()\n",
    "        optimizer.zero_grad()\n",
    "        \n",
    "        epoch_loss+=loss.item()\n",
    "\n",
    "    print(epoch,epoch_loss)"
   ]
  },
  {
   "cell_type": "code",
   "execution_count": null,
   "metadata": {},
   "outputs": [],
   "source": [
    "1 16695.517527014017\n",
    "2 16470.48873566091\n",
    "3 16345.794368833303\n",
    "4 16262.607172742486\n",
    "5 16206.313289627433\n",
    "6 16128.49496717751\n",
    "7 16108.285170122981\n",
    "8 16057.281342700124\n",
    "9 16036.96709547937"
   ]
  }
 ],
 "metadata": {
  "interpreter": {
   "hash": "f0b5704e0753844c914e694f858654540ae357911934d72da4d907f6643f065e"
  },
  "kernelspec": {
   "display_name": "Python 3.8.12 ('remote')",
   "language": "python",
   "name": "python3"
  },
  "language_info": {
   "codemirror_mode": {
    "name": "ipython",
    "version": 3
   },
   "file_extension": ".py",
   "mimetype": "text/x-python",
   "name": "python",
   "nbconvert_exporter": "python",
   "pygments_lexer": "ipython3",
   "version": "3.8.12"
  },
  "orig_nbformat": 4
 },
 "nbformat": 4,
 "nbformat_minor": 2
}

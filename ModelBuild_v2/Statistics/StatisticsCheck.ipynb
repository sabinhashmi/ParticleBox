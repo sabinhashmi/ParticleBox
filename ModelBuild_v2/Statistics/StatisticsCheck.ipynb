{
 "cells": [
  {
   "cell_type": "code",
   "execution_count": 1,
   "metadata": {},
   "outputs": [
    {
     "name": "stderr",
     "output_type": "stream",
     "text": [
      "sh: sed: command not found\n",
      "ERROR in cling::CIFactory::createCI(): cannot extract standard library include paths!\n",
      "Invoking:\n",
      "  LC_ALL=C x86_64-conda-linux-gnu-c++  -O3 -DNDEBUG -xc++ -E -v /dev/null 2>&1 | sed -n -e '/^.include/,${' -e '/^ \\/.*++/p' -e '}'\n",
      "Results was:\n",
      "sh: sed: command not found\n",
      "With exit code 32512\n"
     ]
    },
    {
     "name": "stdout",
     "output_type": "stream",
     "text": [
      "Welcome to JupyROOT 6.22/02\n"
     ]
    },
    {
     "name": "stderr",
     "output_type": "stream",
     "text": [
      "sh: ldd: command not found\n"
     ]
    }
   ],
   "source": [
    "import pandas as pd\n",
    "\n",
    "from PlotGeneratorForMoore import PlotGenerator\n"
   ]
  },
  {
   "cell_type": "code",
   "execution_count": 2,
   "metadata": {},
   "outputs": [],
   "source": [
    "# data=pd.read_parquet('/home/hashmi/Files/DataFolder/ParticleBoxData/DownstreamData.parquet')\n",
    "\n",
    "\n",
    "# data=data[data['track_p']<100e3]\n",
    "\n",
    "# data.track_nLHCbIDs=data.track_nLHCbIDs.astype('int')\n",
    "\n",
    "# data['qOverP']=data.track_charge/data.track_p\n",
    "# data=data.drop(['track_charge','track_p'],axis=1)\n",
    "\n",
    "\n",
    "# sample=data.sample(frac=0.1,random_state=46)\n",
    "\n",
    "\n",
    "mooreData=pd.read_csv('/home/hashmi/Files/DumpFiles/MooreDataStatistics.csv',names=['p','chi2PerDoF','nlhcbID','phi','position_r','position_x','position_y','pt','tx','ty','pseudoRapidity','qOverP','probability'])\n",
    "\n"
   ]
  },
  {
   "cell_type": "code",
   "execution_count": 3,
   "metadata": {},
   "outputs": [],
   "source": [
    "mooreData['Downstream']=mooreData['probability']>0.5"
   ]
  },
  {
   "cell_type": "code",
   "execution_count": 4,
   "metadata": {},
   "outputs": [
    {
     "name": "stdout",
     "output_type": "stream",
     "text": [
      "(4172038, 14)\n"
     ]
    },
    {
     "data": {
      "text/html": [
       "<div>\n",
       "<style scoped>\n",
       "    .dataframe tbody tr th:only-of-type {\n",
       "        vertical-align: middle;\n",
       "    }\n",
       "\n",
       "    .dataframe tbody tr th {\n",
       "        vertical-align: top;\n",
       "    }\n",
       "\n",
       "    .dataframe thead th {\n",
       "        text-align: right;\n",
       "    }\n",
       "</style>\n",
       "<table border=\"1\" class=\"dataframe\">\n",
       "  <thead>\n",
       "    <tr style=\"text-align: right;\">\n",
       "      <th></th>\n",
       "      <th>p</th>\n",
       "      <th>chi2PerDoF</th>\n",
       "      <th>nlhcbID</th>\n",
       "      <th>phi</th>\n",
       "      <th>position_r</th>\n",
       "      <th>position_x</th>\n",
       "      <th>position_y</th>\n",
       "      <th>pt</th>\n",
       "      <th>tx</th>\n",
       "      <th>ty</th>\n",
       "      <th>pseudoRapidity</th>\n",
       "      <th>qOverP</th>\n",
       "      <th>probability</th>\n",
       "      <th>Downstream</th>\n",
       "    </tr>\n",
       "  </thead>\n",
       "  <tbody>\n",
       "    <tr>\n",
       "      <th>0</th>\n",
       "      <td>6594.30</td>\n",
       "      <td>0.440261</td>\n",
       "      <td>12</td>\n",
       "      <td>3.025260</td>\n",
       "      <td>547.490</td>\n",
       "      <td>-513.483</td>\n",
       "      <td>189.9480</td>\n",
       "      <td>1067.130</td>\n",
       "      <td>-0.162879</td>\n",
       "      <td>0.019034</td>\n",
       "      <td>2.50777</td>\n",
       "      <td>0.000152</td>\n",
       "      <td>0.651064</td>\n",
       "      <td>True</td>\n",
       "    </tr>\n",
       "    <tr>\n",
       "      <th>1</th>\n",
       "      <td>12317.20</td>\n",
       "      <td>0.221785</td>\n",
       "      <td>12</td>\n",
       "      <td>2.623130</td>\n",
       "      <td>535.355</td>\n",
       "      <td>-281.415</td>\n",
       "      <td>455.4240</td>\n",
       "      <td>1229.760</td>\n",
       "      <td>-0.087156</td>\n",
       "      <td>0.049724</td>\n",
       "      <td>2.99482</td>\n",
       "      <td>0.000081</td>\n",
       "      <td>0.390601</td>\n",
       "      <td>False</td>\n",
       "    </tr>\n",
       "    <tr>\n",
       "      <th>2</th>\n",
       "      <td>32450.50</td>\n",
       "      <td>0.241921</td>\n",
       "      <td>11</td>\n",
       "      <td>0.054911</td>\n",
       "      <td>196.639</td>\n",
       "      <td>195.005</td>\n",
       "      <td>25.3016</td>\n",
       "      <td>1371.050</td>\n",
       "      <td>0.042224</td>\n",
       "      <td>0.002321</td>\n",
       "      <td>3.85684</td>\n",
       "      <td>-0.000031</td>\n",
       "      <td>0.295679</td>\n",
       "      <td>False</td>\n",
       "    </tr>\n",
       "    <tr>\n",
       "      <th>3</th>\n",
       "      <td>44986.20</td>\n",
       "      <td>0.418784</td>\n",
       "      <td>12</td>\n",
       "      <td>0.906163</td>\n",
       "      <td>388.467</td>\n",
       "      <td>204.527</td>\n",
       "      <td>330.2660</td>\n",
       "      <td>2765.060</td>\n",
       "      <td>0.037981</td>\n",
       "      <td>0.048473</td>\n",
       "      <td>3.48149</td>\n",
       "      <td>-0.000022</td>\n",
       "      <td>0.788304</td>\n",
       "      <td>True</td>\n",
       "    </tr>\n",
       "    <tr>\n",
       "      <th>4</th>\n",
       "      <td>8053.74</td>\n",
       "      <td>0.226285</td>\n",
       "      <td>12</td>\n",
       "      <td>2.290460</td>\n",
       "      <td>815.293</td>\n",
       "      <td>134.258</td>\n",
       "      <td>804.1630</td>\n",
       "      <td>892.173</td>\n",
       "      <td>-0.073470</td>\n",
       "      <td>0.083823</td>\n",
       "      <td>2.89030</td>\n",
       "      <td>0.000124</td>\n",
       "      <td>0.531094</td>\n",
       "      <td>True</td>\n",
       "    </tr>\n",
       "  </tbody>\n",
       "</table>\n",
       "</div>"
      ],
      "text/plain": [
       "          p  chi2PerDoF  nlhcbID       phi  position_r  position_x  \\\n",
       "0   6594.30    0.440261       12  3.025260     547.490    -513.483   \n",
       "1  12317.20    0.221785       12  2.623130     535.355    -281.415   \n",
       "2  32450.50    0.241921       11  0.054911     196.639     195.005   \n",
       "3  44986.20    0.418784       12  0.906163     388.467     204.527   \n",
       "4   8053.74    0.226285       12  2.290460     815.293     134.258   \n",
       "\n",
       "   position_y        pt        tx        ty  pseudoRapidity    qOverP  \\\n",
       "0    189.9480  1067.130 -0.162879  0.019034         2.50777  0.000152   \n",
       "1    455.4240  1229.760 -0.087156  0.049724         2.99482  0.000081   \n",
       "2     25.3016  1371.050  0.042224  0.002321         3.85684 -0.000031   \n",
       "3    330.2660  2765.060  0.037981  0.048473         3.48149 -0.000022   \n",
       "4    804.1630   892.173 -0.073470  0.083823         2.89030  0.000124   \n",
       "\n",
       "   probability  Downstream  \n",
       "0     0.651064        True  \n",
       "1     0.390601       False  \n",
       "2     0.295679       False  \n",
       "3     0.788304        True  \n",
       "4     0.531094        True  "
      ]
     },
     "execution_count": 4,
     "metadata": {},
     "output_type": "execute_result"
    }
   ],
   "source": [
    "print(mooreData.shape)\n",
    "mooreData.head()"
   ]
  },
  {
   "cell_type": "code",
   "execution_count": 7,
   "metadata": {},
   "outputs": [],
   "source": [
    "#DataNorm\n",
    "\n",
    "Chi2=PlotGenerator(data=mooreData,legend_default=True,layer_default=True,\n",
    "                   variable_name='chi2PerDoF',path_filename='Chi2',lower=0,\n",
    "                   upper=5,title='#chi^{2}/ndf',normalization=True,nDivision=10)\n",
    "\n",
    "Hits=PlotGenerator(data=mooreData,legend_default=False,layer_default=True,\n",
    "                   variable_name='nlhcbID',path_filename='Hits',lower=8.5,\n",
    "                   upper=13.5,title='N_{Hits}',normalization=True,nDivision=5)\n",
    "\n",
    "Momentum=PlotGenerator(data=mooreData,legend_default=True,layer_default=True,\n",
    "                       variable_name='p',path_filename='Momentum',lower=0,\n",
    "                       upper=60e3,title='p[MeV/c^{2}]',normalization=True,nDivision=6)\n",
    "\n",
    "Eta=PlotGenerator(data=mooreData,legend_default=True,layer_default=True,\n",
    "                  variable_name='pseudoRapidity',path_filename='Eta',lower=0,\n",
    "                  upper=12,title='#eta',normalization=True,nDivision=6)\n",
    "\n",
    "X=PlotGenerator(data=mooreData,legend_default=True,layer_default=False,\n",
    "                variable_name='position_x',path_filename='X',lower=-3800,\n",
    "                upper=3800,title='x_{Ttrack} [mm]',normalization=True,nDivision=9)\n",
    "\n",
    "Y=PlotGenerator(data=mooreData,legend_default=True,layer_default=False,\n",
    "                variable_name='position_y',path_filename='Y',lower=-2500,\n",
    "                upper=2500,title='y_{Ttrack} [mm]',normalization=True,nDivision=11)\n",
    "\n",
    "R=PlotGenerator(data=mooreData,legend_default=True,layer_default=False,\n",
    "                variable_name='position_r',path_filename='R',lower=0,\n",
    "                upper=3500,title='r_{Ttrack} [mm]',normalization=True,nDivision=7)\n",
    "\n",
    "Tx=PlotGenerator(data=mooreData,legend_default=True,layer_default=False,\n",
    "                 variable_name='tx',path_filename='Tx',lower=-2,\n",
    "                 upper=2,title='t_{x}',normalization=True,nDivision=9)\n",
    "\n",
    "Ty=PlotGenerator(data=mooreData,legend_default=True,layer_default=False,\n",
    "                 variable_name='ty',path_filename='Ty',lower=-0.6,\n",
    "                 upper=0.6,title='t_{y}',normalization=True,nDivision=7)\n",
    "\n",
    "Pt=PlotGenerator(data=mooreData,legend_default=True,layer_default=False,\n",
    "                 variable_name='pt',path_filename='Pt',lower=0,\n",
    "                 upper=8e3,title='p_{T}[MeV/c^{2}]',normalization=False,nDivision=8)"
   ]
  },
  {
   "cell_type": "code",
   "execution_count": null,
   "metadata": {},
   "outputs": [],
   "source": []
  },
  {
   "cell_type": "code",
   "execution_count": null,
   "metadata": {},
   "outputs": [],
   "source": []
  }
 ],
 "metadata": {
  "interpreter": {
   "hash": "f0b5704e0753844c914e694f858654540ae357911934d72da4d907f6643f065e"
  },
  "kernelspec": {
   "display_name": "Python 3.8.12 ('remote': conda)",
   "language": "python",
   "name": "python3"
  },
  "language_info": {
   "codemirror_mode": {
    "name": "ipython",
    "version": 3
   },
   "file_extension": ".py",
   "mimetype": "text/x-python",
   "name": "python",
   "nbconvert_exporter": "python",
   "pygments_lexer": "ipython3",
   "version": "3.8.12"
  }
 },
 "nbformat": 4,
 "nbformat_minor": 2
}

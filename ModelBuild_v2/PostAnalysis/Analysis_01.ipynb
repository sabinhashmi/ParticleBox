{
 "cells": [
  {
   "cell_type": "code",
   "execution_count": null,
   "metadata": {},
   "outputs": [],
   "source": [
    "#This analysis is using MooreDumper and Dumping of Tracks (Std::Out)\n",
    "import uproot\n",
    "import pandas as pd"
   ]
  },
  {
   "cell_type": "code",
   "execution_count": null,
   "metadata": {},
   "outputs": [],
   "source": [
    "dsData=uproot.open('/home/hashmi/Files/Trigger/MCToolsMoorev53r4/DownstreamDumper_runNb_10452279_evtNb_59493.root:Particle_Data')\n",
    "gsData=uproot.open('/home/hashmi/Files/Trigger/MCToolsMoorev53r4/GhostDumper_runNb_10452279_evtNb_59493.root:Particle_Data')\n",
    "\n",
    "\n",
    "mooreData=pd.read_csv('/home/hashmi/Files/DumpFiles/MooreOutput.csv',names=['p','chi2PerDoF','nlhcbID','phi','position_r','position_x','position_y','pt','tx','ty','pseudoRapidity','qOverP','probability'])"
   ]
  },
  {
   "cell_type": "code",
   "execution_count": null,
   "metadata": {},
   "outputs": [],
   "source": [
    "gs=gsData.arrays(['track_charge', 'track_chi2', 'track_chi2PerDoF',\n",
    "       'track_nLHCbIDs', 'track_p', 'track_phi', 'track_position_phi',\n",
    "       'track_position_r', 'track_position_x', 'track_position_y',\n",
    "       'track_position_z', 'track_pt', 'track_tx', 'track_ty',\n",
    "       'track_pseudoRapidity'],library='pd')\n",
    "ds=dsData.arrays(['track_charge', 'track_chi2', 'track_chi2PerDoF',\n",
    "       'track_nLHCbIDs', 'track_p', 'track_phi', 'track_position_phi',\n",
    "       'track_position_r', 'track_position_x', 'track_position_y',\n",
    "       'track_position_z', 'track_pt', 'track_tx', 'track_ty',\n",
    "       'track_pseudoRapidity'],library='pd')       "
   ]
  },
  {
   "cell_type": "code",
   "execution_count": null,
   "metadata": {},
   "outputs": [],
   "source": [
    "mooreData.head()"
   ]
  },
  {
   "cell_type": "code",
   "execution_count": null,
   "metadata": {},
   "outputs": [],
   "source": [
    "ds.head()"
   ]
  },
  {
   "cell_type": "code",
   "execution_count": null,
   "metadata": {},
   "outputs": [],
   "source": [
    "mooreData.shape"
   ]
  },
  {
   "cell_type": "code",
   "execution_count": null,
   "metadata": {},
   "outputs": [],
   "source": [
    "ds.shape"
   ]
  },
  {
   "cell_type": "code",
   "execution_count": null,
   "metadata": {},
   "outputs": [],
   "source": [
    "gs.shape"
   ]
  }
 ],
 "metadata": {
  "interpreter": {
   "hash": "f0b5704e0753844c914e694f858654540ae357911934d72da4d907f6643f065e"
  },
  "kernelspec": {
   "display_name": "Python 3.8.12 ('remote')",
   "language": "python",
   "name": "python3"
  },
  "language_info": {
   "codemirror_mode": {
    "name": "ipython",
    "version": 3
   },
   "file_extension": ".py",
   "mimetype": "text/x-python",
   "name": "python",
   "nbconvert_exporter": "python",
   "pygments_lexer": "ipython3",
   "version": "3.8.12"
  },
  "orig_nbformat": 4
 },
 "nbformat": 4,
 "nbformat_minor": 2
}
